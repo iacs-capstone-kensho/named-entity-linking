{
 "cells": [
  {
   "cell_type": "code",
   "execution_count": 1,
   "metadata": {},
   "outputs": [],
   "source": [
    "import pandas as pd\n",
    "import numpy as np\n",
    "from IPython.display import display"
   ]
  },
  {
   "cell_type": "code",
   "execution_count": 17,
   "metadata": {},
   "outputs": [],
   "source": [
    "# read in data files\n",
    "# item_df = pd.read_csv(\"kensho-derived-wikimedia-data/item.csv\")\n",
    "# item_aliases_df = pd.read_csv(\"kensho-derived-wikimedia-data/item_aliases.csv\")\n",
    "item_df = pd.read_csv(\"kensho-derived-wikimedia-data/items_filtered.csv\")\n",
    "item_aliases_df = pd.read_csv(\"kensho-derived-wikimedia-data/item_aliases_filtered.csv\")\n",
    "page_df = pd.read_csv(\"kensho-derived-wikimedia-data/page.csv\")"
   ]
  },
  {
   "cell_type": "code",
   "execution_count": 18,
   "metadata": {},
   "outputs": [],
   "source": [
    "# sampling data from item_df and item_aliases_df\n",
    "item_df = item_df.dropna()\n",
    "item_aliases_df = item_aliases_df.dropna()"
   ]
  },
  {
   "cell_type": "code",
   "execution_count": 6,
   "metadata": {},
   "outputs": [],
   "source": [
    "sampled_items = item_df.sample(n = 10000, random_state=1)\n",
    "sampled_item_aliases = item_aliases_df.sample(n = 10000, random_state=1)"
   ]
  },
  {
   "cell_type": "code",
   "execution_count": 7,
   "metadata": {},
   "outputs": [
    {
     "data": {
      "text/html": [
       "<div>\n",
       "<style scoped>\n",
       "    .dataframe tbody tr th:only-of-type {\n",
       "        vertical-align: middle;\n",
       "    }\n",
       "\n",
       "    .dataframe tbody tr th {\n",
       "        vertical-align: top;\n",
       "    }\n",
       "\n",
       "    .dataframe thead th {\n",
       "        text-align: right;\n",
       "    }\n",
       "</style>\n",
       "<table border=\"1\" class=\"dataframe\">\n",
       "  <thead>\n",
       "    <tr style=\"text-align: right;\">\n",
       "      <th></th>\n",
       "      <th>item_id</th>\n",
       "      <th>en_label</th>\n",
       "      <th>en_description</th>\n",
       "    </tr>\n",
       "  </thead>\n",
       "  <tbody>\n",
       "    <tr>\n",
       "      <th>41077482</th>\n",
       "      <td>60541383</td>\n",
       "      <td>list of shipwrecks in August 1821</td>\n",
       "      <td>Wikimedia list article</td>\n",
       "    </tr>\n",
       "    <tr>\n",
       "      <th>17530739</th>\n",
       "      <td>26321418</td>\n",
       "      <td>Church Hill House</td>\n",
       "      <td>Harbledown and Rough Common, Canterbury, Kent,...</td>\n",
       "    </tr>\n",
       "    <tr>\n",
       "      <th>48529186</th>\n",
       "      <td>72564519</td>\n",
       "      <td>The disposition of paracetamol and its conjuga...</td>\n",
       "      <td>scientific article published on 01 January 1993</td>\n",
       "    </tr>\n",
       "    <tr>\n",
       "      <th>27487712</th>\n",
       "      <td>40668532</td>\n",
       "      <td>Pharmacokinetics of anidulafungin during album...</td>\n",
       "      <td>scientific article published on 31 March 2014</td>\n",
       "    </tr>\n",
       "    <tr>\n",
       "      <th>37899990</th>\n",
       "      <td>56125260</td>\n",
       "      <td>hypothetical protein MXF1_RS0110340</td>\n",
       "      <td>microbial gene found in Myxococcus xanthus DZF1</td>\n",
       "    </tr>\n",
       "  </tbody>\n",
       "</table>\n",
       "</div>"
      ],
      "text/plain": [
       "           item_id                                           en_label  \\\n",
       "41077482  60541383                  list of shipwrecks in August 1821   \n",
       "17530739  26321418                                  Church Hill House   \n",
       "48529186  72564519  The disposition of paracetamol and its conjuga...   \n",
       "27487712  40668532  Pharmacokinetics of anidulafungin during album...   \n",
       "37899990  56125260                hypothetical protein MXF1_RS0110340   \n",
       "\n",
       "                                             en_description  \n",
       "41077482                             Wikimedia list article  \n",
       "17530739  Harbledown and Rough Common, Canterbury, Kent,...  \n",
       "48529186    scientific article published on 01 January 1993  \n",
       "27487712      scientific article published on 31 March 2014  \n",
       "37899990    microbial gene found in Myxococcus xanthus DZF1  "
      ]
     },
     "execution_count": 7,
     "metadata": {},
     "output_type": "execute_result"
    }
   ],
   "source": [
    "sampled_items.head()"
   ]
  },
  {
   "cell_type": "code",
   "execution_count": 8,
   "metadata": {},
   "outputs": [
    {
     "data": {
      "text/html": [
       "<div>\n",
       "<style scoped>\n",
       "    .dataframe tbody tr th:only-of-type {\n",
       "        vertical-align: middle;\n",
       "    }\n",
       "\n",
       "    .dataframe tbody tr th {\n",
       "        vertical-align: top;\n",
       "    }\n",
       "\n",
       "    .dataframe thead th {\n",
       "        text-align: right;\n",
       "    }\n",
       "</style>\n",
       "<table border=\"1\" class=\"dataframe\">\n",
       "  <thead>\n",
       "    <tr style=\"text-align: right;\">\n",
       "      <th></th>\n",
       "      <th>item_id</th>\n",
       "      <th>en_alias</th>\n",
       "    </tr>\n",
       "  </thead>\n",
       "  <tbody>\n",
       "    <tr>\n",
       "      <th>5872190</th>\n",
       "      <td>56141708</td>\n",
       "      <td>MXF1_RS0131720</td>\n",
       "    </tr>\n",
       "    <tr>\n",
       "      <th>6591471</th>\n",
       "      <td>63016624</td>\n",
       "      <td>hypothetical protein</td>\n",
       "    </tr>\n",
       "    <tr>\n",
       "      <th>2703149</th>\n",
       "      <td>22299679</td>\n",
       "      <td>upregulation of phospholipid metabolism</td>\n",
       "    </tr>\n",
       "    <tr>\n",
       "      <th>5544924</th>\n",
       "      <td>47008716</td>\n",
       "      <td>Børge Gustav Bachmann</td>\n",
       "    </tr>\n",
       "    <tr>\n",
       "      <th>2898427</th>\n",
       "      <td>23093805</td>\n",
       "      <td>transposase/IS protein</td>\n",
       "    </tr>\n",
       "  </tbody>\n",
       "</table>\n",
       "</div>"
      ],
      "text/plain": [
       "          item_id                                 en_alias\n",
       "5872190  56141708                           MXF1_RS0131720\n",
       "6591471  63016624                     hypothetical protein\n",
       "2703149  22299679  upregulation of phospholipid metabolism\n",
       "5544924  47008716                    Børge Gustav Bachmann\n",
       "2898427  23093805                   transposase/IS protein"
      ]
     },
     "execution_count": 8,
     "metadata": {},
     "output_type": "execute_result"
    }
   ],
   "source": [
    "sampled_item_aliases.head()"
   ]
  },
  {
   "cell_type": "code",
   "execution_count": 9,
   "metadata": {},
   "outputs": [
    {
     "data": {
      "text/html": [
       "<div>\n",
       "<style scoped>\n",
       "    .dataframe tbody tr th:only-of-type {\n",
       "        vertical-align: middle;\n",
       "    }\n",
       "\n",
       "    .dataframe tbody tr th {\n",
       "        vertical-align: top;\n",
       "    }\n",
       "\n",
       "    .dataframe thead th {\n",
       "        text-align: right;\n",
       "    }\n",
       "</style>\n",
       "<table border=\"1\" class=\"dataframe\">\n",
       "  <thead>\n",
       "    <tr style=\"text-align: right;\">\n",
       "      <th></th>\n",
       "      <th>page_id</th>\n",
       "      <th>item_id</th>\n",
       "      <th>title</th>\n",
       "      <th>views</th>\n",
       "    </tr>\n",
       "  </thead>\n",
       "  <tbody>\n",
       "    <tr>\n",
       "      <th>0</th>\n",
       "      <td>12</td>\n",
       "      <td>6199</td>\n",
       "      <td>Anarchism</td>\n",
       "      <td>31335</td>\n",
       "    </tr>\n",
       "    <tr>\n",
       "      <th>1</th>\n",
       "      <td>25</td>\n",
       "      <td>38404</td>\n",
       "      <td>Autism</td>\n",
       "      <td>49693</td>\n",
       "    </tr>\n",
       "    <tr>\n",
       "      <th>2</th>\n",
       "      <td>39</td>\n",
       "      <td>101038</td>\n",
       "      <td>Albedo</td>\n",
       "      <td>14573</td>\n",
       "    </tr>\n",
       "    <tr>\n",
       "      <th>3</th>\n",
       "      <td>290</td>\n",
       "      <td>9659</td>\n",
       "      <td>A</td>\n",
       "      <td>25859</td>\n",
       "    </tr>\n",
       "    <tr>\n",
       "      <th>4</th>\n",
       "      <td>303</td>\n",
       "      <td>173</td>\n",
       "      <td>Alabama</td>\n",
       "      <td>52765</td>\n",
       "    </tr>\n",
       "  </tbody>\n",
       "</table>\n",
       "</div>"
      ],
      "text/plain": [
       "   page_id  item_id      title  views\n",
       "0       12     6199  Anarchism  31335\n",
       "1       25    38404     Autism  49693\n",
       "2       39   101038     Albedo  14573\n",
       "3      290     9659          A  25859\n",
       "4      303      173    Alabama  52765"
      ]
     },
     "execution_count": 9,
     "metadata": {},
     "output_type": "execute_result"
    }
   ],
   "source": [
    "page_df.head()"
   ]
  },
  {
   "cell_type": "code",
   "execution_count": null,
   "metadata": {},
   "outputs": [],
   "source": [
    "# going through all the items and item_aliases\n",
    "\n",
    "def get_item_target(name, df):\n",
    "    dataframe = df[df['en_label']==name]\n",
    "        \n",
    "    final_view_df = pd.DataFrame(columns = df.columns)\n",
    "    item_ids = list(dataframe['item_id'])\n",
    "    views = []\n",
    "    for item_id in item_ids:\n",
    "        view_df = page_df[page_df['item_id'] == item_id]\n",
    "        final_view_df = pd.concat([final_view_df, view_df])\n",
    "    views = list(final_view_df['views'])\n",
    "    if len(views) != 0:\n",
    "        max_view = max(views)\n",
    "        target = list(final_view_df[final_view_df['views'] == max_view]['page_id'])[0]\n",
    "        return target\n",
    "\n",
    "def get_alias_target(name, df):\n",
    "    dataframe = df[df['en_alias']==name]\n",
    "        \n",
    "    final_view_df = pd.DataFrame(columns = df.columns)\n",
    "    item_ids = list(dataframe['item_id'])\n",
    "    views = []\n",
    "    for item_id in item_ids:\n",
    "        view_df = page_df[page_df['item_id'] == item_id]\n",
    "        final_view_df = pd.concat([final_view_df, view_df])\n",
    "    views = list(final_view_df['views'])\n",
    "    if len(views) != 0:\n",
    "        max_view = max(views)\n",
    "        target = list(final_view_df[final_view_df['views'] == max_view]['page_id'])[0]\n",
    "        return target\n",
    "\n",
    "predicted_dict = {}\n",
    "\n",
    "item_names = set(list(sampled_items['en_label'])+list(sampled_item_aliases['en_alias']))\n",
    "for name in item_names:\n",
    "    if name in set(list(sampled_items['en_label'])):\n",
    "        target = get_item_target(name, sampled_items)\n",
    "        predicted_dict.update({name: target})\n",
    "        \n",
    "    elif name in set(list(sampled_item_aliases['en_alias'])):\n",
    "        target = get_alias_target(name, sampled_item_aliases)\n",
    "        predicted_dict.update({name: target})"
   ]
  },
  {
   "cell_type": "code",
   "execution_count": null,
   "metadata": {},
   "outputs": [],
   "source": [
    "predicted_df = pd.DataFrame(predicted_dict.items(), columns=['entity name', 'page id'])\n",
    "predicted_df"
   ]
  },
  {
   "cell_type": "code",
   "execution_count": 71,
   "metadata": {},
   "outputs": [
    {
     "name": "stdout",
     "output_type": "stream",
     "text": [
      "Christmas Songs:\n"
     ]
    },
    {
     "data": {
      "text/html": [
       "<div>\n",
       "<style scoped>\n",
       "    .dataframe tbody tr th:only-of-type {\n",
       "        vertical-align: middle;\n",
       "    }\n",
       "\n",
       "    .dataframe tbody tr th {\n",
       "        vertical-align: top;\n",
       "    }\n",
       "\n",
       "    .dataframe thead th {\n",
       "        text-align: right;\n",
       "    }\n",
       "</style>\n",
       "<table border=\"1\" class=\"dataframe\">\n",
       "  <thead>\n",
       "    <tr style=\"text-align: right;\">\n",
       "      <th></th>\n",
       "      <th>page_id</th>\n",
       "      <th>item_id</th>\n",
       "      <th>title</th>\n",
       "      <th>views</th>\n",
       "    </tr>\n",
       "  </thead>\n",
       "  <tbody>\n",
       "    <tr>\n",
       "      <th>1513814</th>\n",
       "      <td>11909792</td>\n",
       "      <td>5111427</td>\n",
       "      <td>Christmas Songs (Jars of Clay album)</td>\n",
       "      <td>167</td>\n",
       "    </tr>\n",
       "  </tbody>\n",
       "</table>\n",
       "</div>"
      ],
      "text/plain": [
       "          page_id  item_id                                 title  views\n",
       "1513814  11909792  5111427  Christmas Songs (Jars of Clay album)    167"
      ]
     },
     "metadata": {},
     "output_type": "display_data"
    },
    {
     "data": {
      "text/html": [
       "<div>\n",
       "<style scoped>\n",
       "    .dataframe tbody tr th:only-of-type {\n",
       "        vertical-align: middle;\n",
       "    }\n",
       "\n",
       "    .dataframe tbody tr th {\n",
       "        vertical-align: top;\n",
       "    }\n",
       "\n",
       "    .dataframe thead th {\n",
       "        text-align: right;\n",
       "    }\n",
       "</style>\n",
       "<table border=\"1\" class=\"dataframe\">\n",
       "  <thead>\n",
       "    <tr style=\"text-align: right;\">\n",
       "      <th></th>\n",
       "      <th>item_id</th>\n",
       "      <th>en_label</th>\n",
       "      <th>en_description</th>\n",
       "    </tr>\n",
       "  </thead>\n",
       "  <tbody>\n",
       "    <tr>\n",
       "      <th>4075762</th>\n",
       "      <td>5111427</td>\n",
       "      <td>Christmas Songs</td>\n",
       "      <td>2007 studio album by Jars of Clay</td>\n",
       "    </tr>\n",
       "  </tbody>\n",
       "</table>\n",
       "</div>"
      ],
      "text/plain": [
       "         item_id         en_label                     en_description\n",
       "4075762  5111427  Christmas Songs  2007 studio album by Jars of Clay"
      ]
     },
     "metadata": {},
     "output_type": "display_data"
    }
   ],
   "source": [
    "# examples\n",
    "\n",
    "# sentence1 = \"Michael Jordan (born 1957) is an American scientist, professor, and leading researcher in machine learning and artificial intelligence.\"\n",
    "sentence = \"Christmas Songs is the eighth full-length studio album and first Christmas album from Jars of Clay, that was released on October 16, 2007 through Gray Matters/Nettwerk.\"\n",
    "\n",
    "candidates = [\"Christmas Songs\", \"Christmas album\", \"Jars of Clay\"]\n",
    "pool = list(predicted_dict.keys())\n",
    "for candidate in candidates:\n",
    "    if candidate in set(pool):\n",
    "        print(str(candidate)+\":\")\n",
    "        page_id = predicted_dict.get(candidate)\n",
    "        cand_df = page_df[page_df['page_id'] == page_id]\n",
    "        display(cand_df)\n",
    "        item_id = list(cand_df['item_id'])[0]\n",
    "        cand_item_df = item_df[item_df['item_id'] == item_id]\n",
    "        display(cand_item_df)\n"
   ]
  },
  {
   "cell_type": "markdown",
   "metadata": {},
   "source": [
    "### Test for Baseline Model"
   ]
  },
  {
   "cell_type": "code",
   "execution_count": 4,
   "metadata": {},
   "outputs": [],
   "source": [
    "# readin test data\n",
    "combined_entity_df = pd.read_csv(\"test_data/combined_entity.csv\")"
   ]
  },
  {
   "cell_type": "code",
   "execution_count": 5,
   "metadata": {},
   "outputs": [
    {
     "data": {
      "text/html": [
       "<div>\n",
       "<style scoped>\n",
       "    .dataframe tbody tr th:only-of-type {\n",
       "        vertical-align: middle;\n",
       "    }\n",
       "\n",
       "    .dataframe tbody tr th {\n",
       "        vertical-align: top;\n",
       "    }\n",
       "\n",
       "    .dataframe thead th {\n",
       "        text-align: right;\n",
       "    }\n",
       "</style>\n",
       "<table border=\"1\" class=\"dataframe\">\n",
       "  <thead>\n",
       "    <tr style=\"text-align: right;\">\n",
       "      <th></th>\n",
       "      <th>entity</th>\n",
       "      <th>page_id</th>\n",
       "      <th>text_id</th>\n",
       "    </tr>\n",
       "  </thead>\n",
       "  <tbody>\n",
       "    <tr>\n",
       "      <th>0</th>\n",
       "      <td>anti-authoritarian</td>\n",
       "      <td>867979</td>\n",
       "      <td>0</td>\n",
       "    </tr>\n",
       "    <tr>\n",
       "      <th>1</th>\n",
       "      <td>political</td>\n",
       "      <td>23040</td>\n",
       "      <td>0</td>\n",
       "    </tr>\n",
       "    <tr>\n",
       "      <th>2</th>\n",
       "      <td>social philosophy</td>\n",
       "      <td>586276</td>\n",
       "      <td>0</td>\n",
       "    </tr>\n",
       "    <tr>\n",
       "      <th>3</th>\n",
       "      <td>hierarchies</td>\n",
       "      <td>13998</td>\n",
       "      <td>0</td>\n",
       "    </tr>\n",
       "    <tr>\n",
       "      <th>4</th>\n",
       "      <td>self-managed</td>\n",
       "      <td>40949353</td>\n",
       "      <td>0</td>\n",
       "    </tr>\n",
       "  </tbody>\n",
       "</table>\n",
       "</div>"
      ],
      "text/plain": [
       "               entity   page_id  text_id\n",
       "0  anti-authoritarian    867979        0\n",
       "1           political     23040        0\n",
       "2   social philosophy    586276        0\n",
       "3         hierarchies     13998        0\n",
       "4        self-managed  40949353        0"
      ]
     },
     "execution_count": 5,
     "metadata": {},
     "output_type": "execute_result"
    }
   ],
   "source": [
    "combined_entity_df.head()"
   ]
  },
  {
   "cell_type": "code",
   "execution_count": 6,
   "metadata": {},
   "outputs": [],
   "source": [
    "combined_text_df = pd.read_csv(\"test_data/combined_text.csv\")"
   ]
  },
  {
   "cell_type": "code",
   "execution_count": 7,
   "metadata": {},
   "outputs": [
    {
     "data": {
      "text/html": [
       "<div>\n",
       "<style scoped>\n",
       "    .dataframe tbody tr th:only-of-type {\n",
       "        vertical-align: middle;\n",
       "    }\n",
       "\n",
       "    .dataframe tbody tr th {\n",
       "        vertical-align: top;\n",
       "    }\n",
       "\n",
       "    .dataframe thead th {\n",
       "        text-align: right;\n",
       "    }\n",
       "</style>\n",
       "<table border=\"1\" class=\"dataframe\">\n",
       "  <thead>\n",
       "    <tr style=\"text-align: right;\">\n",
       "      <th></th>\n",
       "      <th>text_id</th>\n",
       "      <th>text</th>\n",
       "    </tr>\n",
       "  </thead>\n",
       "  <tbody>\n",
       "    <tr>\n",
       "      <th>0</th>\n",
       "      <td>0</td>\n",
       "      <td>Anarchism is an anti-authoritarian political a...</td>\n",
       "    </tr>\n",
       "    <tr>\n",
       "      <th>1</th>\n",
       "      <td>1</td>\n",
       "      <td>Autism is a developmental disorder characteriz...</td>\n",
       "    </tr>\n",
       "    <tr>\n",
       "      <th>2</th>\n",
       "      <td>2</td>\n",
       "      <td>Albedo () (, meaning 'whiteness') is the measu...</td>\n",
       "    </tr>\n",
       "    <tr>\n",
       "      <th>3</th>\n",
       "      <td>3</td>\n",
       "      <td>A or a is the first letter and the first vowel...</td>\n",
       "    </tr>\n",
       "    <tr>\n",
       "      <th>4</th>\n",
       "      <td>4</td>\n",
       "      <td>Alabama () is a state in the southeastern regi...</td>\n",
       "    </tr>\n",
       "  </tbody>\n",
       "</table>\n",
       "</div>"
      ],
      "text/plain": [
       "   text_id                                               text\n",
       "0        0  Anarchism is an anti-authoritarian political a...\n",
       "1        1  Autism is a developmental disorder characteriz...\n",
       "2        2  Albedo () (, meaning 'whiteness') is the measu...\n",
       "3        3  A or a is the first letter and the first vowel...\n",
       "4        4  Alabama () is a state in the southeastern regi..."
      ]
     },
     "execution_count": 7,
     "metadata": {},
     "output_type": "execute_result"
    }
   ],
   "source": [
    "combined_text_df.head()"
   ]
  },
  {
   "cell_type": "code",
   "execution_count": 8,
   "metadata": {},
   "outputs": [],
   "source": [
    "single_entity_df = pd.read_csv(\"test_data/single_entity.csv\")"
   ]
  },
  {
   "cell_type": "code",
   "execution_count": 9,
   "metadata": {},
   "outputs": [
    {
     "data": {
      "text/html": [
       "<div>\n",
       "<style scoped>\n",
       "    .dataframe tbody tr th:only-of-type {\n",
       "        vertical-align: middle;\n",
       "    }\n",
       "\n",
       "    .dataframe tbody tr th {\n",
       "        vertical-align: top;\n",
       "    }\n",
       "\n",
       "    .dataframe thead th {\n",
       "        text-align: right;\n",
       "    }\n",
       "</style>\n",
       "<table border=\"1\" class=\"dataframe\">\n",
       "  <thead>\n",
       "    <tr style=\"text-align: right;\">\n",
       "      <th></th>\n",
       "      <th>entity</th>\n",
       "      <th>page_id</th>\n",
       "      <th>text_id</th>\n",
       "    </tr>\n",
       "  </thead>\n",
       "  <tbody>\n",
       "    <tr>\n",
       "      <th>0</th>\n",
       "      <td>anti-authoritarian</td>\n",
       "      <td>867979</td>\n",
       "      <td>0</td>\n",
       "    </tr>\n",
       "    <tr>\n",
       "      <th>1</th>\n",
       "      <td>political</td>\n",
       "      <td>23040</td>\n",
       "      <td>0</td>\n",
       "    </tr>\n",
       "    <tr>\n",
       "      <th>2</th>\n",
       "      <td>hierarchies</td>\n",
       "      <td>13998</td>\n",
       "      <td>0</td>\n",
       "    </tr>\n",
       "    <tr>\n",
       "      <th>3</th>\n",
       "      <td>self-managed</td>\n",
       "      <td>40949353</td>\n",
       "      <td>0</td>\n",
       "    </tr>\n",
       "    <tr>\n",
       "      <th>4</th>\n",
       "      <td>self-governed</td>\n",
       "      <td>191161</td>\n",
       "      <td>0</td>\n",
       "    </tr>\n",
       "  </tbody>\n",
       "</table>\n",
       "</div>"
      ],
      "text/plain": [
       "               entity   page_id  text_id\n",
       "0  anti-authoritarian    867979        0\n",
       "1           political     23040        0\n",
       "2         hierarchies     13998        0\n",
       "3        self-managed  40949353        0\n",
       "4       self-governed    191161        0"
      ]
     },
     "execution_count": 9,
     "metadata": {},
     "output_type": "execute_result"
    }
   ],
   "source": [
    "single_entity_df.head()"
   ]
  },
  {
   "cell_type": "code",
   "execution_count": 29,
   "metadata": {},
   "outputs": [
    {
     "data": {
      "text/html": [
       "<div>\n",
       "<style scoped>\n",
       "    .dataframe tbody tr th:only-of-type {\n",
       "        vertical-align: middle;\n",
       "    }\n",
       "\n",
       "    .dataframe tbody tr th {\n",
       "        vertical-align: top;\n",
       "    }\n",
       "\n",
       "    .dataframe thead th {\n",
       "        text-align: right;\n",
       "    }\n",
       "</style>\n",
       "<table border=\"1\" class=\"dataframe\">\n",
       "  <thead>\n",
       "    <tr style=\"text-align: right;\">\n",
       "      <th></th>\n",
       "      <th>entity</th>\n",
       "      <th>page_id</th>\n",
       "      <th>text_id</th>\n",
       "    </tr>\n",
       "  </thead>\n",
       "  <tbody>\n",
       "    <tr>\n",
       "      <th>7370448</th>\n",
       "      <td>1978 European Athletics Championships</td>\n",
       "      <td>1817534</td>\n",
       "      <td>816614</td>\n",
       "    </tr>\n",
       "    <tr>\n",
       "      <th>20507120</th>\n",
       "      <td>cricket</td>\n",
       "      <td>25675557</td>\n",
       "      <td>2731028</td>\n",
       "    </tr>\n",
       "    <tr>\n",
       "      <th>31577455</th>\n",
       "      <td>Butler County</td>\n",
       "      <td>94685</td>\n",
       "      <td>4632894</td>\n",
       "    </tr>\n",
       "    <tr>\n",
       "      <th>15312615</th>\n",
       "      <td>Poland</td>\n",
       "      <td>22936</td>\n",
       "      <td>1921098</td>\n",
       "    </tr>\n",
       "    <tr>\n",
       "      <th>25669126</th>\n",
       "      <td>National University of Sciences and Technology...</td>\n",
       "      <td>989013</td>\n",
       "      <td>3585620</td>\n",
       "    </tr>\n",
       "  </tbody>\n",
       "</table>\n",
       "</div>"
      ],
      "text/plain": [
       "                                                     entity   page_id  text_id\n",
       "7370448               1978 European Athletics Championships   1817534   816614\n",
       "20507120                                            cricket  25675557  2731028\n",
       "31577455                                      Butler County     94685  4632894\n",
       "15312615                                             Poland     22936  1921098\n",
       "25669126  National University of Sciences and Technology...    989013  3585620"
      ]
     },
     "execution_count": 29,
     "metadata": {},
     "output_type": "execute_result"
    }
   ],
   "source": [
    "# random sampling from test data\n",
    "\n",
    "sampled_entities = combined_entity_df.sample(n = 20000, random_state=1)\n",
    "sampled_entities.head()"
   ]
  },
  {
   "cell_type": "code",
   "execution_count": 21,
   "metadata": {},
   "outputs": [],
   "source": [
    "data_array = item_df.to_numpy()\n",
    "data_alias_array = item_aliases_df.to_numpy()\n",
    "page_array = page_df.to_numpy()"
   ]
  },
  {
   "cell_type": "code",
   "execution_count": 23,
   "metadata": {},
   "outputs": [],
   "source": [
    "# test data\n",
    "# change some dataframe into numpy arrays\n",
    "\n",
    "def get_item_target(name):\n",
    "    data_array_indices = np.where(data_array[:,1]==name)[0]\n",
    "    item_ids = data_array[:,0][list(data_array_indices)]\n",
    "    views = []\n",
    "    for item_id in item_ids:\n",
    "        page_array_indices = np.where(page_array[:,1]==item_id)[0]\n",
    "        view_array = page_array[list(page_array_indices)]\n",
    "        views.append(view_array)\n",
    "    views = np.array(views)[0]\n",
    "    views = np.asarray(views)\n",
    "    num_views = list(views[:,3])\n",
    "    if len(num_views) != 0:\n",
    "        max_view = max(num_views)\n",
    "        max_view_idx = num_views.index(max_view)\n",
    "        target = views[max_view_idx][0]\n",
    "        return target\n",
    "\n",
    "\n",
    "def get_alias_target(name):\n",
    "    data_array_indices = np.where(data_alias_array[:,1]==name)[0]\n",
    "\n",
    "    item_ids = data_alias_array[:,0][list(data_array_indices)]\n",
    "    views = []\n",
    "    for item_id in item_ids:\n",
    "        page_array_indices = np.where(page_array[:,1]==item_id)[0]\n",
    "        view_array = page_array[list(page_array_indices)]\n",
    "        views.append(view_array)\n",
    "\n",
    "    views = np.array(views)[0]\n",
    "    views = np.asarray(views)\n",
    "    num_views = list(views[:,3])\n",
    "    if len(num_views) != 0:\n",
    "        max_view = max(num_views)\n",
    "        max_view_idx = num_views.index(max_view)\n",
    "        target = views[max_view_idx][0]\n",
    "        return target\n"
   ]
  },
  {
   "cell_type": "code",
   "execution_count": 30,
   "metadata": {},
   "outputs": [],
   "source": [
    "total = 0\n",
    "correct = 0\n",
    "\n",
    "test_array = sampled_entities[['entity','page_id']].to_numpy()\n",
    "\n",
    "item_names = list(item_df['en_label'])\n",
    "alias_names = list(item_aliases_df['en_alias'])\n"
   ]
  },
  {
   "cell_type": "code",
   "execution_count": 31,
   "metadata": {},
   "outputs": [
    {
     "name": "stdout",
     "output_type": "stream",
     "text": [
      "0\n",
      "1000\n",
      "2000\n",
      "3000\n",
      "4000\n",
      "5000\n",
      "6000\n",
      "7000\n",
      "8000\n",
      "9000\n",
      "10000\n",
      "11000\n",
      "12000\n",
      "13000\n",
      "14000\n",
      "15000\n",
      "16000\n",
      "17000\n",
      "18000\n",
      "19000\n",
      "The accuracy rate for the baseline model is 0.6183\n"
     ]
    }
   ],
   "source": [
    "\n",
    "for i in range(len(test_array)):\n",
    "    if i%1000 == 0:\n",
    "        print(i)\n",
    "    name = test_array[i,0]\n",
    "    if name in item_names:\n",
    "        target = get_item_target(name)\n",
    "        if target == test_array[i,1]:\n",
    "            correct += 1\n",
    "        \n",
    "    elif name in alias_names:\n",
    "        target = get_alias_target(name)\n",
    "        if target == test_array[i,1]:\n",
    "            correct += 1\n",
    "    total += 1\n",
    "\n",
    "accuracy = correct/total\n",
    "print(\"The accuracy rate for the baseline model is\", accuracy)"
   ]
  },
  {
   "cell_type": "code",
   "execution_count": 25,
   "metadata": {},
   "outputs": [
    {
     "name": "stdout",
     "output_type": "stream",
     "text": [
      "A or a is the first letter and the first vowel letter of the modern English alphabet and the ISO basic Latin alphabet. Its name in English is (pronounced ), plural . It is similar in shape to the alpha, from which it derives. The uppercase version consists of the two slanting sides of a triangle, crossed in the middle by a horizontal bar. The lowercase version can be written in two forms: the double-storey a and single-storey ɑ. The latter is commonly used in handwriting and fonts based on it, especially fonts intended to be read by children, and is also found in italic type. In the English grammar, \"a\", and its variant \"an\", is an .\n"
     ]
    }
   ],
   "source": [
    "# example sentence\n",
    "text_id = 3\n",
    "sentence = list(combined_text_df[combined_text_df['text_id'] == text_id]['text'])[0]\n",
    "candidate_entities = list(combined_entity_df[combined_entity_df['text_id'] == text_id]['entity'])\n",
    "print(sentence)"
   ]
  },
  {
   "cell_type": "code",
   "execution_count": 26,
   "metadata": {},
   "outputs": [
    {
     "name": "stdout",
     "output_type": "stream",
     "text": [
      "['letter', 'vowel letter', 'modern English alphabet', 'ISO basic Latin alphabet', 'alpha', 'italic type']\n"
     ]
    }
   ],
   "source": [
    "print(candidate_entities)"
   ]
  },
  {
   "cell_type": "code",
   "execution_count": 43,
   "metadata": {},
   "outputs": [
    {
     "name": "stdout",
     "output_type": "stream",
     "text": [
      "letter\n",
      "Predicted entity:\n"
     ]
    },
    {
     "data": {
      "text/html": [
       "<div>\n",
       "<style scoped>\n",
       "    .dataframe tbody tr th:only-of-type {\n",
       "        vertical-align: middle;\n",
       "    }\n",
       "\n",
       "    .dataframe tbody tr th {\n",
       "        vertical-align: top;\n",
       "    }\n",
       "\n",
       "    .dataframe thead th {\n",
       "        text-align: right;\n",
       "    }\n",
       "</style>\n",
       "<table border=\"1\" class=\"dataframe\">\n",
       "  <thead>\n",
       "    <tr style=\"text-align: right;\">\n",
       "      <th></th>\n",
       "      <th>item_id</th>\n",
       "      <th>en_label</th>\n",
       "      <th>en_description</th>\n",
       "    </tr>\n",
       "  </thead>\n",
       "  <tbody>\n",
       "    <tr>\n",
       "      <th>9330</th>\n",
       "      <td>9788</td>\n",
       "      <td>letter</td>\n",
       "      <td>grapheme in an alphabetic system of writing</td>\n",
       "    </tr>\n",
       "  </tbody>\n",
       "</table>\n",
       "</div>"
      ],
      "text/plain": [
       "      item_id en_label                               en_description\n",
       "9330     9788   letter  grapheme in an alphabetic system of writing"
      ]
     },
     "metadata": {},
     "output_type": "display_data"
    },
    {
     "name": "stdout",
     "output_type": "stream",
     "text": [
      "Actual entity:\n"
     ]
    },
    {
     "data": {
      "text/html": [
       "<div>\n",
       "<style scoped>\n",
       "    .dataframe tbody tr th:only-of-type {\n",
       "        vertical-align: middle;\n",
       "    }\n",
       "\n",
       "    .dataframe tbody tr th {\n",
       "        vertical-align: top;\n",
       "    }\n",
       "\n",
       "    .dataframe thead th {\n",
       "        text-align: right;\n",
       "    }\n",
       "</style>\n",
       "<table border=\"1\" class=\"dataframe\">\n",
       "  <thead>\n",
       "    <tr style=\"text-align: right;\">\n",
       "      <th></th>\n",
       "      <th>item_id</th>\n",
       "      <th>en_label</th>\n",
       "      <th>en_description</th>\n",
       "    </tr>\n",
       "  </thead>\n",
       "  <tbody>\n",
       "    <tr>\n",
       "      <th>9330</th>\n",
       "      <td>9788</td>\n",
       "      <td>letter</td>\n",
       "      <td>grapheme in an alphabetic system of writing</td>\n",
       "    </tr>\n",
       "  </tbody>\n",
       "</table>\n",
       "</div>"
      ],
      "text/plain": [
       "      item_id en_label                               en_description\n",
       "9330     9788   letter  grapheme in an alphabetic system of writing"
      ]
     },
     "metadata": {},
     "output_type": "display_data"
    },
    {
     "name": "stdout",
     "output_type": "stream",
     "text": [
      "ISO basic Latin alphabet\n",
      "Predicted entity:\n"
     ]
    },
    {
     "data": {
      "text/html": [
       "<div>\n",
       "<style scoped>\n",
       "    .dataframe tbody tr th:only-of-type {\n",
       "        vertical-align: middle;\n",
       "    }\n",
       "\n",
       "    .dataframe tbody tr th {\n",
       "        vertical-align: top;\n",
       "    }\n",
       "\n",
       "    .dataframe thead th {\n",
       "        text-align: right;\n",
       "    }\n",
       "</style>\n",
       "<table border=\"1\" class=\"dataframe\">\n",
       "  <thead>\n",
       "    <tr style=\"text-align: right;\">\n",
       "      <th></th>\n",
       "      <th>item_id</th>\n",
       "      <th>en_label</th>\n",
       "      <th>en_description</th>\n",
       "    </tr>\n",
       "  </thead>\n",
       "  <tbody>\n",
       "    <tr>\n",
       "      <th>4765992</th>\n",
       "      <td>5974462</td>\n",
       "      <td>ISO basic Latin alphabet</td>\n",
       "      <td>alphabet consisting of 26 letters; identical t...</td>\n",
       "    </tr>\n",
       "  </tbody>\n",
       "</table>\n",
       "</div>"
      ],
      "text/plain": [
       "         item_id                  en_label  \\\n",
       "4765992  5974462  ISO basic Latin alphabet   \n",
       "\n",
       "                                            en_description  \n",
       "4765992  alphabet consisting of 26 letters; identical t...  "
      ]
     },
     "metadata": {},
     "output_type": "display_data"
    },
    {
     "name": "stdout",
     "output_type": "stream",
     "text": [
      "Actual entity:\n"
     ]
    },
    {
     "data": {
      "text/html": [
       "<div>\n",
       "<style scoped>\n",
       "    .dataframe tbody tr th:only-of-type {\n",
       "        vertical-align: middle;\n",
       "    }\n",
       "\n",
       "    .dataframe tbody tr th {\n",
       "        vertical-align: top;\n",
       "    }\n",
       "\n",
       "    .dataframe thead th {\n",
       "        text-align: right;\n",
       "    }\n",
       "</style>\n",
       "<table border=\"1\" class=\"dataframe\">\n",
       "  <thead>\n",
       "    <tr style=\"text-align: right;\">\n",
       "      <th></th>\n",
       "      <th>item_id</th>\n",
       "      <th>en_label</th>\n",
       "      <th>en_description</th>\n",
       "    </tr>\n",
       "  </thead>\n",
       "  <tbody>\n",
       "    <tr>\n",
       "      <th>4765992</th>\n",
       "      <td>5974462</td>\n",
       "      <td>ISO basic Latin alphabet</td>\n",
       "      <td>alphabet consisting of 26 letters; identical t...</td>\n",
       "    </tr>\n",
       "  </tbody>\n",
       "</table>\n",
       "</div>"
      ],
      "text/plain": [
       "         item_id                  en_label  \\\n",
       "4765992  5974462  ISO basic Latin alphabet   \n",
       "\n",
       "                                            en_description  \n",
       "4765992  alphabet consisting of 26 letters; identical t...  "
      ]
     },
     "metadata": {},
     "output_type": "display_data"
    },
    {
     "name": "stdout",
     "output_type": "stream",
     "text": [
      "alpha\n",
      "Predicted entity:\n"
     ]
    },
    {
     "data": {
      "text/html": [
       "<div>\n",
       "<style scoped>\n",
       "    .dataframe tbody tr th:only-of-type {\n",
       "        vertical-align: middle;\n",
       "    }\n",
       "\n",
       "    .dataframe tbody tr th {\n",
       "        vertical-align: top;\n",
       "    }\n",
       "\n",
       "    .dataframe thead th {\n",
       "        text-align: right;\n",
       "    }\n",
       "</style>\n",
       "<table border=\"1\" class=\"dataframe\">\n",
       "  <thead>\n",
       "    <tr style=\"text-align: right;\">\n",
       "      <th></th>\n",
       "      <th>item_id</th>\n",
       "      <th>en_alias</th>\n",
       "    </tr>\n",
       "  </thead>\n",
       "  <tbody>\n",
       "    <tr>\n",
       "      <th>367959</th>\n",
       "      <td>652798</td>\n",
       "      <td>alpha</td>\n",
       "    </tr>\n",
       "    <tr>\n",
       "      <th>367960</th>\n",
       "      <td>652798</td>\n",
       "      <td>script A</td>\n",
       "    </tr>\n",
       "    <tr>\n",
       "      <th>367961</th>\n",
       "      <td>652798</td>\n",
       "      <td>Latin script A</td>\n",
       "    </tr>\n",
       "    <tr>\n",
       "      <th>367962</th>\n",
       "      <td>652798</td>\n",
       "      <td>Latin alpha</td>\n",
       "    </tr>\n",
       "  </tbody>\n",
       "</table>\n",
       "</div>"
      ],
      "text/plain": [
       "        item_id        en_alias\n",
       "367959   652798           alpha\n",
       "367960   652798        script A\n",
       "367961   652798  Latin script A\n",
       "367962   652798     Latin alpha"
      ]
     },
     "metadata": {},
     "output_type": "display_data"
    },
    {
     "name": "stdout",
     "output_type": "stream",
     "text": [
      "Actual entity:\n"
     ]
    },
    {
     "data": {
      "text/html": [
       "<div>\n",
       "<style scoped>\n",
       "    .dataframe tbody tr th:only-of-type {\n",
       "        vertical-align: middle;\n",
       "    }\n",
       "\n",
       "    .dataframe tbody tr th {\n",
       "        vertical-align: top;\n",
       "    }\n",
       "\n",
       "    .dataframe thead th {\n",
       "        text-align: right;\n",
       "    }\n",
       "</style>\n",
       "<table border=\"1\" class=\"dataframe\">\n",
       "  <thead>\n",
       "    <tr style=\"text-align: right;\">\n",
       "      <th></th>\n",
       "      <th>item_id</th>\n",
       "      <th>en_alias</th>\n",
       "    </tr>\n",
       "  </thead>\n",
       "  <tbody>\n",
       "    <tr>\n",
       "      <th>19671</th>\n",
       "      <td>9887</td>\n",
       "      <td>α</td>\n",
       "    </tr>\n",
       "    <tr>\n",
       "      <th>19672</th>\n",
       "      <td>9887</td>\n",
       "      <td>Alpha</td>\n",
       "    </tr>\n",
       "    <tr>\n",
       "      <th>19673</th>\n",
       "      <td>9887</td>\n",
       "      <td>A</td>\n",
       "    </tr>\n",
       "  </tbody>\n",
       "</table>\n",
       "</div>"
      ],
      "text/plain": [
       "       item_id en_alias\n",
       "19671     9887        α\n",
       "19672     9887    Alpha\n",
       "19673     9887        A"
      ]
     },
     "metadata": {},
     "output_type": "display_data"
    }
   ],
   "source": [
    "\n",
    "for candidate in candidate_entities:\n",
    "    if candidate in item_names:\n",
    "        target = get_item_target(candidate)\n",
    "        if target is not None:\n",
    "            print(str(candidate))\n",
    "            target_item = list(page_df[page_df['page_id'] == target]['item_id'])[0]\n",
    "            print(\"Predicted entity:\")\n",
    "            display(item_df[item_df['item_id'] == target_item])\n",
    "            print(\"Actual entity:\")\n",
    "            actual_pre = combined_entity_df[combined_entity_df['text_id'] == text_id]\n",
    "            actual = list(actual_pre[actual_pre['entity'] == candidate]['page_id'])[0]\n",
    "            actual_item = list(page_df[page_df['page_id'] == actual]['item_id'])[0]\n",
    "            display(item_df[item_df['item_id'] == actual_item])\n",
    "    elif candidate in alias_names:\n",
    "        target = get_alias_target(candidate)\n",
    "        if target is not None:\n",
    "            print(str(candidate))\n",
    "            target_item = list(page_df[page_df['page_id'] == target]['item_id'])[0]\n",
    "            print(\"Predicted entity:\")\n",
    "            display(item_aliases_df[item_aliases_df['item_id'] == target_item])\n",
    "            print(\"Actual entity:\")\n",
    "            actual_pre = combined_entity_df[combined_entity_df['text_id'] == text_id]\n",
    "            actual = list(actual_pre[actual_pre['entity'] == candidate]['page_id'])[0]\n",
    "            actual_item = list(page_df[page_df['page_id'] == actual]['item_id'])[0]\n",
    "            display(item_aliases_df[item_aliases_df['item_id'] == actual_item])\n",
    "        "
   ]
  },
  {
   "cell_type": "code",
   "execution_count": 45,
   "metadata": {},
   "outputs": [
    {
     "name": "stdout",
     "output_type": "stream",
     "text": [
      "The Academy Award for Best Production Design recognizes achievement for art direction in . The category's original name was Best Art Direction, but was changed to its current name in 2012 for the 85th Academy Awards. This change resulted from the Art Director's branch of the Academy of Motion Picture Arts and Sciences (AMPAS) being renamed the Designer's branch. Since 1947, the award is shared with the set decorator(s). It is awarded to the best interior design in a film. The films below are listed with their production year (for example, the 2000 Academy Award for Best Art Direction is given to a film from 1999). In the lists below, the winner of the award for each year is shown first, followed by the other nominees in alphabetical order.\n",
      "Academy Award\n",
      "Predicted entity:\n"
     ]
    },
    {
     "data": {
      "text/html": [
       "<div>\n",
       "<style scoped>\n",
       "    .dataframe tbody tr th:only-of-type {\n",
       "        vertical-align: middle;\n",
       "    }\n",
       "\n",
       "    .dataframe tbody tr th {\n",
       "        vertical-align: top;\n",
       "    }\n",
       "\n",
       "    .dataframe thead th {\n",
       "        text-align: right;\n",
       "    }\n",
       "</style>\n",
       "<table border=\"1\" class=\"dataframe\">\n",
       "  <thead>\n",
       "    <tr style=\"text-align: right;\">\n",
       "      <th></th>\n",
       "      <th>item_id</th>\n",
       "      <th>en_label</th>\n",
       "      <th>en_description</th>\n",
       "    </tr>\n",
       "  </thead>\n",
       "  <tbody>\n",
       "    <tr>\n",
       "      <th>3714731</th>\n",
       "      <td>4671334</td>\n",
       "      <td>Academy Award</td>\n",
       "      <td>CBS radio anthology series</td>\n",
       "    </tr>\n",
       "  </tbody>\n",
       "</table>\n",
       "</div>"
      ],
      "text/plain": [
       "         item_id       en_label              en_description\n",
       "3714731  4671334  Academy Award  CBS radio anthology series"
      ]
     },
     "metadata": {},
     "output_type": "display_data"
    },
    {
     "name": "stdout",
     "output_type": "stream",
     "text": [
      "Actual entity:\n"
     ]
    },
    {
     "data": {
      "text/html": [
       "<div>\n",
       "<style scoped>\n",
       "    .dataframe tbody tr th:only-of-type {\n",
       "        vertical-align: middle;\n",
       "    }\n",
       "\n",
       "    .dataframe tbody tr th {\n",
       "        vertical-align: top;\n",
       "    }\n",
       "\n",
       "    .dataframe thead th {\n",
       "        text-align: right;\n",
       "    }\n",
       "</style>\n",
       "<table border=\"1\" class=\"dataframe\">\n",
       "  <thead>\n",
       "    <tr style=\"text-align: right;\">\n",
       "      <th></th>\n",
       "      <th>item_id</th>\n",
       "      <th>en_label</th>\n",
       "      <th>en_description</th>\n",
       "    </tr>\n",
       "  </thead>\n",
       "  <tbody>\n",
       "    <tr>\n",
       "      <th>18148</th>\n",
       "      <td>19020</td>\n",
       "      <td>Academy Awards</td>\n",
       "      <td>awards given annually for excellence of cinema...</td>\n",
       "    </tr>\n",
       "  </tbody>\n",
       "</table>\n",
       "</div>"
      ],
      "text/plain": [
       "       item_id        en_label  \\\n",
       "18148    19020  Academy Awards   \n",
       "\n",
       "                                          en_description  \n",
       "18148  awards given annually for excellence of cinema...  "
      ]
     },
     "metadata": {},
     "output_type": "display_data"
    },
    {
     "name": "stdout",
     "output_type": "stream",
     "text": [
      "85th Academy Awards\n",
      "Predicted entity:\n"
     ]
    },
    {
     "data": {
      "text/html": [
       "<div>\n",
       "<style scoped>\n",
       "    .dataframe tbody tr th:only-of-type {\n",
       "        vertical-align: middle;\n",
       "    }\n",
       "\n",
       "    .dataframe tbody tr th {\n",
       "        vertical-align: top;\n",
       "    }\n",
       "\n",
       "    .dataframe thead th {\n",
       "        text-align: right;\n",
       "    }\n",
       "</style>\n",
       "<table border=\"1\" class=\"dataframe\">\n",
       "  <thead>\n",
       "    <tr style=\"text-align: right;\">\n",
       "      <th></th>\n",
       "      <th>item_id</th>\n",
       "      <th>en_label</th>\n",
       "      <th>en_description</th>\n",
       "    </tr>\n",
       "  </thead>\n",
       "  <tbody>\n",
       "    <tr>\n",
       "      <th>220711</th>\n",
       "      <td>248688</td>\n",
       "      <td>85th Academy Awards</td>\n",
       "      <td>Award ceremony presented by the Academy of Mot...</td>\n",
       "    </tr>\n",
       "  </tbody>\n",
       "</table>\n",
       "</div>"
      ],
      "text/plain": [
       "        item_id             en_label  \\\n",
       "220711   248688  85th Academy Awards   \n",
       "\n",
       "                                           en_description  \n",
       "220711  Award ceremony presented by the Academy of Mot...  "
      ]
     },
     "metadata": {},
     "output_type": "display_data"
    },
    {
     "name": "stdout",
     "output_type": "stream",
     "text": [
      "Actual entity:\n"
     ]
    },
    {
     "data": {
      "text/html": [
       "<div>\n",
       "<style scoped>\n",
       "    .dataframe tbody tr th:only-of-type {\n",
       "        vertical-align: middle;\n",
       "    }\n",
       "\n",
       "    .dataframe tbody tr th {\n",
       "        vertical-align: top;\n",
       "    }\n",
       "\n",
       "    .dataframe thead th {\n",
       "        text-align: right;\n",
       "    }\n",
       "</style>\n",
       "<table border=\"1\" class=\"dataframe\">\n",
       "  <thead>\n",
       "    <tr style=\"text-align: right;\">\n",
       "      <th></th>\n",
       "      <th>item_id</th>\n",
       "      <th>en_label</th>\n",
       "      <th>en_description</th>\n",
       "    </tr>\n",
       "  </thead>\n",
       "  <tbody>\n",
       "    <tr>\n",
       "      <th>220711</th>\n",
       "      <td>248688</td>\n",
       "      <td>85th Academy Awards</td>\n",
       "      <td>Award ceremony presented by the Academy of Mot...</td>\n",
       "    </tr>\n",
       "  </tbody>\n",
       "</table>\n",
       "</div>"
      ],
      "text/plain": [
       "        item_id             en_label  \\\n",
       "220711   248688  85th Academy Awards   \n",
       "\n",
       "                                           en_description  \n",
       "220711  Award ceremony presented by the Academy of Mot...  "
      ]
     },
     "metadata": {},
     "output_type": "display_data"
    },
    {
     "name": "stdout",
     "output_type": "stream",
     "text": [
      "Academy of Motion Picture Arts and Sciences\n",
      "Predicted entity:\n"
     ]
    },
    {
     "data": {
      "text/html": [
       "<div>\n",
       "<style scoped>\n",
       "    .dataframe tbody tr th:only-of-type {\n",
       "        vertical-align: middle;\n",
       "    }\n",
       "\n",
       "    .dataframe tbody tr th {\n",
       "        vertical-align: top;\n",
       "    }\n",
       "\n",
       "    .dataframe thead th {\n",
       "        text-align: right;\n",
       "    }\n",
       "</style>\n",
       "<table border=\"1\" class=\"dataframe\">\n",
       "  <thead>\n",
       "    <tr style=\"text-align: right;\">\n",
       "      <th></th>\n",
       "      <th>item_id</th>\n",
       "      <th>en_label</th>\n",
       "      <th>en_description</th>\n",
       "    </tr>\n",
       "  </thead>\n",
       "  <tbody>\n",
       "    <tr>\n",
       "      <th>194000</th>\n",
       "      <td>212329</td>\n",
       "      <td>Academy of Motion Picture Arts and Sciences</td>\n",
       "      <td>professional honorary organization</td>\n",
       "    </tr>\n",
       "  </tbody>\n",
       "</table>\n",
       "</div>"
      ],
      "text/plain": [
       "        item_id                                     en_label  \\\n",
       "194000   212329  Academy of Motion Picture Arts and Sciences   \n",
       "\n",
       "                            en_description  \n",
       "194000  professional honorary organization  "
      ]
     },
     "metadata": {},
     "output_type": "display_data"
    },
    {
     "name": "stdout",
     "output_type": "stream",
     "text": [
      "Actual entity:\n"
     ]
    },
    {
     "data": {
      "text/html": [
       "<div>\n",
       "<style scoped>\n",
       "    .dataframe tbody tr th:only-of-type {\n",
       "        vertical-align: middle;\n",
       "    }\n",
       "\n",
       "    .dataframe tbody tr th {\n",
       "        vertical-align: top;\n",
       "    }\n",
       "\n",
       "    .dataframe thead th {\n",
       "        text-align: right;\n",
       "    }\n",
       "</style>\n",
       "<table border=\"1\" class=\"dataframe\">\n",
       "  <thead>\n",
       "    <tr style=\"text-align: right;\">\n",
       "      <th></th>\n",
       "      <th>item_id</th>\n",
       "      <th>en_label</th>\n",
       "      <th>en_description</th>\n",
       "    </tr>\n",
       "  </thead>\n",
       "  <tbody>\n",
       "    <tr>\n",
       "      <th>194000</th>\n",
       "      <td>212329</td>\n",
       "      <td>Academy of Motion Picture Arts and Sciences</td>\n",
       "      <td>professional honorary organization</td>\n",
       "    </tr>\n",
       "  </tbody>\n",
       "</table>\n",
       "</div>"
      ],
      "text/plain": [
       "        item_id                                     en_label  \\\n",
       "194000   212329  Academy of Motion Picture Arts and Sciences   \n",
       "\n",
       "                            en_description  \n",
       "194000  professional honorary organization  "
      ]
     },
     "metadata": {},
     "output_type": "display_data"
    },
    {
     "name": "stdout",
     "output_type": "stream",
     "text": [
      "1947\n",
      "Predicted entity:\n"
     ]
    },
    {
     "data": {
      "text/html": [
       "<div>\n",
       "<style scoped>\n",
       "    .dataframe tbody tr th:only-of-type {\n",
       "        vertical-align: middle;\n",
       "    }\n",
       "\n",
       "    .dataframe tbody tr th {\n",
       "        vertical-align: top;\n",
       "    }\n",
       "\n",
       "    .dataframe thead th {\n",
       "        text-align: right;\n",
       "    }\n",
       "</style>\n",
       "<table border=\"1\" class=\"dataframe\">\n",
       "  <thead>\n",
       "    <tr style=\"text-align: right;\">\n",
       "      <th></th>\n",
       "      <th>item_id</th>\n",
       "      <th>en_label</th>\n",
       "      <th>en_description</th>\n",
       "    </tr>\n",
       "  </thead>\n",
       "  <tbody>\n",
       "    <tr>\n",
       "      <th>4876</th>\n",
       "      <td>5263</td>\n",
       "      <td>1947</td>\n",
       "      <td>year</td>\n",
       "    </tr>\n",
       "  </tbody>\n",
       "</table>\n",
       "</div>"
      ],
      "text/plain": [
       "      item_id en_label en_description\n",
       "4876     5263     1947           year"
      ]
     },
     "metadata": {},
     "output_type": "display_data"
    },
    {
     "name": "stdout",
     "output_type": "stream",
     "text": [
      "Actual entity:\n"
     ]
    },
    {
     "data": {
      "text/html": [
       "<div>\n",
       "<style scoped>\n",
       "    .dataframe tbody tr th:only-of-type {\n",
       "        vertical-align: middle;\n",
       "    }\n",
       "\n",
       "    .dataframe tbody tr th {\n",
       "        vertical-align: top;\n",
       "    }\n",
       "\n",
       "    .dataframe thead th {\n",
       "        text-align: right;\n",
       "    }\n",
       "</style>\n",
       "<table border=\"1\" class=\"dataframe\">\n",
       "  <thead>\n",
       "    <tr style=\"text-align: right;\">\n",
       "      <th></th>\n",
       "      <th>item_id</th>\n",
       "      <th>en_label</th>\n",
       "      <th>en_description</th>\n",
       "    </tr>\n",
       "  </thead>\n",
       "  <tbody>\n",
       "    <tr>\n",
       "      <th>766359</th>\n",
       "      <td>917174</td>\n",
       "      <td>19th Academy Awards</td>\n",
       "      <td>Award ceremony presented by the Academy of Mot...</td>\n",
       "    </tr>\n",
       "  </tbody>\n",
       "</table>\n",
       "</div>"
      ],
      "text/plain": [
       "        item_id             en_label  \\\n",
       "766359   917174  19th Academy Awards   \n",
       "\n",
       "                                           en_description  \n",
       "766359  Award ceremony presented by the Academy of Mot...  "
      ]
     },
     "metadata": {},
     "output_type": "display_data"
    }
   ],
   "source": [
    "# example sentence\n",
    "\n",
    "text_id = 9\n",
    "sentence = list(combined_text_df[combined_text_df['text_id'] == text_id]['text'])[0]\n",
    "candidate_entities = list(combined_entity_df[combined_entity_df['text_id'] == text_id]['entity'])\n",
    "\n",
    "\n",
    "print(sentence)\n",
    "\n",
    "for candidate in candidate_entities:\n",
    "    if candidate in item_names:\n",
    "        target = get_item_target(candidate)\n",
    "        if target is not None:\n",
    "            print(str(candidate))\n",
    "            target_item = list(page_df[page_df['page_id'] == target]['item_id'])[0]\n",
    "            print(\"Predicted entity:\")\n",
    "            display(item_df[item_df['item_id'] == target_item])\n",
    "            print(\"Actual entity:\")\n",
    "            actual_pre = combined_entity_df[combined_entity_df['text_id'] == text_id]\n",
    "            actual = list(actual_pre[actual_pre['entity'] == candidate]['page_id'])[0]\n",
    "            actual_item = list(page_df[page_df['page_id'] == actual]['item_id'])[0]\n",
    "            display(item_df[item_df['item_id'] == actual_item])\n",
    "    elif candidate in alias_names:\n",
    "        target = get_alias_target(candidate)\n",
    "        if target is not None:\n",
    "            print(str(candidate))\n",
    "            target_item = list(page_df[page_df['page_id'] == target]['item_id'])[0]\n",
    "            print(\"Predicted entity:\")\n",
    "            display(item_aliases_df[item_aliases_df['item_id'] == target_item])\n",
    "            print(\"Actual entity:\")\n",
    "            actual_pre = combined_entity_df[combined_entity_df['text_id'] == text_id]\n",
    "            actual = list(actual_pre[actual_pre['entity'] == candidate]['page_id'])[0]\n",
    "            actual_item = list(page_df[page_df['page_id'] == actual]['item_id'])[0]\n",
    "            display(item_aliases_df[item_aliases_df['item_id'] == actual_item])\n",
    "        "
   ]
  },
  {
   "cell_type": "code",
   "execution_count": null,
   "metadata": {},
   "outputs": [],
   "source": []
  }
 ],
 "metadata": {
  "kernelspec": {
   "display_name": "Python 3",
   "language": "python",
   "name": "python3"
  },
  "language_info": {
   "codemirror_mode": {
    "name": "ipython",
    "version": 3
   },
   "file_extension": ".py",
   "mimetype": "text/x-python",
   "name": "python",
   "nbconvert_exporter": "python",
   "pygments_lexer": "ipython3",
   "version": "3.7.3"
  }
 },
 "nbformat": 4,
 "nbformat_minor": 2
}
