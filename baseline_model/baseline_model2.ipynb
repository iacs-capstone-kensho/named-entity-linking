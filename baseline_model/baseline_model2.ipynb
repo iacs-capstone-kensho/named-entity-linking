{
 "cells": [
  {
   "cell_type": "code",
   "execution_count": 1,
   "metadata": {},
   "outputs": [],
   "source": [
    "import pandas as pd\n",
    "import numpy as np\n",
    "import pickle"
   ]
  },
  {
   "cell_type": "code",
   "execution_count": 2,
   "metadata": {},
   "outputs": [
    {
     "name": "stdout",
     "output_type": "stream",
     "text": [
      "Wall time: 25 s\n"
     ]
    },
    {
     "data": {
      "text/html": [
       "<div>\n",
       "<style scoped>\n",
       "    .dataframe tbody tr th:only-of-type {\n",
       "        vertical-align: middle;\n",
       "    }\n",
       "\n",
       "    .dataframe tbody tr th {\n",
       "        vertical-align: top;\n",
       "    }\n",
       "\n",
       "    .dataframe thead th {\n",
       "        text-align: right;\n",
       "    }\n",
       "</style>\n",
       "<table border=\"1\" class=\"dataframe\">\n",
       "  <thead>\n",
       "    <tr style=\"text-align: right;\">\n",
       "      <th></th>\n",
       "      <th>entity</th>\n",
       "      <th>page_id</th>\n",
       "      <th>item_id</th>\n",
       "      <th>text_id</th>\n",
       "    </tr>\n",
       "  </thead>\n",
       "  <tbody>\n",
       "    <tr>\n",
       "      <th>0</th>\n",
       "      <td>anti-authoritarian</td>\n",
       "      <td>867979</td>\n",
       "      <td>1030234</td>\n",
       "      <td>0</td>\n",
       "    </tr>\n",
       "    <tr>\n",
       "      <th>1</th>\n",
       "      <td>political</td>\n",
       "      <td>23040</td>\n",
       "      <td>179805</td>\n",
       "      <td>0</td>\n",
       "    </tr>\n",
       "    <tr>\n",
       "      <th>2</th>\n",
       "      <td>social philosophy</td>\n",
       "      <td>586276</td>\n",
       "      <td>180592</td>\n",
       "      <td>0</td>\n",
       "    </tr>\n",
       "    <tr>\n",
       "      <th>3</th>\n",
       "      <td>hierarchies</td>\n",
       "      <td>13998</td>\n",
       "      <td>188619</td>\n",
       "      <td>0</td>\n",
       "    </tr>\n",
       "    <tr>\n",
       "      <th>4</th>\n",
       "      <td>self-managed</td>\n",
       "      <td>40949353</td>\n",
       "      <td>15981562</td>\n",
       "      <td>0</td>\n",
       "    </tr>\n",
       "    <tr>\n",
       "      <th>...</th>\n",
       "      <td>...</td>\n",
       "      <td>...</td>\n",
       "      <td>...</td>\n",
       "      <td>...</td>\n",
       "    </tr>\n",
       "    <tr>\n",
       "      <th>35195863</th>\n",
       "      <td>Tomasa Tequiero</td>\n",
       "      <td>39519608</td>\n",
       "      <td>6148330</td>\n",
       "      <td>5343559</td>\n",
       "    </tr>\n",
       "    <tr>\n",
       "      <th>35195864</th>\n",
       "      <td>Sos mi hombre</td>\n",
       "      <td>39950100</td>\n",
       "      <td>6132611</td>\n",
       "      <td>5343559</td>\n",
       "    </tr>\n",
       "    <tr>\n",
       "      <th>35195865</th>\n",
       "      <td>Luis Gatica</td>\n",
       "      <td>2099374</td>\n",
       "      <td>6316177</td>\n",
       "      <td>5343559</td>\n",
       "    </tr>\n",
       "    <tr>\n",
       "      <th>35195866</th>\n",
       "      <td>Lucho Gatica</td>\n",
       "      <td>2112544</td>\n",
       "      <td>954681</td>\n",
       "      <td>5343559</td>\n",
       "    </tr>\n",
       "    <tr>\n",
       "      <th>35195867</th>\n",
       "      <td>Mapita Cortés</td>\n",
       "      <td>2091936</td>\n",
       "      <td>3287238</td>\n",
       "      <td>5343559</td>\n",
       "    </tr>\n",
       "  </tbody>\n",
       "</table>\n",
       "<p>35195868 rows × 4 columns</p>\n",
       "</div>"
      ],
      "text/plain": [
       "                      entity   page_id   item_id  text_id\n",
       "0         anti-authoritarian    867979   1030234        0\n",
       "1                  political     23040    179805        0\n",
       "2          social philosophy    586276    180592        0\n",
       "3                hierarchies     13998    188619        0\n",
       "4               self-managed  40949353  15981562        0\n",
       "...                      ...       ...       ...      ...\n",
       "35195863     Tomasa Tequiero  39519608   6148330  5343559\n",
       "35195864       Sos mi hombre  39950100   6132611  5343559\n",
       "35195865         Luis Gatica   2099374   6316177  5343559\n",
       "35195866        Lucho Gatica   2112544    954681  5343559\n",
       "35195867       Mapita Cortés   2091936   3287238  5343559\n",
       "\n",
       "[35195868 rows x 4 columns]"
      ]
     },
     "execution_count": 2,
     "metadata": {},
     "output_type": "execute_result"
    }
   ],
   "source": [
    "%%time\n",
    "entity_df_full = pd.read_csv('combined_entities_full.csv')\n",
    "entity_df_full"
   ]
  },
  {
   "cell_type": "code",
   "execution_count": 3,
   "metadata": {},
   "outputs": [
    {
     "name": "stdout",
     "output_type": "stream",
     "text": [
      "Wall time: 20.7 s\n"
     ]
    },
    {
     "data": {
      "text/html": [
       "<div>\n",
       "<style scoped>\n",
       "    .dataframe tbody tr th:only-of-type {\n",
       "        vertical-align: middle;\n",
       "    }\n",
       "\n",
       "    .dataframe tbody tr th {\n",
       "        vertical-align: top;\n",
       "    }\n",
       "\n",
       "    .dataframe thead th {\n",
       "        text-align: right;\n",
       "    }\n",
       "</style>\n",
       "<table border=\"1\" class=\"dataframe\">\n",
       "  <thead>\n",
       "    <tr style=\"text-align: right;\">\n",
       "      <th></th>\n",
       "      <th>entity</th>\n",
       "      <th>page_id</th>\n",
       "      <th>item_id</th>\n",
       "      <th>text_id</th>\n",
       "    </tr>\n",
       "  </thead>\n",
       "  <tbody>\n",
       "    <tr>\n",
       "      <th>0</th>\n",
       "      <td>social philosophy</td>\n",
       "      <td>586276</td>\n",
       "      <td>180592</td>\n",
       "      <td>0</td>\n",
       "    </tr>\n",
       "    <tr>\n",
       "      <th>1</th>\n",
       "      <td>cooperative</td>\n",
       "      <td>89313</td>\n",
       "      <td>4539</td>\n",
       "      <td>0</td>\n",
       "    </tr>\n",
       "    <tr>\n",
       "      <th>2</th>\n",
       "      <td>far-left</td>\n",
       "      <td>18247344</td>\n",
       "      <td>1129409</td>\n",
       "      <td>0</td>\n",
       "    </tr>\n",
       "    <tr>\n",
       "      <th>3</th>\n",
       "      <td>political spectrum</td>\n",
       "      <td>23490</td>\n",
       "      <td>210918</td>\n",
       "      <td>0</td>\n",
       "    </tr>\n",
       "    <tr>\n",
       "      <th>4</th>\n",
       "      <td>collectivism</td>\n",
       "      <td>5708</td>\n",
       "      <td>237789</td>\n",
       "      <td>0</td>\n",
       "    </tr>\n",
       "    <tr>\n",
       "      <th>...</th>\n",
       "      <td>...</td>\n",
       "      <td>...</td>\n",
       "      <td>...</td>\n",
       "      <td>...</td>\n",
       "    </tr>\n",
       "    <tr>\n",
       "      <th>26712752</th>\n",
       "      <td>Tomasa Tequiero</td>\n",
       "      <td>39519608</td>\n",
       "      <td>6148330</td>\n",
       "      <td>5343559</td>\n",
       "    </tr>\n",
       "    <tr>\n",
       "      <th>26712753</th>\n",
       "      <td>Sos mi hombre</td>\n",
       "      <td>39950100</td>\n",
       "      <td>6132611</td>\n",
       "      <td>5343559</td>\n",
       "    </tr>\n",
       "    <tr>\n",
       "      <th>26712754</th>\n",
       "      <td>Luis Gatica</td>\n",
       "      <td>2099374</td>\n",
       "      <td>6316177</td>\n",
       "      <td>5343559</td>\n",
       "    </tr>\n",
       "    <tr>\n",
       "      <th>26712755</th>\n",
       "      <td>Lucho Gatica</td>\n",
       "      <td>2112544</td>\n",
       "      <td>954681</td>\n",
       "      <td>5343559</td>\n",
       "    </tr>\n",
       "    <tr>\n",
       "      <th>26712756</th>\n",
       "      <td>Mapita Cortés</td>\n",
       "      <td>2091936</td>\n",
       "      <td>3287238</td>\n",
       "      <td>5343559</td>\n",
       "    </tr>\n",
       "  </tbody>\n",
       "</table>\n",
       "<p>26712757 rows × 4 columns</p>\n",
       "</div>"
      ],
      "text/plain": [
       "                      entity   page_id  item_id  text_id\n",
       "0          social philosophy    586276   180592        0\n",
       "1                cooperative     89313     4539        0\n",
       "2                   far-left  18247344  1129409        0\n",
       "3         political spectrum     23490   210918        0\n",
       "4               collectivism      5708   237789        0\n",
       "...                      ...       ...      ...      ...\n",
       "26712752     Tomasa Tequiero  39519608  6148330  5343559\n",
       "26712753       Sos mi hombre  39950100  6132611  5343559\n",
       "26712754         Luis Gatica   2099374  6316177  5343559\n",
       "26712755        Lucho Gatica   2112544   954681  5343559\n",
       "26712756       Mapita Cortés   2091936  3287238  5343559\n",
       "\n",
       "[26712757 rows x 4 columns]"
      ]
     },
     "execution_count": 3,
     "metadata": {},
     "output_type": "execute_result"
    }
   ],
   "source": [
    "%%time\n",
    "#This dataset only contains entities that have a matching item and item_id in the dictionary\n",
    "entity_df_filtered = pd.read_csv('combined_entities_filtered.csv')\n",
    "entity_df_filtered"
   ]
  },
  {
   "cell_type": "code",
   "execution_count": 4,
   "metadata": {},
   "outputs": [
    {
     "name": "stdout",
     "output_type": "stream",
     "text": [
      "[163343, 478214, 765530, 1050485, 1428953, 1548225, 2384079, 2406220, 7705502, 19565583, 27701406, 31803712, 37251206, 56084926, 9036, 16258100]\n",
      "Wall time: 1min 56s\n"
     ]
    }
   ],
   "source": [
    "%%time\n",
    "item_dict = pickle.load(open(\"item_dict_full.p\", \"rb\"))\n",
    "print(item_dict['tesla'])"
   ]
  },
  {
   "cell_type": "code",
   "execution_count": 5,
   "metadata": {},
   "outputs": [
    {
     "name": "stdout",
     "output_type": "stream",
     "text": [
      "31335\n"
     ]
    }
   ],
   "source": [
    "item_views_dict = pickle.load(open(\"item_views.p\", \"rb\"))\n",
    "print(item_views_dict[6199])"
   ]
  },
  {
   "cell_type": "code",
   "execution_count": 195,
   "metadata": {},
   "outputs": [
    {
     "name": "stdout",
     "output_type": "stream",
     "text": [
      "Wall time: 519 ms\n"
     ]
    },
    {
     "data": {
      "text/plain": [
       "array([['Peshawar', 66230, 1113311, 764495],\n",
       "       ['Ajab Prem Ki Ghazab Kahani', 18279525, 2355787, 641511],\n",
       "       ['Alma mater', 7971721, 1357677, 545077],\n",
       "       ...,\n",
       "       ['English', 18803164, 42406, 1670888],\n",
       "       ['Fort Zeelandia (Taiwan)', 680757, 20706255, 2358275],\n",
       "       ['studio album', 528282, 482994, 4299804]], dtype=object)"
      ]
     },
     "execution_count": 195,
     "metadata": {},
     "output_type": "execute_result"
    }
   ],
   "source": [
    "%%time\n",
    "# Much faster than sampling using Pandas, can have duplicates\n",
    "\n",
    "def get_samples(n, dataframe, seed=None):\n",
    "    np.random.seed(seed)\n",
    "    idx = np.random.randint(len(dataframe), size=n)\n",
    "    samples = dataframe.iloc[idx,:].to_numpy()\n",
    "    return samples\n",
    "\n",
    "sampled_entities = get_samples(100000, entity_df_full)\n",
    "sampled_entities"
   ]
  },
  {
   "cell_type": "code",
   "execution_count": 196,
   "metadata": {},
   "outputs": [
    {
     "name": "stdout",
     "output_type": "stream",
     "text": [
      "Wall time: 3.02 s\n"
     ]
    },
    {
     "data": {
      "text/plain": [
       "array([['Scotland', 26994, 22, 1878185],\n",
       "       ['disclosed', 11586, 842234, 11942],\n",
       "       ['ICC', 381906, 722694, 2643619],\n",
       "       ...,\n",
       "       ['Tamarix gallica', 23263182, 164285, 4980280],\n",
       "       ['police', 23627, 35535, 579309],\n",
       "       ['Philips Consumer Electronics', 23550, 170416, 268512]],\n",
       "      dtype=object)"
      ]
     },
     "execution_count": 196,
     "metadata": {},
     "output_type": "execute_result"
    }
   ],
   "source": [
    "%%time\n",
    "sampled_entities = entity_df_full.sample(n=100000, replace=False).to_numpy()\n",
    "sampled_entities"
   ]
  },
  {
   "cell_type": "code",
   "execution_count": 206,
   "metadata": {},
   "outputs": [
    {
     "name": "stdout",
     "output_type": "stream",
     "text": [
      "[False, True, True, True, True, True, True, True, True, True, True, True, True, True, True, None, False, True, False, True, True, False, True, False, True, True, True, None, False, False, None, True, True, True, True, True, True, False, False, True, False, False, None, True, True, True, None, True, True, False, True, False, True, True, True, True, True, True, None, True, True, True, True, True, False, True, True, False, True, False, None, True, False, True, True, False, None, True, True, True, True, True, None, False, True, False, None, False, False, None, True, True, False, None, True, False, True, None, True, True]\n"
     ]
    }
   ],
   "source": [
    "def baseline_model(sample, skip=True):\n",
    "    candidate_ids = item_dict.get(sample[0].lower(), [])\n",
    "    true_id = sample[2]\n",
    "    #print(true_id, candidate_ids)\n",
    "    \n",
    "    #return false if there are no potential ids for a given entity name\n",
    "    if len(candidate_ids) == 0:\n",
    "        if skip:\n",
    "            return None\n",
    "        return False\n",
    "    \n",
    "    #if there is only one id then check if that id is a match\n",
    "    if len(candidate_ids) == 1:\n",
    "        return candidate_ids[0] == true_id\n",
    "    else:\n",
    "        view_list = [item_views_dict.get(i, 0) for i in candidate_ids]\n",
    "        candidate_id = candidate_ids[np.argmax(view_list)]\n",
    "        return candidate_id == true_id\n",
    "\n",
    "print([baseline_model(i, skip=True) for i in sampled_entities[:100]])"
   ]
  },
  {
   "cell_type": "code",
   "execution_count": 203,
   "metadata": {},
   "outputs": [
    {
     "name": "stdout",
     "output_type": "stream",
     "text": [
      "num_samples: 88056 accuracy: 0.7968111201962388\n",
      "num_samples: 87876 accuracy: 0.7941645045291092\n",
      "num_samples: 87736 accuracy: 0.7936308926780341\n",
      "num_samples: 88086 accuracy: 0.7951660876870331\n",
      "num_samples: 87771 accuracy: 0.7963222476672249\n",
      "num_samples: 87937 accuracy: 0.7953080045941981\n",
      "num_samples: 87869 accuracy: 0.7992010834310166\n",
      "num_samples: 88043 accuracy: 0.7975875424508478\n",
      "num_samples: 87946 accuracy: 0.7952720987878926\n",
      "num_samples: 87880 accuracy: 0.7983045061447428\n"
     ]
    }
   ],
   "source": [
    "def run_test(samples_per_test, iterations, skip=True):\n",
    "    for i in range(iterations):\n",
    "        sampled_entities = entity_df_full.sample(n=samples_per_test, replace=False).to_numpy()\n",
    "        results = [baseline_model(i, skip) for i in sampled_entities]\n",
    "        results = [i for i in results if i is not None] #only need to run this if skipping\n",
    "        print(f'num_samples: {len(results)} accuracy: {sum(results)/len(results)}')\n",
    "        \n",
    "run_test(100000, 10)"
   ]
  },
  {
   "cell_type": "code",
   "execution_count": 204,
   "metadata": {},
   "outputs": [
    {
     "name": "stdout",
     "output_type": "stream",
     "text": [
      "num_samples: 100000 accuracy: 0.69729\n",
      "num_samples: 100000 accuracy: 0.69849\n",
      "num_samples: 100000 accuracy: 0.69877\n",
      "num_samples: 100000 accuracy: 0.70079\n",
      "num_samples: 100000 accuracy: 0.70093\n",
      "num_samples: 100000 accuracy: 0.69958\n",
      "num_samples: 100000 accuracy: 0.70084\n",
      "num_samples: 100000 accuracy: 0.6988\n",
      "num_samples: 100000 accuracy: 0.69966\n",
      "num_samples: 100000 accuracy: 0.69691\n"
     ]
    }
   ],
   "source": [
    "run_test(100000, 10, skip=False)"
   ]
  }
 ],
 "metadata": {
  "kernelspec": {
   "display_name": "Python 3",
   "language": "python",
   "name": "python3"
  },
  "language_info": {
   "codemirror_mode": {
    "name": "ipython",
    "version": 3
   },
   "file_extension": ".py",
   "mimetype": "text/x-python",
   "name": "python",
   "nbconvert_exporter": "python",
   "pygments_lexer": "ipython3",
   "version": "3.7.7"
  }
 },
 "nbformat": 4,
 "nbformat_minor": 4
}
