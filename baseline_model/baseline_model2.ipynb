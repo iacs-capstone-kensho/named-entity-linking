{
 "cells": [
  {
   "cell_type": "code",
   "execution_count": 1,
   "metadata": {},
   "outputs": [],
   "source": [
    "import pandas as pd\n",
    "import numpy as np"
   ]
  },
  {
   "cell_type": "code",
   "execution_count": 2,
   "metadata": {},
   "outputs": [
    {
     "name": "stdout",
     "output_type": "stream",
     "text": [
      "CPU times: user 17.7 s, sys: 1.26 s, total: 19 s\n",
      "Wall time: 19 s\n"
     ]
    },
    {
     "data": {
      "text/html": [
       "<div>\n",
       "<style scoped>\n",
       "    .dataframe tbody tr th:only-of-type {\n",
       "        vertical-align: middle;\n",
       "    }\n",
       "\n",
       "    .dataframe tbody tr th {\n",
       "        vertical-align: top;\n",
       "    }\n",
       "\n",
       "    .dataframe thead th {\n",
       "        text-align: right;\n",
       "    }\n",
       "</style>\n",
       "<table border=\"1\" class=\"dataframe\">\n",
       "  <thead>\n",
       "    <tr style=\"text-align: right;\">\n",
       "      <th></th>\n",
       "      <th>entity</th>\n",
       "      <th>page_id</th>\n",
       "      <th>item_id</th>\n",
       "      <th>text_id</th>\n",
       "    </tr>\n",
       "  </thead>\n",
       "  <tbody>\n",
       "    <tr>\n",
       "      <th>0</th>\n",
       "      <td>anti-authoritarian</td>\n",
       "      <td>867979</td>\n",
       "      <td>1030234</td>\n",
       "      <td>12</td>\n",
       "    </tr>\n",
       "    <tr>\n",
       "      <th>1</th>\n",
       "      <td>political</td>\n",
       "      <td>23040</td>\n",
       "      <td>179805</td>\n",
       "      <td>12</td>\n",
       "    </tr>\n",
       "    <tr>\n",
       "      <th>2</th>\n",
       "      <td>social philosophy</td>\n",
       "      <td>586276</td>\n",
       "      <td>180592</td>\n",
       "      <td>12</td>\n",
       "    </tr>\n",
       "    <tr>\n",
       "      <th>3</th>\n",
       "      <td>hierarchies</td>\n",
       "      <td>13998</td>\n",
       "      <td>188619</td>\n",
       "      <td>12</td>\n",
       "    </tr>\n",
       "    <tr>\n",
       "      <th>4</th>\n",
       "      <td>self-managed</td>\n",
       "      <td>40949353</td>\n",
       "      <td>15981562</td>\n",
       "      <td>12</td>\n",
       "    </tr>\n",
       "    <tr>\n",
       "      <th>...</th>\n",
       "      <td>...</td>\n",
       "      <td>...</td>\n",
       "      <td>...</td>\n",
       "      <td>...</td>\n",
       "    </tr>\n",
       "    <tr>\n",
       "      <th>35840002</th>\n",
       "      <td>Carl Randall</td>\n",
       "      <td>40277554</td>\n",
       "      <td>16215506</td>\n",
       "      <td>62473330</td>\n",
       "    </tr>\n",
       "    <tr>\n",
       "      <th>35840003</th>\n",
       "      <td>The World Ends With You</td>\n",
       "      <td>6987282</td>\n",
       "      <td>1416303</td>\n",
       "      <td>62473330</td>\n",
       "    </tr>\n",
       "    <tr>\n",
       "      <th>35840004</th>\n",
       "      <td>2016 Summer Olympics closing ceremony</td>\n",
       "      <td>44593137</td>\n",
       "      <td>18741083</td>\n",
       "      <td>62473330</td>\n",
       "    </tr>\n",
       "    <tr>\n",
       "      <th>35840005</th>\n",
       "      <td>2020 Summer Olympics</td>\n",
       "      <td>1610886</td>\n",
       "      <td>181278</td>\n",
       "      <td>62473330</td>\n",
       "    </tr>\n",
       "    <tr>\n",
       "      <th>35840006</th>\n",
       "      <td>Tokyo</td>\n",
       "      <td>30057</td>\n",
       "      <td>1490</td>\n",
       "      <td>62473330</td>\n",
       "    </tr>\n",
       "  </tbody>\n",
       "</table>\n",
       "<p>35840007 rows × 4 columns</p>\n",
       "</div>"
      ],
      "text/plain": [
       "                                         entity   page_id   item_id   text_id\n",
       "0                            anti-authoritarian    867979   1030234        12\n",
       "1                                     political     23040    179805        12\n",
       "2                             social philosophy    586276    180592        12\n",
       "3                                   hierarchies     13998    188619        12\n",
       "4                                  self-managed  40949353  15981562        12\n",
       "...                                         ...       ...       ...       ...\n",
       "35840002                           Carl Randall  40277554  16215506  62473330\n",
       "35840003                The World Ends With You   6987282   1416303  62473330\n",
       "35840004  2016 Summer Olympics closing ceremony  44593137  18741083  62473330\n",
       "35840005                   2020 Summer Olympics   1610886    181278  62473330\n",
       "35840006                                  Tokyo     30057      1490  62473330\n",
       "\n",
       "[35840007 rows x 4 columns]"
      ]
     },
     "execution_count": 2,
     "metadata": {},
     "output_type": "execute_result"
    }
   ],
   "source": [
    "%%time\n",
    "entity_df = pd.read_csv('data/intro_entity.csv')\n",
    "entity_df"
   ]
  },
  {
   "cell_type": "code",
   "execution_count": 3,
   "metadata": {},
   "outputs": [
    {
     "data": {
      "text/plain": [
       "48191954"
      ]
     },
     "metadata": {},
     "output_type": "display_data"
    },
    {
     "name": "stdout",
     "output_type": "stream",
     "text": [
      "CPU times: user 1min 1s, sys: 7.11 s, total: 1min 8s\n",
      "Wall time: 1min 8s\n"
     ]
    },
    {
     "data": {
      "text/plain": [
       "array([    9036,   163343,   210893,   478214,   622424,   765530,\n",
       "         780348,  1050485,  1428953,  1463050,  1548225,  1634161,\n",
       "        2384079,  2406220,  3982823,  5172712,  7035686,  7705502,\n",
       "        7705506,  7705515, 16258100, 19565583, 19845823, 23663332,\n",
       "       27701406, 31803712, 37251206, 56084926])"
      ]
     },
     "execution_count": 3,
     "metadata": {},
     "output_type": "execute_result"
    }
   ],
   "source": [
    "%%time\n",
    "item_dict = pd.read_feather('data/item_dict.ftr', use_threads=True).set_index('en_label').item_ids.to_dict()\n",
    "display(len(item_dict))\n",
    "item_dict['tesla']"
   ]
  },
  {
   "cell_type": "code",
   "execution_count": 4,
   "metadata": {},
   "outputs": [
    {
     "data": {
      "text/html": [
       "<div>\n",
       "<style scoped>\n",
       "    .dataframe tbody tr th:only-of-type {\n",
       "        vertical-align: middle;\n",
       "    }\n",
       "\n",
       "    .dataframe tbody tr th {\n",
       "        vertical-align: top;\n",
       "    }\n",
       "\n",
       "    .dataframe thead th {\n",
       "        text-align: right;\n",
       "    }\n",
       "</style>\n",
       "<table border=\"1\" class=\"dataframe\">\n",
       "  <thead>\n",
       "    <tr style=\"text-align: right;\">\n",
       "      <th></th>\n",
       "      <th>page_id</th>\n",
       "      <th>title</th>\n",
       "      <th>views</th>\n",
       "      <th>counts</th>\n",
       "    </tr>\n",
       "    <tr>\n",
       "      <th>item_id</th>\n",
       "      <th></th>\n",
       "      <th></th>\n",
       "      <th></th>\n",
       "      <th></th>\n",
       "    </tr>\n",
       "  </thead>\n",
       "  <tbody>\n",
       "    <tr>\n",
       "      <th>6199</th>\n",
       "      <td>12</td>\n",
       "      <td>Anarchism</td>\n",
       "      <td>31335</td>\n",
       "      <td>3540</td>\n",
       "    </tr>\n",
       "    <tr>\n",
       "      <th>38404</th>\n",
       "      <td>25</td>\n",
       "      <td>Autism</td>\n",
       "      <td>49693</td>\n",
       "      <td>2114</td>\n",
       "    </tr>\n",
       "    <tr>\n",
       "      <th>101038</th>\n",
       "      <td>39</td>\n",
       "      <td>Albedo</td>\n",
       "      <td>14573</td>\n",
       "      <td>2825</td>\n",
       "    </tr>\n",
       "    <tr>\n",
       "      <th>9659</th>\n",
       "      <td>290</td>\n",
       "      <td>A</td>\n",
       "      <td>25859</td>\n",
       "      <td>175</td>\n",
       "    </tr>\n",
       "    <tr>\n",
       "      <th>173</th>\n",
       "      <td>303</td>\n",
       "      <td>Alabama</td>\n",
       "      <td>52765</td>\n",
       "      <td>11125</td>\n",
       "    </tr>\n",
       "    <tr>\n",
       "      <th>...</th>\n",
       "      <td>...</td>\n",
       "      <td>...</td>\n",
       "      <td>...</td>\n",
       "      <td>...</td>\n",
       "    </tr>\n",
       "    <tr>\n",
       "      <th>76894635</th>\n",
       "      <td>62470350</td>\n",
       "      <td>Daming Zhu</td>\n",
       "      <td>16</td>\n",
       "      <td>0</td>\n",
       "    </tr>\n",
       "    <tr>\n",
       "      <th>76894633</th>\n",
       "      <td>62470423</td>\n",
       "      <td>Tony Dews</td>\n",
       "      <td>7</td>\n",
       "      <td>2</td>\n",
       "    </tr>\n",
       "    <tr>\n",
       "      <th>76896959</th>\n",
       "      <td>62470432</td>\n",
       "      <td>Samsung PL20</td>\n",
       "      <td>9</td>\n",
       "      <td>0</td>\n",
       "    </tr>\n",
       "    <tr>\n",
       "      <th>6034153</th>\n",
       "      <td>62470465</td>\n",
       "      <td>Nils-Fredrik Palmstierna</td>\n",
       "      <td>8</td>\n",
       "      <td>3</td>\n",
       "    </tr>\n",
       "    <tr>\n",
       "      <th>21083961</th>\n",
       "      <td>62473330</td>\n",
       "      <td>Shibuya Crossing</td>\n",
       "      <td>68</td>\n",
       "      <td>1</td>\n",
       "    </tr>\n",
       "  </tbody>\n",
       "</table>\n",
       "<p>5362174 rows × 4 columns</p>\n",
       "</div>"
      ],
      "text/plain": [
       "           page_id                     title  views  counts\n",
       "item_id                                                    \n",
       "6199            12                 Anarchism  31335    3540\n",
       "38404           25                    Autism  49693    2114\n",
       "101038          39                    Albedo  14573    2825\n",
       "9659           290                         A  25859     175\n",
       "173            303                   Alabama  52765   11125\n",
       "...            ...                       ...    ...     ...\n",
       "76894635  62470350                Daming Zhu     16       0\n",
       "76894633  62470423                 Tony Dews      7       2\n",
       "76896959  62470432              Samsung PL20      9       0\n",
       "6034153   62470465  Nils-Fredrik Palmstierna      8       3\n",
       "21083961  62473330          Shibuya Crossing     68       1\n",
       "\n",
       "[5362174 rows x 4 columns]"
      ]
     },
     "metadata": {},
     "output_type": "display_data"
    },
    {
     "name": "stdout",
     "output_type": "stream",
     "text": [
      "31335\n",
      "3540\n"
     ]
    }
   ],
   "source": [
    "id_counts_df = pd.read_csv(\"data/id_counts.csv\").set_index('item_id')\n",
    "display(id_counts_df)\n",
    "item_views_dict = id_counts_df.views.to_dict()\n",
    "item_counts_dict = id_counts_df.counts.to_dict()\n",
    "print(item_views_dict[6199])\n",
    "print(item_counts_dict[6199])"
   ]
  },
  {
   "cell_type": "code",
   "execution_count": 5,
   "metadata": {},
   "outputs": [
    {
     "name": "stdout",
     "output_type": "stream",
     "text": [
      "CPU times: user 1.86 s, sys: 109 ms, total: 1.97 s\n",
      "Wall time: 1.96 s\n"
     ]
    },
    {
     "data": {
      "text/plain": [
       "array([['Military Cross', 488249, 1335064, 187626],\n",
       "       ['Wales', 69894, 25, 42507907],\n",
       "       ['Joe Conforte', 11674164, 6209172, 1051658],\n",
       "       ...,\n",
       "       ['Manchester City F.C', 165813, 50602, 761536],\n",
       "       ['Christian', 5211, 5043, 7857964],\n",
       "       ['Chicago, Illinois', 6886, 1297, 6199675]], dtype=object)"
      ]
     },
     "execution_count": 5,
     "metadata": {},
     "output_type": "execute_result"
    }
   ],
   "source": [
    "%%time\n",
    "samples = entity_df.sample(250000, random_state=1).to_numpy()\n",
    "samples"
   ]
  },
  {
   "cell_type": "code",
   "execution_count": 6,
   "metadata": {},
   "outputs": [
    {
     "name": "stdout",
     "output_type": "stream",
     "text": [
      "[True, False, True, True, True, False, True, False, True, False, True, True, True, True, True, False, True, True, True, True, True, False, True, True, True, True, False, True, False, True, True, True, True, True, True, True, False, False, True, False, True, True, False, False, True, True, True, False, True, True, True, True, True, True, False, False, True, False, True, True, False, False, True, False, True, False, True, False, True, True, False, False, True, True, True, True, True, True, True, True, False, True, True, False, True, True, False, True, True, True, True, True, True, True, True, False, True, True, True, True]\n"
     ]
    }
   ],
   "source": [
    "def baseline_model(sample, mode='view'):\n",
    "    candidate_ids = item_dict.get(sample[0].strip().casefold(), [])\n",
    "    true_id = sample[2]\n",
    "    #print(true_id, candidate_ids)\n",
    "    \n",
    "    #return false if there are no potential ids for a given entity name\n",
    "    if len(candidate_ids) == 0:\n",
    "        print(f'entity not in dictionary: {sample[0]}')\n",
    "        return False\n",
    "    \n",
    "    #if there is only one id then check if that id is a match\n",
    "    if len(candidate_ids) == 1:\n",
    "        return candidate_ids[0] == true_id\n",
    "    else:\n",
    "        if mode == 'view':\n",
    "            tie_break_list = [item_views_dict.get(i, 0) for i in candidate_ids]\n",
    "        elif mode == 'count':\n",
    "            tie_break_list = [item_counts_dict.get(i, 0) for i in candidate_ids]\n",
    "        else:\n",
    "            raise Exception(f'Invalid Mode: {mode}')\n",
    "        candidate_id = candidate_ids[np.argmax(tie_break_list)]\n",
    "        return candidate_id == true_id\n",
    "\n",
    "print([baseline_model(i) for i in entity_df.sample(100, random_state=1).to_numpy()])"
   ]
  },
  {
   "cell_type": "code",
   "execution_count": 7,
   "metadata": {},
   "outputs": [
    {
     "data": {
      "text/plain": [
       "16"
      ]
     },
     "execution_count": 7,
     "metadata": {},
     "output_type": "execute_result"
    }
   ],
   "source": [
    "import multiprocessing as mp\n",
    "from functools import partial\n",
    "n_cores = mp.cpu_count()\n",
    "n_cores"
   ]
  },
  {
   "cell_type": "code",
   "execution_count": 8,
   "metadata": {},
   "outputs": [],
   "source": [
    "def run_test(samples_per_test, iterations, mode='view', multi = True):\n",
    "    for i in range(iterations):\n",
    "        samples = entity_df.sample(n=samples_per_test).to_numpy()\n",
    "        \n",
    "        if multi == False:\n",
    "            results = [baseline_model(i, mode) for i in samples]\n",
    "        else:\n",
    "            baseline_model_mode=partial(baseline_model, mode=mode)\n",
    "\n",
    "            p = mp.Pool(n_cores-1)\n",
    "            results = p.map(baseline_model_mode, samples)\n",
    "            \n",
    "        print(f'test: {i+1}\\tnum_samples: {len(results)}\\taccuracy: {sum(results)/len(results)}\\tmode: {mode}')\n",
    "        "
   ]
  },
  {
   "cell_type": "code",
   "execution_count": 9,
   "metadata": {},
   "outputs": [
    {
     "name": "stdout",
     "output_type": "stream",
     "text": [
      "Baseline accuracy when disambiguating using the entity with the most views\n",
      "test: 1\tnum_samples: 100000\taccuracy: 0.66431\tmode: view\n",
      "test: 2\tnum_samples: 100000\taccuracy: 0.66493\tmode: view\n",
      "test: 3\tnum_samples: 100000\taccuracy: 0.66461\tmode: view\n",
      "test: 4\tnum_samples: 100000\taccuracy: 0.66268\tmode: view\n",
      "test: 5\tnum_samples: 100000\taccuracy: 0.66151\tmode: view\n",
      "test: 6\tnum_samples: 100000\taccuracy: 0.66432\tmode: view\n",
      "test: 7\tnum_samples: 100000\taccuracy: 0.665\tmode: view\n",
      "test: 8\tnum_samples: 100000\taccuracy: 0.66245\tmode: view\n",
      "test: 9\tnum_samples: 100000\taccuracy: 0.66233\tmode: view\n",
      "test: 10\tnum_samples: 100000\taccuracy: 0.66144\tmode: view\n"
     ]
    }
   ],
   "source": [
    "print('Baseline accuracy when disambiguating using the entity with the most views')\n",
    "run_test(100000, 10, 'view')"
   ]
  },
  {
   "cell_type": "code",
   "execution_count": 10,
   "metadata": {},
   "outputs": [
    {
     "name": "stdout",
     "output_type": "stream",
     "text": [
      "Baseline accuracy when disambiguating using the entity with the most counts\n",
      "test: 1\tnum_samples: 100000\taccuracy: 0.72147\tmode: count\n",
      "test: 2\tnum_samples: 100000\taccuracy: 0.72308\tmode: count\n",
      "test: 3\tnum_samples: 100000\taccuracy: 0.71851\tmode: count\n",
      "test: 4\tnum_samples: 100000\taccuracy: 0.71938\tmode: count\n",
      "test: 5\tnum_samples: 100000\taccuracy: 0.71966\tmode: count\n",
      "test: 6\tnum_samples: 100000\taccuracy: 0.71882\tmode: count\n",
      "test: 7\tnum_samples: 100000\taccuracy: 0.72122\tmode: count\n",
      "test: 8\tnum_samples: 100000\taccuracy: 0.72045\tmode: count\n",
      "test: 9\tnum_samples: 100000\taccuracy: 0.72091\tmode: count\n",
      "test: 10\tnum_samples: 100000\taccuracy: 0.72051\tmode: count\n"
     ]
    }
   ],
   "source": [
    "print('Baseline accuracy when disambiguating using the entity with the most counts')\n",
    "run_test(100000, 10, 'count')"
   ]
  }
 ],
 "metadata": {
  "kernelspec": {
   "display_name": "Python 3",
   "language": "python",
   "name": "python3"
  },
  "language_info": {
   "codemirror_mode": {
    "name": "ipython",
    "version": 3
   },
   "file_extension": ".py",
   "mimetype": "text/x-python",
   "name": "python",
   "nbconvert_exporter": "python",
   "pygments_lexer": "ipython3",
   "version": "3.6.10"
  }
 },
 "nbformat": 4,
 "nbformat_minor": 4
}
