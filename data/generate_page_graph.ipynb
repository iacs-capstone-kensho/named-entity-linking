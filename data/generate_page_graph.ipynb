{
 "cells": [
  {
   "cell_type": "code",
   "execution_count": 1,
   "metadata": {},
   "outputs": [],
   "source": [
    "import pandas as pd\n",
    "import numpy as np\n",
    "import pickle"
   ]
  },
  {
   "cell_type": "code",
   "execution_count": 2,
   "metadata": {},
   "outputs": [
    {
     "name": "stdout",
     "output_type": "stream",
     "text": [
      "Wall time: 40.4 s\n"
     ]
    },
    {
     "data": {
      "text/html": [
       "<div>\n",
       "<style scoped>\n",
       "    .dataframe tbody tr th:only-of-type {\n",
       "        vertical-align: middle;\n",
       "    }\n",
       "\n",
       "    .dataframe tbody tr th {\n",
       "        vertical-align: top;\n",
       "    }\n",
       "\n",
       "    .dataframe thead th {\n",
       "        text-align: right;\n",
       "    }\n",
       "</style>\n",
       "<table border=\"1\" class=\"dataframe\">\n",
       "  <thead>\n",
       "    <tr style=\"text-align: right;\">\n",
       "      <th></th>\n",
       "      <th>source_item_id</th>\n",
       "      <th>edge_property_id</th>\n",
       "      <th>target_item_id</th>\n",
       "    </tr>\n",
       "  </thead>\n",
       "  <tbody>\n",
       "    <tr>\n",
       "      <th>0</th>\n",
       "      <td>1</td>\n",
       "      <td>31</td>\n",
       "      <td>36906466</td>\n",
       "    </tr>\n",
       "    <tr>\n",
       "      <th>1</th>\n",
       "      <td>1</td>\n",
       "      <td>279</td>\n",
       "      <td>3695190</td>\n",
       "    </tr>\n",
       "    <tr>\n",
       "      <th>2</th>\n",
       "      <td>1</td>\n",
       "      <td>398</td>\n",
       "      <td>497745</td>\n",
       "    </tr>\n",
       "    <tr>\n",
       "      <th>3</th>\n",
       "      <td>1</td>\n",
       "      <td>398</td>\n",
       "      <td>1133705</td>\n",
       "    </tr>\n",
       "    <tr>\n",
       "      <th>4</th>\n",
       "      <td>1</td>\n",
       "      <td>398</td>\n",
       "      <td>1139177</td>\n",
       "    </tr>\n",
       "    <tr>\n",
       "      <th>...</th>\n",
       "      <td>...</td>\n",
       "      <td>...</td>\n",
       "      <td>...</td>\n",
       "    </tr>\n",
       "    <tr>\n",
       "      <th>141206848</th>\n",
       "      <td>77257484</td>\n",
       "      <td>59</td>\n",
       "      <td>9286</td>\n",
       "    </tr>\n",
       "    <tr>\n",
       "      <th>141206849</th>\n",
       "      <td>77257491</td>\n",
       "      <td>31</td>\n",
       "      <td>318</td>\n",
       "    </tr>\n",
       "    <tr>\n",
       "      <th>141206850</th>\n",
       "      <td>77257491</td>\n",
       "      <td>59</td>\n",
       "      <td>9286</td>\n",
       "    </tr>\n",
       "    <tr>\n",
       "      <th>141206851</th>\n",
       "      <td>77257493</td>\n",
       "      <td>31</td>\n",
       "      <td>318</td>\n",
       "    </tr>\n",
       "    <tr>\n",
       "      <th>141206852</th>\n",
       "      <td>77257493</td>\n",
       "      <td>59</td>\n",
       "      <td>8913</td>\n",
       "    </tr>\n",
       "  </tbody>\n",
       "</table>\n",
       "<p>141206853 rows × 3 columns</p>\n",
       "</div>"
      ],
      "text/plain": [
       "           source_item_id  edge_property_id  target_item_id\n",
       "0                       1                31        36906466\n",
       "1                       1               279         3695190\n",
       "2                       1               398          497745\n",
       "3                       1               398         1133705\n",
       "4                       1               398         1139177\n",
       "...                   ...               ...             ...\n",
       "141206848        77257484                59            9286\n",
       "141206849        77257491                31             318\n",
       "141206850        77257491                59            9286\n",
       "141206851        77257493                31             318\n",
       "141206852        77257493                59            8913\n",
       "\n",
       "[141206853 rows x 3 columns]"
      ]
     },
     "execution_count": 2,
     "metadata": {},
     "output_type": "execute_result"
    }
   ],
   "source": [
    "%%time\n",
    "statements_df = pd.read_csv('statements.csv')\n",
    "statements_df"
   ]
  },
  {
   "cell_type": "code",
   "execution_count": 3,
   "metadata": {},
   "outputs": [
    {
     "data": {
      "text/plain": [
       "12"
      ]
     },
     "execution_count": 3,
     "metadata": {},
     "output_type": "execute_result"
    }
   ],
   "source": [
    "page_df = pd.read_csv('page.csv')\n",
    "page_dict = pd.Series(page_df.page_id.values,index=page_df.item_id).to_dict()\n",
    "del(page_df)\n",
    "page_dict[6199]"
   ]
  },
  {
   "cell_type": "code",
   "execution_count": 9,
   "metadata": {},
   "outputs": [
    {
     "name": "stdout",
     "output_type": "stream",
     "text": [
      "Wall time: 2min 44s\n"
     ]
    },
    {
     "data": {
      "text/html": [
       "<div>\n",
       "<style scoped>\n",
       "    .dataframe tbody tr th:only-of-type {\n",
       "        vertical-align: middle;\n",
       "    }\n",
       "\n",
       "    .dataframe tbody tr th {\n",
       "        vertical-align: top;\n",
       "    }\n",
       "\n",
       "    .dataframe thead th {\n",
       "        text-align: right;\n",
       "    }\n",
       "</style>\n",
       "<table border=\"1\" class=\"dataframe\">\n",
       "  <thead>\n",
       "    <tr style=\"text-align: right;\">\n",
       "      <th></th>\n",
       "      <th>source_item_id</th>\n",
       "      <th>edge_property_id</th>\n",
       "      <th>target_item_id</th>\n",
       "      <th>source_page_id</th>\n",
       "      <th>target_page_id</th>\n",
       "    </tr>\n",
       "  </thead>\n",
       "  <tbody>\n",
       "    <tr>\n",
       "      <th>0</th>\n",
       "      <td>1</td>\n",
       "      <td>31</td>\n",
       "      <td>36906466</td>\n",
       "      <td>31880.0</td>\n",
       "      <td>NaN</td>\n",
       "    </tr>\n",
       "    <tr>\n",
       "      <th>1</th>\n",
       "      <td>1</td>\n",
       "      <td>279</td>\n",
       "      <td>3695190</td>\n",
       "      <td>31880.0</td>\n",
       "      <td>50723558.0</td>\n",
       "    </tr>\n",
       "    <tr>\n",
       "      <th>2</th>\n",
       "      <td>1</td>\n",
       "      <td>398</td>\n",
       "      <td>497745</td>\n",
       "      <td>31880.0</td>\n",
       "      <td>6207679.0</td>\n",
       "    </tr>\n",
       "    <tr>\n",
       "      <th>3</th>\n",
       "      <td>1</td>\n",
       "      <td>398</td>\n",
       "      <td>1133705</td>\n",
       "      <td>31880.0</td>\n",
       "      <td>17365007.0</td>\n",
       "    </tr>\n",
       "    <tr>\n",
       "      <th>4</th>\n",
       "      <td>1</td>\n",
       "      <td>398</td>\n",
       "      <td>1139177</td>\n",
       "      <td>31880.0</td>\n",
       "      <td>435544.0</td>\n",
       "    </tr>\n",
       "    <tr>\n",
       "      <th>...</th>\n",
       "      <td>...</td>\n",
       "      <td>...</td>\n",
       "      <td>...</td>\n",
       "      <td>...</td>\n",
       "      <td>...</td>\n",
       "    </tr>\n",
       "    <tr>\n",
       "      <th>141206848</th>\n",
       "      <td>77257484</td>\n",
       "      <td>59</td>\n",
       "      <td>9286</td>\n",
       "      <td>NaN</td>\n",
       "      <td>152710.0</td>\n",
       "    </tr>\n",
       "    <tr>\n",
       "      <th>141206849</th>\n",
       "      <td>77257491</td>\n",
       "      <td>31</td>\n",
       "      <td>318</td>\n",
       "      <td>NaN</td>\n",
       "      <td>12558.0</td>\n",
       "    </tr>\n",
       "    <tr>\n",
       "      <th>141206850</th>\n",
       "      <td>77257491</td>\n",
       "      <td>59</td>\n",
       "      <td>9286</td>\n",
       "      <td>NaN</td>\n",
       "      <td>152710.0</td>\n",
       "    </tr>\n",
       "    <tr>\n",
       "      <th>141206851</th>\n",
       "      <td>77257493</td>\n",
       "      <td>31</td>\n",
       "      <td>318</td>\n",
       "      <td>NaN</td>\n",
       "      <td>12558.0</td>\n",
       "    </tr>\n",
       "    <tr>\n",
       "      <th>141206852</th>\n",
       "      <td>77257493</td>\n",
       "      <td>59</td>\n",
       "      <td>8913</td>\n",
       "      <td>NaN</td>\n",
       "      <td>11123.0</td>\n",
       "    </tr>\n",
       "  </tbody>\n",
       "</table>\n",
       "<p>141206853 rows × 5 columns</p>\n",
       "</div>"
      ],
      "text/plain": [
       "           source_item_id  edge_property_id  target_item_id  source_page_id  \\\n",
       "0                       1                31        36906466         31880.0   \n",
       "1                       1               279         3695190         31880.0   \n",
       "2                       1               398          497745         31880.0   \n",
       "3                       1               398         1133705         31880.0   \n",
       "4                       1               398         1139177         31880.0   \n",
       "...                   ...               ...             ...             ...   \n",
       "141206848        77257484                59            9286             NaN   \n",
       "141206849        77257491                31             318             NaN   \n",
       "141206850        77257491                59            9286             NaN   \n",
       "141206851        77257493                31             318             NaN   \n",
       "141206852        77257493                59            8913             NaN   \n",
       "\n",
       "           target_page_id  \n",
       "0                     NaN  \n",
       "1              50723558.0  \n",
       "2               6207679.0  \n",
       "3              17365007.0  \n",
       "4                435544.0  \n",
       "...                   ...  \n",
       "141206848        152710.0  \n",
       "141206849         12558.0  \n",
       "141206850        152710.0  \n",
       "141206851         12558.0  \n",
       "141206852         11123.0  \n",
       "\n",
       "[141206853 rows x 5 columns]"
      ]
     },
     "execution_count": 9,
     "metadata": {},
     "output_type": "execute_result"
    }
   ],
   "source": [
    "%%time\n",
    "statements_df_page = statements_df.copy()\n",
    "statements_df_page['source_page_id'] = [page_dict.get(i) for i in statements_df_page.source_item_id]\n",
    "statements_df_page['target_page_id'] = [page_dict.get(i) for i in statements_df_page.target_item_id]\n",
    "statements_df_page"
   ]
  },
  {
   "cell_type": "code",
   "execution_count": 10,
   "metadata": {},
   "outputs": [
    {
     "data": {
      "text/html": [
       "<div>\n",
       "<style scoped>\n",
       "    .dataframe tbody tr th:only-of-type {\n",
       "        vertical-align: middle;\n",
       "    }\n",
       "\n",
       "    .dataframe tbody tr th {\n",
       "        vertical-align: top;\n",
       "    }\n",
       "\n",
       "    .dataframe thead th {\n",
       "        text-align: right;\n",
       "    }\n",
       "</style>\n",
       "<table border=\"1\" class=\"dataframe\">\n",
       "  <thead>\n",
       "    <tr style=\"text-align: right;\">\n",
       "      <th></th>\n",
       "      <th>source_page_id</th>\n",
       "      <th>edge_property_id</th>\n",
       "      <th>target_page_id</th>\n",
       "    </tr>\n",
       "  </thead>\n",
       "  <tbody>\n",
       "    <tr>\n",
       "      <th>1</th>\n",
       "      <td>31880.0</td>\n",
       "      <td>279</td>\n",
       "      <td>50723558.0</td>\n",
       "    </tr>\n",
       "    <tr>\n",
       "      <th>2</th>\n",
       "      <td>31880.0</td>\n",
       "      <td>398</td>\n",
       "      <td>6207679.0</td>\n",
       "    </tr>\n",
       "    <tr>\n",
       "      <th>3</th>\n",
       "      <td>31880.0</td>\n",
       "      <td>398</td>\n",
       "      <td>17365007.0</td>\n",
       "    </tr>\n",
       "    <tr>\n",
       "      <th>4</th>\n",
       "      <td>31880.0</td>\n",
       "      <td>398</td>\n",
       "      <td>435544.0</td>\n",
       "    </tr>\n",
       "    <tr>\n",
       "      <th>5</th>\n",
       "      <td>31880.0</td>\n",
       "      <td>398</td>\n",
       "      <td>33196876.0</td>\n",
       "    </tr>\n",
       "    <tr>\n",
       "      <th>...</th>\n",
       "      <td>...</td>\n",
       "      <td>...</td>\n",
       "      <td>...</td>\n",
       "    </tr>\n",
       "    <tr>\n",
       "      <th>140846125</th>\n",
       "      <td>2368655.0</td>\n",
       "      <td>59</td>\n",
       "      <td>105200.0</td>\n",
       "    </tr>\n",
       "    <tr>\n",
       "      <th>140846126</th>\n",
       "      <td>2368655.0</td>\n",
       "      <td>361</td>\n",
       "      <td>962148.0</td>\n",
       "    </tr>\n",
       "    <tr>\n",
       "      <th>140853808</th>\n",
       "      <td>62057360.0</td>\n",
       "      <td>31</td>\n",
       "      <td>528282.0</td>\n",
       "    </tr>\n",
       "    <tr>\n",
       "      <th>140857402</th>\n",
       "      <td>62276323.0</td>\n",
       "      <td>31</td>\n",
       "      <td>682482.0</td>\n",
       "    </tr>\n",
       "    <tr>\n",
       "      <th>140857403</th>\n",
       "      <td>62276323.0</td>\n",
       "      <td>106</td>\n",
       "      <td>147292.0</td>\n",
       "    </tr>\n",
       "  </tbody>\n",
       "</table>\n",
       "<p>27714953 rows × 3 columns</p>\n",
       "</div>"
      ],
      "text/plain": [
       "           source_page_id  edge_property_id  target_page_id\n",
       "1                 31880.0               279      50723558.0\n",
       "2                 31880.0               398       6207679.0\n",
       "3                 31880.0               398      17365007.0\n",
       "4                 31880.0               398        435544.0\n",
       "5                 31880.0               398      33196876.0\n",
       "...                   ...               ...             ...\n",
       "140846125       2368655.0                59        105200.0\n",
       "140846126       2368655.0               361        962148.0\n",
       "140853808      62057360.0                31        528282.0\n",
       "140857402      62276323.0                31        682482.0\n",
       "140857403      62276323.0               106        147292.0\n",
       "\n",
       "[27714953 rows x 3 columns]"
      ]
     },
     "execution_count": 10,
     "metadata": {},
     "output_type": "execute_result"
    }
   ],
   "source": [
    "statements_df_page.drop(columns=['source_item_id', 'target_item_id'], inplace=True)\n",
    "statements_df_page = statements_df_page.dropna()\n",
    "statements_df_page = statements_df_page[['source_page_id', 'edge_property_id', 'target_page_id']]\n",
    "statements_df_page"
   ]
  },
  {
   "cell_type": "code",
   "execution_count": 3,
   "metadata": {},
   "outputs": [
    {
     "data": {
      "text/plain": [
       "array([[       1,       31, 36906466],\n",
       "       [       1,      279,  3695190],\n",
       "       [       1,      398,   497745],\n",
       "       ...,\n",
       "       [77257491,       59,     9286],\n",
       "       [77257493,       31,      318],\n",
       "       [77257493,       59,     8913]])"
      ]
     },
     "execution_count": 3,
     "metadata": {},
     "output_type": "execute_result"
    }
   ],
   "source": [
    "statements_np = statements_df.to_numpy(dtype=int)\n",
    "del(statements_df)\n",
    "del(statements_df_page)\n",
    "statements_np"
   ]
  },
  {
   "cell_type": "code",
   "execution_count": null,
   "metadata": {},
   "outputs": [],
   "source": [
    "#RUN THIS IS YOU WANT A BI-DIRECTIONAL GRAPH\n",
    "#statements_np = np.concatenate((statements_np, statements_np[:, [2, 1, 0]]), axis=0)"
   ]
  },
  {
   "cell_type": "code",
   "execution_count": 4,
   "metadata": {},
   "outputs": [
    {
     "name": "stdout",
     "output_type": "stream",
     "text": [
      "Wall time: 6.74 s\n"
     ]
    },
    {
     "data": {
      "text/plain": [
       "array([[       1,       31, 36906466],\n",
       "       [       1,     1343,   602358],\n",
       "       [       1,     1419,  5457948],\n",
       "       ...,\n",
       "       [77257491,       59,     9286],\n",
       "       [77257493,       31,      318],\n",
       "       [77257493,       59,     8913]])"
      ]
     },
     "execution_count": 4,
     "metadata": {},
     "output_type": "execute_result"
    }
   ],
   "source": [
    "%%time\n",
    "statements_np = statements_np[np.argsort(statements_np[:, 0])]\n",
    "statements_np"
   ]
  },
  {
   "cell_type": "code",
   "execution_count": 5,
   "metadata": {},
   "outputs": [],
   "source": [
    "u, indices = np.unique(statements_np[:,0], return_index=True)"
   ]
  },
  {
   "cell_type": "code",
   "execution_count": 6,
   "metadata": {},
   "outputs": [
    {
     "data": {
      "text/plain": [
       "array([141206835, 141206837, 141206839, 141206841, 141206843, 141206845,\n",
       "       141206847, 141206849, 141206851, 141206853], dtype=int64)"
      ]
     },
     "execution_count": 6,
     "metadata": {},
     "output_type": "execute_result"
    }
   ],
   "source": [
    "indices1 = np.append(indices, len(statements_np))\n",
    "indices1[-10:]"
   ]
  },
  {
   "cell_type": "code",
   "execution_count": null,
   "metadata": {},
   "outputs": [],
   "source": [
    "%%time\n",
    "statement_dict = {j:statements_np[indices1[i]:indices1[i+1], :0:-1].tolist() for i, j in enumerate(u)}\n",
    "del(statements_np)\n",
    "print(len(statement_dict.items()))\n",
    "statement_dict"
   ]
  },
  {
   "cell_type": "code",
   "execution_count": null,
   "metadata": {},
   "outputs": [],
   "source": [
    "%%time\n",
    "#takes ~1 min for page\n",
    "with open(\"graph_page_uni.p\", 'wb') as f:\n",
    "    pickle.dump(statement_dict, f, protocol=pickle.HIGHEST_PROTOCOL)"
   ]
  }
 ],
 "metadata": {
  "kernelspec": {
   "display_name": "Python 3",
   "language": "python",
   "name": "python3"
  },
  "language_info": {
   "codemirror_mode": {
    "name": "ipython",
    "version": 3
   },
   "file_extension": ".py",
   "mimetype": "text/x-python",
   "name": "python",
   "nbconvert_exporter": "python",
   "pygments_lexer": "ipython3",
   "version": "3.7.7"
  }
 },
 "nbformat": 4,
 "nbformat_minor": 4
}
