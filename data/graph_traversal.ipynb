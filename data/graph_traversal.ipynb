{
 "cells": [
  {
   "cell_type": "code",
   "execution_count": 1,
   "metadata": {},
   "outputs": [],
   "source": [
    "import pandas as pd\n",
    "import numpy as np"
   ]
  },
  {
   "cell_type": "code",
   "execution_count": 2,
   "metadata": {},
   "outputs": [
    {
     "name": "stdout",
     "output_type": "stream",
     "text": [
      "[    9036   163343   478214  1050485  1428953  1548225  2406220  7705502\n",
      " 16258100 27701406]\n",
      "Wall time: 20.4 s\n"
     ]
    }
   ],
   "source": [
    "%%time\n",
    "item_df = pd.read_csv('item_dict.csv', delimiter = ',')\n",
    "item_dict = dict(zip(item_df.en_label.values, [np.fromstring(i, dtype=int, sep=',') for i in item_df.item_id.values]))\n",
    "del item_df\n",
    "print(item_dict['tesla'])"
   ]
  },
  {
   "cell_type": "code",
   "execution_count": 3,
   "metadata": {},
   "outputs": [
    {
     "name": "stdout",
     "output_type": "stream",
     "text": [
      "[  367211       60  6581097 16086586 12750167       30    28513   131964\n",
      "        5    31519   689775  1905051    43035   101333     9301   169470\n",
      "   205375  1326886  1906857  2267418   632404  4920135   613201    93728\n",
      "   111734   678263  1332315  1366018  1517792  3332215  5442484 17552952\n",
      " 41799198   127885  1280677   131566  1132636  1132636    12152       60\n",
      "       90     1085     1781     3617    13298    49258   367211 37251206\n",
      " 15501913    93996  6374306  3739104   602358  2041543 12912667 17378135\n",
      " 67311526    38104      150      188      397      652     1860     9056\n",
      "     9067     9301    83364 16098713  5460604  1700481     1860]\n",
      "Wall time: 2min 46s\n"
     ]
    }
   ],
   "source": [
    "%%time\n",
    "#unidirection will take ~2.5 min\n",
    "#bidirectional will take ~5 min\n",
    "graph_df = pd.read_csv('statements_uni.csv', delimiter = ',')\n",
    "graph_dict = dict(zip(graph_df.Source.values, [np.fromstring(i, dtype=int, sep=',') for i in graph_df.Targets.values]))\n",
    "del graph_df\n",
    "print(graph_dict[9036])"
   ]
  },
  {
   "cell_type": "code",
   "execution_count": 4,
   "metadata": {},
   "outputs": [
    {
     "name": "stdout",
     "output_type": "stream",
     "text": [
      "1 levels\n",
      "Wall time: 11 ms\n",
      "66 nodes\n",
      "2 levels\n",
      "Wall time: 46 ms\n",
      "2462 nodes\n",
      "3 levels\n",
      "Wall time: 612 ms\n",
      "37805 nodes\n",
      "4 levels\n",
      "Wall time: 1.86 s\n",
      "166908 nodes\n",
      "5 levels\n",
      "Wall time: 2.44 s\n",
      "326619 nodes\n",
      "6 levels\n",
      "Wall time: 4.06 s\n",
      "371614 nodes\n",
      "7 levels\n",
      "Wall time: 6.02 s\n",
      "305859 nodes\n",
      "8 levels\n",
      "Wall time: 6.26 s\n",
      "211902 nodes\n",
      "9 levels\n",
      "Wall time: 6.74 s\n",
      "156552 nodes\n",
      "10 levels\n",
      "Wall time: 10.9 s\n",
      "99839 nodes\n"
     ]
    }
   ],
   "source": [
    "def traverse(root, levels=1):\n",
    "    level = [np.unique(graph_dict.get(root))]\n",
    "    for i in range(1, levels):\n",
    "        temp = np.unique(np.concatenate([graph_dict.get(j, np.array([], dtype=int)) for j in level[i-1]]))\n",
    "        level.append(np.setdiff1d(temp, np.concatenate(level)))\n",
    "    return level\n",
    "\n",
    "for i in range(1, 11): \n",
    "    print(f'{i} levels')\n",
    "    %time test = traverse(9036, i)\n",
    "    print(len(test[-1]), 'nodes')"
   ]
  }
 ],
 "metadata": {
  "kernelspec": {
   "display_name": "Python 3",
   "language": "python",
   "name": "python3"
  },
  "language_info": {
   "codemirror_mode": {
    "name": "ipython",
    "version": 3
   },
   "file_extension": ".py",
   "mimetype": "text/x-python",
   "name": "python",
   "nbconvert_exporter": "python",
   "pygments_lexer": "ipython3",
   "version": "3.7.3"
  }
 },
 "nbformat": 4,
 "nbformat_minor": 4
}
