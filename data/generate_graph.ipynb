{
 "cells": [
  {
   "cell_type": "code",
   "execution_count": 1,
   "metadata": {},
   "outputs": [],
   "source": [
    "import pandas as pd\n",
    "import numpy as np\n",
    "import time\n",
    "import pickle\n",
    "\n",
    "pd.options.display.float_format = \"{:.5f}\".format"
   ]
  },
  {
   "cell_type": "code",
   "execution_count": 2,
   "metadata": {},
   "outputs": [
    {
     "data": {
      "text/plain": [
       "source_item_id      int32\n",
       "edge_property_id    int32\n",
       "target_item_id      int32\n",
       "dtype: object"
      ]
     },
     "metadata": {},
     "output_type": "display_data"
    },
    {
     "name": "stdout",
     "output_type": "stream",
     "text": [
      "CPU times: user 26.4 s, sys: 2.52 s, total: 28.9 s\n",
      "Wall time: 28.9 s\n"
     ]
    },
    {
     "data": {
      "text/html": [
       "<div>\n",
       "<style scoped>\n",
       "    .dataframe tbody tr th:only-of-type {\n",
       "        vertical-align: middle;\n",
       "    }\n",
       "\n",
       "    .dataframe tbody tr th {\n",
       "        vertical-align: top;\n",
       "    }\n",
       "\n",
       "    .dataframe thead th {\n",
       "        text-align: right;\n",
       "    }\n",
       "</style>\n",
       "<table border=\"1\" class=\"dataframe\">\n",
       "  <thead>\n",
       "    <tr style=\"text-align: right;\">\n",
       "      <th></th>\n",
       "      <th>source_item_id</th>\n",
       "      <th>edge_property_id</th>\n",
       "      <th>target_item_id</th>\n",
       "    </tr>\n",
       "  </thead>\n",
       "  <tbody>\n",
       "    <tr>\n",
       "      <th>0</th>\n",
       "      <td>1</td>\n",
       "      <td>31</td>\n",
       "      <td>36906466</td>\n",
       "    </tr>\n",
       "    <tr>\n",
       "      <th>21</th>\n",
       "      <td>1</td>\n",
       "      <td>1343</td>\n",
       "      <td>602358</td>\n",
       "    </tr>\n",
       "    <tr>\n",
       "      <th>22</th>\n",
       "      <td>1</td>\n",
       "      <td>1419</td>\n",
       "      <td>5457948</td>\n",
       "    </tr>\n",
       "    <tr>\n",
       "      <th>23</th>\n",
       "      <td>1</td>\n",
       "      <td>1424</td>\n",
       "      <td>22903368</td>\n",
       "    </tr>\n",
       "    <tr>\n",
       "      <th>24</th>\n",
       "      <td>1</td>\n",
       "      <td>1552</td>\n",
       "      <td>11412</td>\n",
       "    </tr>\n",
       "    <tr>\n",
       "      <th>...</th>\n",
       "      <td>...</td>\n",
       "      <td>...</td>\n",
       "      <td>...</td>\n",
       "    </tr>\n",
       "    <tr>\n",
       "      <th>141206848</th>\n",
       "      <td>77257484</td>\n",
       "      <td>59</td>\n",
       "      <td>9286</td>\n",
       "    </tr>\n",
       "    <tr>\n",
       "      <th>141206849</th>\n",
       "      <td>77257491</td>\n",
       "      <td>31</td>\n",
       "      <td>318</td>\n",
       "    </tr>\n",
       "    <tr>\n",
       "      <th>141206850</th>\n",
       "      <td>77257491</td>\n",
       "      <td>59</td>\n",
       "      <td>9286</td>\n",
       "    </tr>\n",
       "    <tr>\n",
       "      <th>141206851</th>\n",
       "      <td>77257493</td>\n",
       "      <td>31</td>\n",
       "      <td>318</td>\n",
       "    </tr>\n",
       "    <tr>\n",
       "      <th>141206852</th>\n",
       "      <td>77257493</td>\n",
       "      <td>59</td>\n",
       "      <td>8913</td>\n",
       "    </tr>\n",
       "  </tbody>\n",
       "</table>\n",
       "<p>141206853 rows × 3 columns</p>\n",
       "</div>"
      ],
      "text/plain": [
       "           source_item_id  edge_property_id  target_item_id\n",
       "0                       1                31        36906466\n",
       "21                      1              1343          602358\n",
       "22                      1              1419         5457948\n",
       "23                      1              1424        22903368\n",
       "24                      1              1552           11412\n",
       "...                   ...               ...             ...\n",
       "141206848        77257484                59            9286\n",
       "141206849        77257491                31             318\n",
       "141206850        77257491                59            9286\n",
       "141206851        77257493                31             318\n",
       "141206852        77257493                59            8913\n",
       "\n",
       "[141206853 rows x 3 columns]"
      ]
     },
     "execution_count": 2,
     "metadata": {},
     "output_type": "execute_result"
    }
   ],
   "source": [
    "%%time\n",
    "statements_full_df = pd.read_csv('KDWD/statements.csv', dtype='int32')\n",
    "statements_full_df.sort_values(by=['source_item_id'], inplace=True)\n",
    "display(statements_full_df.dtypes)\n",
    "statements_full_df"
   ]
  },
  {
   "cell_type": "code",
   "execution_count": 3,
   "metadata": {},
   "outputs": [
    {
     "data": {
      "text/html": [
       "<div>\n",
       "<style scoped>\n",
       "    .dataframe tbody tr th:only-of-type {\n",
       "        vertical-align: middle;\n",
       "    }\n",
       "\n",
       "    .dataframe tbody tr th {\n",
       "        vertical-align: top;\n",
       "    }\n",
       "\n",
       "    .dataframe thead th {\n",
       "        text-align: right;\n",
       "    }\n",
       "</style>\n",
       "<table border=\"1\" class=\"dataframe\">\n",
       "  <thead>\n",
       "    <tr style=\"text-align: right;\">\n",
       "      <th></th>\n",
       "      <th>priority</th>\n",
       "      <th>property_id</th>\n",
       "      <th>en_label</th>\n",
       "      <th>en_description</th>\n",
       "      <th>popularity</th>\n",
       "      <th>aliases</th>\n",
       "      <th>aliases_count</th>\n",
       "    </tr>\n",
       "  </thead>\n",
       "  <tbody>\n",
       "    <tr>\n",
       "      <th>0</th>\n",
       "      <td>1</td>\n",
       "      <td>31</td>\n",
       "      <td>instance of</td>\n",
       "      <td>that class of which this subject is a particul...</td>\n",
       "      <td>26016076</td>\n",
       "      <td>['is a', 'is an', 'has class', 'has type', 'is...</td>\n",
       "      <td>24.00000</td>\n",
       "    </tr>\n",
       "    <tr>\n",
       "      <th>1</th>\n",
       "      <td>1</td>\n",
       "      <td>279</td>\n",
       "      <td>subclass of</td>\n",
       "      <td>all instances of these items are instances of ...</td>\n",
       "      <td>1731815</td>\n",
       "      <td>['rdfs:subClassOf', 'hyponym of', 'has supercl...</td>\n",
       "      <td>19.00000</td>\n",
       "    </tr>\n",
       "    <tr>\n",
       "      <th>2</th>\n",
       "      <td>1</td>\n",
       "      <td>460</td>\n",
       "      <td>said to be the same as</td>\n",
       "      <td>this item is said to be the same as that item,...</td>\n",
       "      <td>78860</td>\n",
       "      <td>['same as', 'disputed equivalence', 'the same ...</td>\n",
       "      <td>15.00000</td>\n",
       "    </tr>\n",
       "    <tr>\n",
       "      <th>3</th>\n",
       "      <td>1</td>\n",
       "      <td>734</td>\n",
       "      <td>family name</td>\n",
       "      <td>part of full name of person</td>\n",
       "      <td>1692849</td>\n",
       "      <td>['last name', 'surname']</td>\n",
       "      <td>2.00000</td>\n",
       "    </tr>\n",
       "    <tr>\n",
       "      <th>4</th>\n",
       "      <td>1</td>\n",
       "      <td>155</td>\n",
       "      <td>follows</td>\n",
       "      <td>immediately prior item in a series of which th...</td>\n",
       "      <td>289262</td>\n",
       "      <td>['succeeds to', 'previous is', 'before was', '...</td>\n",
       "      <td>11.00000</td>\n",
       "    </tr>\n",
       "    <tr>\n",
       "      <th>...</th>\n",
       "      <td>...</td>\n",
       "      <td>...</td>\n",
       "      <td>...</td>\n",
       "      <td>...</td>\n",
       "      <td>...</td>\n",
       "      <td>...</td>\n",
       "      <td>...</td>\n",
       "    </tr>\n",
       "    <tr>\n",
       "      <th>1213</th>\n",
       "      <td>4</td>\n",
       "      <td>5439</td>\n",
       "      <td>research measurement</td>\n",
       "      <td>a measurement of an experimentally observed va...</td>\n",
       "      <td>1</td>\n",
       "      <td>NaN</td>\n",
       "      <td>nan</td>\n",
       "    </tr>\n",
       "    <tr>\n",
       "      <th>1214</th>\n",
       "      <td>4</td>\n",
       "      <td>7174</td>\n",
       "      <td>school class</td>\n",
       "      <td>(qualifier) class of a given year/time period ...</td>\n",
       "      <td>1</td>\n",
       "      <td>['school cohort', 'cohort', 'class']</td>\n",
       "      <td>3.00000</td>\n",
       "    </tr>\n",
       "    <tr>\n",
       "      <th>1215</th>\n",
       "      <td>4</td>\n",
       "      <td>2443</td>\n",
       "      <td>stage reached</td>\n",
       "      <td>ultimate point in an event or competition reac...</td>\n",
       "      <td>1</td>\n",
       "      <td>['eliminated at', 'round reached', 'point achi...</td>\n",
       "      <td>3.00000</td>\n",
       "    </tr>\n",
       "    <tr>\n",
       "      <th>1216</th>\n",
       "      <td>4</td>\n",
       "      <td>1310</td>\n",
       "      <td>statement disputed by</td>\n",
       "      <td>entity that disputes a given statement</td>\n",
       "      <td>1</td>\n",
       "      <td>['disputed by', 'rejected by', 'opposed by']</td>\n",
       "      <td>3.00000</td>\n",
       "    </tr>\n",
       "    <tr>\n",
       "      <th>1217</th>\n",
       "      <td>4</td>\n",
       "      <td>7582</td>\n",
       "      <td>Wildlife Protection Act 1972 (India) schedule</td>\n",
       "      <td>classification of species found in India as pe...</td>\n",
       "      <td>1</td>\n",
       "      <td>['Wildlife Protection Act 1972 schedule']</td>\n",
       "      <td>1.00000</td>\n",
       "    </tr>\n",
       "  </tbody>\n",
       "</table>\n",
       "<p>1218 rows × 7 columns</p>\n",
       "</div>"
      ],
      "text/plain": [
       "      priority  property_id                                       en_label  \\\n",
       "0            1           31                                    instance of   \n",
       "1            1          279                                    subclass of   \n",
       "2            1          460                         said to be the same as   \n",
       "3            1          734                                    family name   \n",
       "4            1          155                                        follows   \n",
       "...        ...          ...                                            ...   \n",
       "1213         4         5439                           research measurement   \n",
       "1214         4         7174                                   school class   \n",
       "1215         4         2443                                  stage reached   \n",
       "1216         4         1310                          statement disputed by   \n",
       "1217         4         7582  Wildlife Protection Act 1972 (India) schedule   \n",
       "\n",
       "                                         en_description  popularity  \\\n",
       "0     that class of which this subject is a particul...    26016076   \n",
       "1     all instances of these items are instances of ...     1731815   \n",
       "2     this item is said to be the same as that item,...       78860   \n",
       "3                           part of full name of person     1692849   \n",
       "4     immediately prior item in a series of which th...      289262   \n",
       "...                                                 ...         ...   \n",
       "1213  a measurement of an experimentally observed va...           1   \n",
       "1214  (qualifier) class of a given year/time period ...           1   \n",
       "1215  ultimate point in an event or competition reac...           1   \n",
       "1216             entity that disputes a given statement           1   \n",
       "1217  classification of species found in India as pe...           1   \n",
       "\n",
       "                                                aliases  aliases_count  \n",
       "0     ['is a', 'is an', 'has class', 'has type', 'is...       24.00000  \n",
       "1     ['rdfs:subClassOf', 'hyponym of', 'has supercl...       19.00000  \n",
       "2     ['same as', 'disputed equivalence', 'the same ...       15.00000  \n",
       "3                              ['last name', 'surname']        2.00000  \n",
       "4     ['succeeds to', 'previous is', 'before was', '...       11.00000  \n",
       "...                                                 ...            ...  \n",
       "1213                                                NaN            nan  \n",
       "1214               ['school cohort', 'cohort', 'class']        3.00000  \n",
       "1215  ['eliminated at', 'round reached', 'point achi...        3.00000  \n",
       "1216       ['disputed by', 'rejected by', 'opposed by']        3.00000  \n",
       "1217          ['Wildlife Protection Act 1972 schedule']        1.00000  \n",
       "\n",
       "[1218 rows x 7 columns]"
      ]
     },
     "execution_count": 3,
     "metadata": {},
     "output_type": "execute_result"
    }
   ],
   "source": [
    "property_df = pd.read_csv('data/property_details.csv')\n",
    "property_df.priority = property_df.priority.fillna(4).astype(int)\n",
    "property_df"
   ]
  },
  {
   "cell_type": "code",
   "execution_count": 4,
   "metadata": {},
   "outputs": [
    {
     "data": {
      "text/plain": [
       "126     527\n",
       "127     681\n",
       "128     282\n",
       "129     682\n",
       "130     137\n",
       "       ... \n",
       "189    5996\n",
       "190    1754\n",
       "191    1855\n",
       "192    4329\n",
       "193    1889\n",
       "Name: property_id, Length: 68, dtype: int64"
      ]
     },
     "execution_count": 4,
     "metadata": {},
     "output_type": "execute_result"
    }
   ],
   "source": [
    "remove_property_ids = property_df[property_df.priority > 4].property_id\n",
    "remove_property_ids"
   ]
  },
  {
   "cell_type": "code",
   "execution_count": 5,
   "metadata": {},
   "outputs": [
    {
     "name": "stdout",
     "output_type": "stream",
     "text": [
      "CPU times: user 8.99 s, sys: 1.68 s, total: 10.7 s\n",
      "Wall time: 10.7 s\n"
     ]
    },
    {
     "data": {
      "text/html": [
       "<div>\n",
       "<style scoped>\n",
       "    .dataframe tbody tr th:only-of-type {\n",
       "        vertical-align: middle;\n",
       "    }\n",
       "\n",
       "    .dataframe tbody tr th {\n",
       "        vertical-align: top;\n",
       "    }\n",
       "\n",
       "    .dataframe thead th {\n",
       "        text-align: right;\n",
       "    }\n",
       "</style>\n",
       "<table border=\"1\" class=\"dataframe\">\n",
       "  <thead>\n",
       "    <tr style=\"text-align: right;\">\n",
       "      <th></th>\n",
       "      <th>source_item_id</th>\n",
       "      <th>edge_property_id</th>\n",
       "      <th>target_item_id</th>\n",
       "    </tr>\n",
       "  </thead>\n",
       "  <tbody>\n",
       "    <tr>\n",
       "      <th>0</th>\n",
       "      <td>1</td>\n",
       "      <td>31</td>\n",
       "      <td>36906466</td>\n",
       "    </tr>\n",
       "    <tr>\n",
       "      <th>22</th>\n",
       "      <td>1</td>\n",
       "      <td>1419</td>\n",
       "      <td>5457948</td>\n",
       "    </tr>\n",
       "    <tr>\n",
       "      <th>24</th>\n",
       "      <td>1</td>\n",
       "      <td>1552</td>\n",
       "      <td>11412</td>\n",
       "    </tr>\n",
       "    <tr>\n",
       "      <th>27</th>\n",
       "      <td>1</td>\n",
       "      <td>2184</td>\n",
       "      <td>136407</td>\n",
       "    </tr>\n",
       "    <tr>\n",
       "      <th>28</th>\n",
       "      <td>1</td>\n",
       "      <td>2579</td>\n",
       "      <td>338</td>\n",
       "    </tr>\n",
       "    <tr>\n",
       "      <th>...</th>\n",
       "      <td>...</td>\n",
       "      <td>...</td>\n",
       "      <td>...</td>\n",
       "    </tr>\n",
       "    <tr>\n",
       "      <th>141206843</th>\n",
       "      <td>77257472</td>\n",
       "      <td>31</td>\n",
       "      <td>318</td>\n",
       "    </tr>\n",
       "    <tr>\n",
       "      <th>141206845</th>\n",
       "      <td>77257483</td>\n",
       "      <td>31</td>\n",
       "      <td>318</td>\n",
       "    </tr>\n",
       "    <tr>\n",
       "      <th>141206847</th>\n",
       "      <td>77257484</td>\n",
       "      <td>31</td>\n",
       "      <td>318</td>\n",
       "    </tr>\n",
       "    <tr>\n",
       "      <th>141206849</th>\n",
       "      <td>77257491</td>\n",
       "      <td>31</td>\n",
       "      <td>318</td>\n",
       "    </tr>\n",
       "    <tr>\n",
       "      <th>141206851</th>\n",
       "      <td>77257493</td>\n",
       "      <td>31</td>\n",
       "      <td>318</td>\n",
       "    </tr>\n",
       "  </tbody>\n",
       "</table>\n",
       "<p>98499897 rows × 3 columns</p>\n",
       "</div>"
      ],
      "text/plain": [
       "           source_item_id  edge_property_id  target_item_id\n",
       "0                       1                31        36906466\n",
       "22                      1              1419         5457948\n",
       "24                      1              1552           11412\n",
       "27                      1              2184          136407\n",
       "28                      1              2579             338\n",
       "...                   ...               ...             ...\n",
       "141206843        77257472                31             318\n",
       "141206845        77257483                31             318\n",
       "141206847        77257484                31             318\n",
       "141206849        77257491                31             318\n",
       "141206851        77257493                31             318\n",
       "\n",
       "[98499897 rows x 3 columns]"
      ]
     },
     "execution_count": 5,
     "metadata": {},
     "output_type": "execute_result"
    }
   ],
   "source": [
    "%%time\n",
    "statements_df_filtered = statements_full_df[~statements_full_df.edge_property_id.isin(remove_property_ids)]\n",
    "statements_df_filtered"
   ]
  },
  {
   "cell_type": "code",
   "execution_count": 6,
   "metadata": {},
   "outputs": [
    {
     "data": {
      "text/html": [
       "<div>\n",
       "<style scoped>\n",
       "    .dataframe tbody tr th:only-of-type {\n",
       "        vertical-align: middle;\n",
       "    }\n",
       "\n",
       "    .dataframe tbody tr th {\n",
       "        vertical-align: top;\n",
       "    }\n",
       "\n",
       "    .dataframe thead th {\n",
       "        text-align: right;\n",
       "    }\n",
       "</style>\n",
       "<table border=\"1\" class=\"dataframe\">\n",
       "  <thead>\n",
       "    <tr style=\"text-align: right;\">\n",
       "      <th></th>\n",
       "      <th>page_id</th>\n",
       "      <th>item_id</th>\n",
       "      <th>title</th>\n",
       "      <th>views</th>\n",
       "      <th>counts</th>\n",
       "    </tr>\n",
       "  </thead>\n",
       "  <tbody>\n",
       "    <tr>\n",
       "      <th>0</th>\n",
       "      <td>12</td>\n",
       "      <td>6199</td>\n",
       "      <td>Anarchism</td>\n",
       "      <td>31335</td>\n",
       "      <td>3540</td>\n",
       "    </tr>\n",
       "    <tr>\n",
       "      <th>1</th>\n",
       "      <td>25</td>\n",
       "      <td>38404</td>\n",
       "      <td>Autism</td>\n",
       "      <td>49693</td>\n",
       "      <td>2114</td>\n",
       "    </tr>\n",
       "    <tr>\n",
       "      <th>2</th>\n",
       "      <td>39</td>\n",
       "      <td>101038</td>\n",
       "      <td>Albedo</td>\n",
       "      <td>14573</td>\n",
       "      <td>2825</td>\n",
       "    </tr>\n",
       "    <tr>\n",
       "      <th>3</th>\n",
       "      <td>290</td>\n",
       "      <td>9659</td>\n",
       "      <td>A</td>\n",
       "      <td>25859</td>\n",
       "      <td>175</td>\n",
       "    </tr>\n",
       "    <tr>\n",
       "      <th>4</th>\n",
       "      <td>303</td>\n",
       "      <td>173</td>\n",
       "      <td>Alabama</td>\n",
       "      <td>52765</td>\n",
       "      <td>11125</td>\n",
       "    </tr>\n",
       "    <tr>\n",
       "      <th>...</th>\n",
       "      <td>...</td>\n",
       "      <td>...</td>\n",
       "      <td>...</td>\n",
       "      <td>...</td>\n",
       "      <td>...</td>\n",
       "    </tr>\n",
       "    <tr>\n",
       "      <th>5362169</th>\n",
       "      <td>62470350</td>\n",
       "      <td>76894635</td>\n",
       "      <td>Daming Zhu</td>\n",
       "      <td>16</td>\n",
       "      <td>0</td>\n",
       "    </tr>\n",
       "    <tr>\n",
       "      <th>5362170</th>\n",
       "      <td>62470423</td>\n",
       "      <td>76894633</td>\n",
       "      <td>Tony Dews</td>\n",
       "      <td>7</td>\n",
       "      <td>2</td>\n",
       "    </tr>\n",
       "    <tr>\n",
       "      <th>5362171</th>\n",
       "      <td>62470432</td>\n",
       "      <td>76896959</td>\n",
       "      <td>Samsung PL20</td>\n",
       "      <td>9</td>\n",
       "      <td>0</td>\n",
       "    </tr>\n",
       "    <tr>\n",
       "      <th>5362172</th>\n",
       "      <td>62470465</td>\n",
       "      <td>6034153</td>\n",
       "      <td>Nils-Fredrik Palmstierna</td>\n",
       "      <td>8</td>\n",
       "      <td>3</td>\n",
       "    </tr>\n",
       "    <tr>\n",
       "      <th>5362173</th>\n",
       "      <td>62473330</td>\n",
       "      <td>21083961</td>\n",
       "      <td>Shibuya Crossing</td>\n",
       "      <td>68</td>\n",
       "      <td>1</td>\n",
       "    </tr>\n",
       "  </tbody>\n",
       "</table>\n",
       "<p>5362174 rows × 5 columns</p>\n",
       "</div>"
      ],
      "text/plain": [
       "          page_id   item_id                     title  views  counts\n",
       "0              12      6199                 Anarchism  31335    3540\n",
       "1              25     38404                    Autism  49693    2114\n",
       "2              39    101038                    Albedo  14573    2825\n",
       "3             290      9659                         A  25859     175\n",
       "4             303       173                   Alabama  52765   11125\n",
       "...           ...       ...                       ...    ...     ...\n",
       "5362169  62470350  76894635                Daming Zhu     16       0\n",
       "5362170  62470423  76894633                 Tony Dews      7       2\n",
       "5362171  62470432  76896959              Samsung PL20      9       0\n",
       "5362172  62470465   6034153  Nils-Fredrik Palmstierna      8       3\n",
       "5362173  62473330  21083961          Shibuya Crossing     68       1\n",
       "\n",
       "[5362174 rows x 5 columns]"
      ]
     },
     "metadata": {},
     "output_type": "display_data"
    },
    {
     "data": {
      "text/html": [
       "<div>\n",
       "<style scoped>\n",
       "    .dataframe tbody tr th:only-of-type {\n",
       "        vertical-align: middle;\n",
       "    }\n",
       "\n",
       "    .dataframe tbody tr th {\n",
       "        vertical-align: top;\n",
       "    }\n",
       "\n",
       "    .dataframe thead th {\n",
       "        text-align: right;\n",
       "    }\n",
       "</style>\n",
       "<table border=\"1\" class=\"dataframe\">\n",
       "  <thead>\n",
       "    <tr style=\"text-align: right;\">\n",
       "      <th></th>\n",
       "      <th>counts</th>\n",
       "      <th>views</th>\n",
       "    </tr>\n",
       "  </thead>\n",
       "  <tbody>\n",
       "    <tr>\n",
       "      <th>count</th>\n",
       "      <td>5362174.00000</td>\n",
       "      <td>5362174.00000</td>\n",
       "    </tr>\n",
       "    <tr>\n",
       "      <th>mean</th>\n",
       "      <td>22.72128</td>\n",
       "      <td>455.49829</td>\n",
       "    </tr>\n",
       "    <tr>\n",
       "      <th>std</th>\n",
       "      <td>356.40711</td>\n",
       "      <td>6783.22845</td>\n",
       "    </tr>\n",
       "    <tr>\n",
       "      <th>min</th>\n",
       "      <td>0.00000</td>\n",
       "      <td>5.00000</td>\n",
       "    </tr>\n",
       "    <tr>\n",
       "      <th>25%</th>\n",
       "      <td>1.00000</td>\n",
       "      <td>21.00000</td>\n",
       "    </tr>\n",
       "    <tr>\n",
       "      <th>50%</th>\n",
       "      <td>3.00000</td>\n",
       "      <td>53.00000</td>\n",
       "    </tr>\n",
       "    <tr>\n",
       "      <th>75%</th>\n",
       "      <td>10.00000</td>\n",
       "      <td>181.00000</td>\n",
       "    </tr>\n",
       "    <tr>\n",
       "      <th>max</th>\n",
       "      <td>283127.00000</td>\n",
       "      <td>13300025.00000</td>\n",
       "    </tr>\n",
       "  </tbody>\n",
       "</table>\n",
       "</div>"
      ],
      "text/plain": [
       "             counts          views\n",
       "count 5362174.00000  5362174.00000\n",
       "mean       22.72128      455.49829\n",
       "std       356.40711     6783.22845\n",
       "min         0.00000        5.00000\n",
       "25%         1.00000       21.00000\n",
       "50%         3.00000       53.00000\n",
       "75%        10.00000      181.00000\n",
       "max    283127.00000 13300025.00000"
      ]
     },
     "metadata": {},
     "output_type": "display_data"
    }
   ],
   "source": [
    "id_count_df = pd.read_csv('data/id_counts.csv')\n",
    "display(id_count_df)\n",
    "display(id_count_df[['counts','views']].describe())"
   ]
  },
  {
   "cell_type": "code",
   "execution_count": 7,
   "metadata": {},
   "outputs": [
    {
     "name": "stdout",
     "output_type": "stream",
     "text": [
      "4517152 885419\n"
     ]
    }
   ],
   "source": [
    "light_filter_ids = id_count_df[(id_count_df.counts > 0) & (id_count_df.views > 0)].page_id\n",
    "heavy_filter_ids = id_count_df[(id_count_df.counts >= 10) & (id_count_df.views >= 181)].page_id\n",
    "print(len(light_filter_ids), len(heavy_filter_ids))"
   ]
  },
  {
   "cell_type": "code",
   "execution_count": 8,
   "metadata": {},
   "outputs": [
    {
     "name": "stdout",
     "output_type": "stream",
     "text": [
      "CPU times: user 19.1 s, sys: 1.83 s, total: 20.9 s\n",
      "Wall time: 20.9 s\n"
     ]
    },
    {
     "data": {
      "text/html": [
       "<div>\n",
       "<style scoped>\n",
       "    .dataframe tbody tr th:only-of-type {\n",
       "        vertical-align: middle;\n",
       "    }\n",
       "\n",
       "    .dataframe tbody tr th {\n",
       "        vertical-align: top;\n",
       "    }\n",
       "\n",
       "    .dataframe thead th {\n",
       "        text-align: right;\n",
       "    }\n",
       "</style>\n",
       "<table border=\"1\" class=\"dataframe\">\n",
       "  <thead>\n",
       "    <tr style=\"text-align: right;\">\n",
       "      <th></th>\n",
       "      <th>source_item_id</th>\n",
       "      <th>edge_property_id</th>\n",
       "      <th>target_item_id</th>\n",
       "    </tr>\n",
       "  </thead>\n",
       "  <tbody>\n",
       "    <tr>\n",
       "      <th>27</th>\n",
       "      <td>1</td>\n",
       "      <td>2184</td>\n",
       "      <td>136407</td>\n",
       "    </tr>\n",
       "    <tr>\n",
       "      <th>29</th>\n",
       "      <td>1</td>\n",
       "      <td>2670</td>\n",
       "      <td>6999</td>\n",
       "    </tr>\n",
       "    <tr>\n",
       "      <th>31</th>\n",
       "      <td>1</td>\n",
       "      <td>2670</td>\n",
       "      <td>79925</td>\n",
       "    </tr>\n",
       "    <tr>\n",
       "      <th>34</th>\n",
       "      <td>1</td>\n",
       "      <td>2670</td>\n",
       "      <td>6005984</td>\n",
       "    </tr>\n",
       "    <tr>\n",
       "      <th>32</th>\n",
       "      <td>1</td>\n",
       "      <td>2670</td>\n",
       "      <td>185674</td>\n",
       "    </tr>\n",
       "    <tr>\n",
       "      <th>...</th>\n",
       "      <td>...</td>\n",
       "      <td>...</td>\n",
       "      <td>...</td>\n",
       "    </tr>\n",
       "    <tr>\n",
       "      <th>141206292</th>\n",
       "      <td>77257096</td>\n",
       "      <td>159</td>\n",
       "      <td>752762</td>\n",
       "    </tr>\n",
       "    <tr>\n",
       "      <th>141206432</th>\n",
       "      <td>77257167</td>\n",
       "      <td>175</td>\n",
       "      <td>122003</td>\n",
       "    </tr>\n",
       "    <tr>\n",
       "      <th>141206527</th>\n",
       "      <td>77257218</td>\n",
       "      <td>17</td>\n",
       "      <td>664</td>\n",
       "    </tr>\n",
       "    <tr>\n",
       "      <th>141206654</th>\n",
       "      <td>77257283</td>\n",
       "      <td>407</td>\n",
       "      <td>9309</td>\n",
       "    </tr>\n",
       "    <tr>\n",
       "      <th>141206664</th>\n",
       "      <td>77257288</td>\n",
       "      <td>31</td>\n",
       "      <td>3947</td>\n",
       "    </tr>\n",
       "  </tbody>\n",
       "</table>\n",
       "<p>32159876 rows × 3 columns</p>\n",
       "</div>"
      ],
      "text/plain": [
       "           source_item_id  edge_property_id  target_item_id\n",
       "27                      1              2184          136407\n",
       "29                      1              2670            6999\n",
       "31                      1              2670           79925\n",
       "34                      1              2670         6005984\n",
       "32                      1              2670          185674\n",
       "...                   ...               ...             ...\n",
       "141206292        77257096               159          752762\n",
       "141206432        77257167               175          122003\n",
       "141206527        77257218                17             664\n",
       "141206654        77257283               407            9309\n",
       "141206664        77257288                31            3947\n",
       "\n",
       "[32159876 rows x 3 columns]"
      ]
     },
     "execution_count": 8,
     "metadata": {},
     "output_type": "execute_result"
    }
   ],
   "source": [
    "%%time\n",
    "statements_df_large = statements_df_filtered[statements_df_filtered.source_item_id.isin(light_filter_ids) \\\n",
    "                                             | statements_df_filtered.target_item_id.isin(light_filter_ids)]\n",
    "statements_df_large"
   ]
  },
  {
   "cell_type": "code",
   "execution_count": 9,
   "metadata": {},
   "outputs": [
    {
     "name": "stdout",
     "output_type": "stream",
     "text": [
      "CPU times: user 6.34 s, sys: 608 ms, total: 6.95 s\n",
      "Wall time: 6.95 s\n"
     ]
    },
    {
     "data": {
      "text/html": [
       "<div>\n",
       "<style scoped>\n",
       "    .dataframe tbody tr th:only-of-type {\n",
       "        vertical-align: middle;\n",
       "    }\n",
       "\n",
       "    .dataframe tbody tr th {\n",
       "        vertical-align: top;\n",
       "    }\n",
       "\n",
       "    .dataframe thead th {\n",
       "        text-align: right;\n",
       "    }\n",
       "</style>\n",
       "<table border=\"1\" class=\"dataframe\">\n",
       "  <thead>\n",
       "    <tr style=\"text-align: right;\">\n",
       "      <th></th>\n",
       "      <th>source_item_id</th>\n",
       "      <th>edge_property_id</th>\n",
       "      <th>target_item_id</th>\n",
       "    </tr>\n",
       "  </thead>\n",
       "  <tbody>\n",
       "    <tr>\n",
       "      <th>1384</th>\n",
       "      <td>25</td>\n",
       "      <td>194</td>\n",
       "      <td>493517</td>\n",
       "    </tr>\n",
       "    <tr>\n",
       "      <th>1383</th>\n",
       "      <td>25</td>\n",
       "      <td>163</td>\n",
       "      <td>185692</td>\n",
       "    </tr>\n",
       "    <tr>\n",
       "      <th>1405</th>\n",
       "      <td>25</td>\n",
       "      <td>2633</td>\n",
       "      <td>2670632</td>\n",
       "    </tr>\n",
       "    <tr>\n",
       "      <th>1407</th>\n",
       "      <td>25</td>\n",
       "      <td>2936</td>\n",
       "      <td>9309</td>\n",
       "    </tr>\n",
       "    <tr>\n",
       "      <th>1354</th>\n",
       "      <td>25</td>\n",
       "      <td>36</td>\n",
       "      <td>10690</td>\n",
       "    </tr>\n",
       "    <tr>\n",
       "      <th>...</th>\n",
       "      <td>...</td>\n",
       "      <td>...</td>\n",
       "      <td>...</td>\n",
       "    </tr>\n",
       "    <tr>\n",
       "      <th>125370990</th>\n",
       "      <td>62469942</td>\n",
       "      <td>186</td>\n",
       "      <td>296955</td>\n",
       "    </tr>\n",
       "    <tr>\n",
       "      <th>125371045</th>\n",
       "      <td>62469970</td>\n",
       "      <td>136</td>\n",
       "      <td>191163</td>\n",
       "    </tr>\n",
       "    <tr>\n",
       "      <th>125371344</th>\n",
       "      <td>62470119</td>\n",
       "      <td>276</td>\n",
       "      <td>1192305</td>\n",
       "    </tr>\n",
       "    <tr>\n",
       "      <th>125371341</th>\n",
       "      <td>62470119</td>\n",
       "      <td>186</td>\n",
       "      <td>296955</td>\n",
       "    </tr>\n",
       "    <tr>\n",
       "      <th>125371343</th>\n",
       "      <td>62470119</td>\n",
       "      <td>195</td>\n",
       "      <td>1192305</td>\n",
       "    </tr>\n",
       "  </tbody>\n",
       "</table>\n",
       "<p>2256805 rows × 3 columns</p>\n",
       "</div>"
      ],
      "text/plain": [
       "           source_item_id  edge_property_id  target_item_id\n",
       "1384                   25               194          493517\n",
       "1383                   25               163          185692\n",
       "1405                   25              2633         2670632\n",
       "1407                   25              2936            9309\n",
       "1354                   25                36           10690\n",
       "...                   ...               ...             ...\n",
       "125370990        62469942               186          296955\n",
       "125371045        62469970               136          191163\n",
       "125371344        62470119               276         1192305\n",
       "125371341        62470119               186          296955\n",
       "125371343        62470119               195         1192305\n",
       "\n",
       "[2256805 rows x 3 columns]"
      ]
     },
     "execution_count": 9,
     "metadata": {},
     "output_type": "execute_result"
    }
   ],
   "source": [
    "%%time\n",
    "statements_df_medium = statements_df_large[statements_df_large.source_item_id.isin(light_filter_ids) \\\n",
    "                                           & statements_df_large.target_item_id.isin(light_filter_ids)]\n",
    "statements_df_medium"
   ]
  },
  {
   "cell_type": "code",
   "execution_count": 10,
   "metadata": {},
   "outputs": [
    {
     "name": "stdout",
     "output_type": "stream",
     "text": [
      "CPU times: user 451 ms, sys: 7.94 ms, total: 459 ms\n",
      "Wall time: 458 ms\n"
     ]
    },
    {
     "data": {
      "text/html": [
       "<div>\n",
       "<style scoped>\n",
       "    .dataframe tbody tr th:only-of-type {\n",
       "        vertical-align: middle;\n",
       "    }\n",
       "\n",
       "    .dataframe tbody tr th {\n",
       "        vertical-align: top;\n",
       "    }\n",
       "\n",
       "    .dataframe thead th {\n",
       "        text-align: right;\n",
       "    }\n",
       "</style>\n",
       "<table border=\"1\" class=\"dataframe\">\n",
       "  <thead>\n",
       "    <tr style=\"text-align: right;\">\n",
       "      <th></th>\n",
       "      <th>source_item_id</th>\n",
       "      <th>edge_property_id</th>\n",
       "      <th>target_item_id</th>\n",
       "    </tr>\n",
       "  </thead>\n",
       "  <tbody>\n",
       "    <tr>\n",
       "      <th>1384</th>\n",
       "      <td>25</td>\n",
       "      <td>194</td>\n",
       "      <td>493517</td>\n",
       "    </tr>\n",
       "    <tr>\n",
       "      <th>1383</th>\n",
       "      <td>25</td>\n",
       "      <td>163</td>\n",
       "      <td>185692</td>\n",
       "    </tr>\n",
       "    <tr>\n",
       "      <th>1359</th>\n",
       "      <td>25</td>\n",
       "      <td>85</td>\n",
       "      <td>160036</td>\n",
       "    </tr>\n",
       "    <tr>\n",
       "      <th>1362</th>\n",
       "      <td>25</td>\n",
       "      <td>150</td>\n",
       "      <td>156150</td>\n",
       "    </tr>\n",
       "    <tr>\n",
       "      <th>1372</th>\n",
       "      <td>25</td>\n",
       "      <td>150</td>\n",
       "      <td>697126</td>\n",
       "    </tr>\n",
       "    <tr>\n",
       "      <th>...</th>\n",
       "      <td>...</td>\n",
       "      <td>...</td>\n",
       "      <td>...</td>\n",
       "    </tr>\n",
       "    <tr>\n",
       "      <th>125319547</th>\n",
       "      <td>62439410</td>\n",
       "      <td>279</td>\n",
       "      <td>8054</td>\n",
       "    </tr>\n",
       "    <tr>\n",
       "      <th>125339416</th>\n",
       "      <td>62451323</td>\n",
       "      <td>279</td>\n",
       "      <td>8054</td>\n",
       "    </tr>\n",
       "    <tr>\n",
       "      <th>125339415</th>\n",
       "      <td>62451323</td>\n",
       "      <td>31</td>\n",
       "      <td>8054</td>\n",
       "    </tr>\n",
       "    <tr>\n",
       "      <th>125366357</th>\n",
       "      <td>62467275</td>\n",
       "      <td>31</td>\n",
       "      <td>8054</td>\n",
       "    </tr>\n",
       "    <tr>\n",
       "      <th>125366358</th>\n",
       "      <td>62467275</td>\n",
       "      <td>279</td>\n",
       "      <td>8054</td>\n",
       "    </tr>\n",
       "  </tbody>\n",
       "</table>\n",
       "<p>588531 rows × 3 columns</p>\n",
       "</div>"
      ],
      "text/plain": [
       "           source_item_id  edge_property_id  target_item_id\n",
       "1384                   25               194          493517\n",
       "1383                   25               163          185692\n",
       "1359                   25                85          160036\n",
       "1362                   25               150          156150\n",
       "1372                   25               150          697126\n",
       "...                   ...               ...             ...\n",
       "125319547        62439410               279            8054\n",
       "125339416        62451323               279            8054\n",
       "125339415        62451323                31            8054\n",
       "125366357        62467275                31            8054\n",
       "125366358        62467275               279            8054\n",
       "\n",
       "[588531 rows x 3 columns]"
      ]
     },
     "execution_count": 10,
     "metadata": {},
     "output_type": "execute_result"
    }
   ],
   "source": [
    "%%time\n",
    "statements_df_small = statements_df_medium[statements_df_medium.source_item_id.isin(heavy_filter_ids) \\\n",
    "                                           & statements_df_medium.target_item_id.isin(heavy_filter_ids)]\n",
    "statements_df_small"
   ]
  },
  {
   "cell_type": "code",
   "execution_count": 11,
   "metadata": {},
   "outputs": [],
   "source": [
    "def make_graph_dict(df):\n",
    "    st = time.time()\n",
    "    # get unique entities and index of those entities\n",
    "    print(f'Generating indices of source nodes {time.time()-st}')\n",
    "    statements_np = df[['source_item_id', 'target_item_id']].to_numpy()\n",
    "    statements_np = statements_np[statements_np[:,0].argsort()]\n",
    "    display(statements_np)\n",
    "\n",
    "    unique, indices = np.unique(statements_np[:,0], return_index=True)\n",
    "    print('source ids:', len(unique), unique)\n",
    "\n",
    "    indices = np.append(indices, len(statements_np))\n",
    "    print('id indicies:', len(indices), indices[-10:])\n",
    "    \n",
    "    print(f'Creating Dict {time.time()-st}')\n",
    "    statement_dict = {j:np.unique(statements_np[indices[i]:indices[i+1], 1]) for i, j in enumerate(unique)}\n",
    "    print(len(statement_dict.items()))\n",
    "    return statement_dict"
   ]
  },
  {
   "cell_type": "code",
   "execution_count": 12,
   "metadata": {},
   "outputs": [
    {
     "name": "stdout",
     "output_type": "stream",
     "text": [
      "Generating indices of source nodes 4.76837158203125e-07\n"
     ]
    },
    {
     "data": {
      "text/plain": [
       "array([[       1, 36906466],\n",
       "       [       1,  1079826],\n",
       "       [       1,  2051667],\n",
       "       ...,\n",
       "       [77257484,      318],\n",
       "       [77257491,      318],\n",
       "       [77257493,      318]], dtype=int32)"
      ]
     },
     "metadata": {},
     "output_type": "display_data"
    },
    {
     "name": "stdout",
     "output_type": "stream",
     "text": [
      "source ids: 38488233 [       1        2        3 ... 77257484 77257491 77257493]\n",
      "id indicies: 38488234 [98499888 98499889 98499890 98499891 98499892 98499893 98499894 98499895\n",
      " 98499896 98499897]\n",
      "Creating Dict 5.399371385574341\n",
      "38488233\n"
     ]
    },
    {
     "data": {
      "text/plain": [
       "38488233"
      ]
     },
     "metadata": {},
     "output_type": "display_data"
    },
    {
     "name": "stdout",
     "output_type": "stream",
     "text": [
      "CPU times: user 6min 53s, sys: 4.15 s, total: 6min 58s\n",
      "Wall time: 6min 58s\n"
     ]
    },
    {
     "data": {
      "text/plain": [
       "array([      21,       46,      145,     1860,     6256,     6266,\n",
       "           9309,    10690,    25224,   109128,   156150,   160036,\n",
       "         168159,   185692,   207176,   213361,   217142,   217829,\n",
       "         217840,   331697,   493517,   505610,   596885,   643919,\n",
       "         650682,   666063,   697126,   748065,   748078,   817960,\n",
       "         817971,   843868,   844784,  1063608,  2670632,  3024240,\n",
       "        3112646,  3306663,  3336843,  6767407, 10996863, 11294004,\n",
       "       19588569, 24342199, 27103330], dtype=int32)"
      ]
     },
     "execution_count": 12,
     "metadata": {},
     "output_type": "execute_result"
    }
   ],
   "source": [
    "%%time\n",
    "statement_dict_filtered = make_graph_dict(statements_df_filtered)\n",
    "display(len(statement_dict_filtered))\n",
    "statement_dict_filtered[25]"
   ]
  },
  {
   "cell_type": "code",
   "execution_count": 13,
   "metadata": {},
   "outputs": [
    {
     "name": "stdout",
     "output_type": "stream",
     "text": [
      "Generating indices of source nodes 7.152557373046875e-07\n"
     ]
    },
    {
     "data": {
      "text/plain": [
       "array([[       1,   136407],\n",
       "       [       1,     6999],\n",
       "       [       1,    79925],\n",
       "       ...,\n",
       "       [77257218,      664],\n",
       "       [77257283,     9309],\n",
       "       [77257288,     3947]], dtype=int32)"
      ]
     },
     "metadata": {},
     "output_type": "display_data"
    },
    {
     "name": "stdout",
     "output_type": "stream",
     "text": [
      "source ids: 18861189 [       1        2        3 ... 77257218 77257283 77257288]\n",
      "id indicies: 18861190 [32159865 32159867 32159868 32159869 32159871 32159872 32159873 32159874\n",
      " 32159875 32159876]\n",
      "Creating Dict 1.7143964767456055\n",
      "18861189\n"
     ]
    },
    {
     "data": {
      "text/plain": [
       "18861189"
      ]
     },
     "metadata": {},
     "output_type": "display_data"
    },
    {
     "name": "stdout",
     "output_type": "stream",
     "text": [
      "CPU times: user 3min 20s, sys: 2.06 s, total: 3min 22s\n",
      "Wall time: 3min 22s\n"
     ]
    },
    {
     "data": {
      "text/plain": [
       "array([      21,       46,      145,     1860,     6256,     6266,\n",
       "           9309,    10690,    25224,   109128,   156150,   160036,\n",
       "         168159,   185692,   207176,   213361,   217142,   217829,\n",
       "         217840,   331697,   493517,   505610,   596885,   643919,\n",
       "         650682,   666063,   697126,   748065,   748078,   817960,\n",
       "         817971,   843868,   844784,  1063608,  2670632,  3024240,\n",
       "        3112646,  3306663,  3336843,  6767407, 10996863, 11294004,\n",
       "       19588569, 24342199, 27103330], dtype=int32)"
      ]
     },
     "execution_count": 13,
     "metadata": {},
     "output_type": "execute_result"
    }
   ],
   "source": [
    "%%time\n",
    "statement_dict_large = make_graph_dict(statements_df_large)\n",
    "display(len(statement_dict_large))\n",
    "statement_dict_large[25]"
   ]
  },
  {
   "cell_type": "code",
   "execution_count": 14,
   "metadata": {},
   "outputs": [
    {
     "name": "stdout",
     "output_type": "stream",
     "text": [
      "Generating indices of source nodes 2.384185791015625e-07\n"
     ]
    },
    {
     "data": {
      "text/plain": [
       "array([[      25,   493517],\n",
       "       [      25,   213361],\n",
       "       [      25,   697126],\n",
       "       ...,\n",
       "       [62470119,   296955],\n",
       "       [62470119,  1192305],\n",
       "       [62470119,  1192305]], dtype=int32)"
      ]
     },
     "metadata": {},
     "output_type": "display_data"
    },
    {
     "name": "stdout",
     "output_type": "stream",
     "text": [
      "source ids: 1338715 [      25       39      303 ... 62469942 62469970 62470119]\n",
      "id indicies: 1338716 [2256789 2256791 2256793 2256795 2256797 2256799 2256800 2256801 2256802\n",
      " 2256805]\n",
      "Creating Dict 0.11435866355895996\n",
      "1338715\n"
     ]
    },
    {
     "data": {
      "text/plain": [
       "1338715"
      ]
     },
     "metadata": {},
     "output_type": "display_data"
    },
    {
     "name": "stdout",
     "output_type": "stream",
     "text": [
      "CPU times: user 14.3 s, sys: 116 ms, total: 14.4 s\n",
      "Wall time: 14.4 s\n"
     ]
    },
    {
     "data": {
      "text/plain": [
       "array([   9309,   10690,  109128,  156150,  160036,  185692,  213361,\n",
       "        493517,  697126, 2670632], dtype=int32)"
      ]
     },
     "execution_count": 14,
     "metadata": {},
     "output_type": "execute_result"
    }
   ],
   "source": [
    "%%time\n",
    "statement_dict_medium = make_graph_dict(statements_df_medium)\n",
    "display(len(statement_dict_medium))\n",
    "statement_dict_medium[25]"
   ]
  },
  {
   "cell_type": "code",
   "execution_count": 15,
   "metadata": {},
   "outputs": [
    {
     "name": "stdout",
     "output_type": "stream",
     "text": [
      "Generating indices of source nodes 2.384185791015625e-07\n"
     ]
    },
    {
     "data": {
      "text/plain": [
       "array([[      25,   493517],\n",
       "       [      25,   185692],\n",
       "       [      25,   160036],\n",
       "       ...,\n",
       "       [62451323,     8054],\n",
       "       [62467275,     8054],\n",
       "       [62467275,     8054]], dtype=int32)"
      ]
     },
     "metadata": {},
     "output_type": "display_data"
    },
    {
     "name": "stdout",
     "output_type": "stream",
     "text": [
      "source ids: 337883 [      25       39      303 ... 62439410 62451323 62467275]\n",
      "id indicies: 337884 [588513 588515 588517 588519 588521 588523 588525 588527 588529 588531]\n",
      "Creating Dict 0.033460378646850586\n",
      "337883\n"
     ]
    },
    {
     "data": {
      "text/plain": [
       "337883"
      ]
     },
     "metadata": {},
     "output_type": "display_data"
    },
    {
     "name": "stdout",
     "output_type": "stream",
     "text": [
      "CPU times: user 3.65 s, sys: 16.1 ms, total: 3.67 s\n",
      "Wall time: 3.66 s\n"
     ]
    },
    {
     "data": {
      "text/plain": [
       "array([156150, 160036, 185692, 213361, 493517, 697126], dtype=int32)"
      ]
     },
     "execution_count": 15,
     "metadata": {},
     "output_type": "execute_result"
    }
   ],
   "source": [
    "%%time\n",
    "statement_dict_small = make_graph_dict(statements_df_small)\n",
    "display(len(statement_dict_small))\n",
    "statement_dict_small[25]"
   ]
  },
  {
   "cell_type": "code",
   "execution_count": 16,
   "metadata": {},
   "outputs": [
    {
     "name": "stdout",
     "output_type": "stream",
     "text": [
      "CPU times: user 6min 10s, sys: 14.9 s, total: 6min 25s\n",
      "Wall time: 6min 21s\n"
     ]
    }
   ],
   "source": [
    "%%time\n",
    "pickle.dump(statement_dict_filtered, open('data/graph_filtered.p', 'wb'), protocol=pickle.HIGHEST_PROTOCOL)"
   ]
  },
  {
   "cell_type": "code",
   "execution_count": 17,
   "metadata": {},
   "outputs": [
    {
     "name": "stdout",
     "output_type": "stream",
     "text": [
      "CPU times: user 2min 53s, sys: 7.08 s, total: 3min\n",
      "Wall time: 3min 5s\n"
     ]
    }
   ],
   "source": [
    "%%time\n",
    "pickle.dump(statement_dict_large, open('data/graph_large.p', 'wb'), protocol=pickle.HIGHEST_PROTOCOL)"
   ]
  },
  {
   "cell_type": "code",
   "execution_count": 18,
   "metadata": {},
   "outputs": [
    {
     "name": "stdout",
     "output_type": "stream",
     "text": [
      "CPU times: user 11.6 s, sys: 558 ms, total: 12.2 s\n",
      "Wall time: 12.2 s\n"
     ]
    }
   ],
   "source": [
    "%%time\n",
    "pickle.dump(statement_dict_medium, open('data/graph_medium.p', 'wb'), protocol=pickle.HIGHEST_PROTOCOL)"
   ]
  },
  {
   "cell_type": "code",
   "execution_count": 19,
   "metadata": {},
   "outputs": [
    {
     "name": "stdout",
     "output_type": "stream",
     "text": [
      "CPU times: user 2.87 s, sys: 112 ms, total: 2.98 s\n",
      "Wall time: 3.01 s\n"
     ]
    }
   ],
   "source": [
    "%%time\n",
    "pickle.dump(statement_dict_small, open('data/graph_small.p', 'wb'), protocol=pickle.HIGHEST_PROTOCOL)"
   ]
  },
  {
   "cell_type": "markdown",
   "metadata": {},
   "source": [
    "### Format graph to run through node2vec and generate embeddings"
   ]
  },
  {
   "cell_type": "code",
   "execution_count": 20,
   "metadata": {},
   "outputs": [
    {
     "data": {
      "text/plain": [
       "1"
      ]
     },
     "execution_count": 20,
     "metadata": {},
     "output_type": "execute_result"
    }
   ],
   "source": [
    "property_priority_dict = property_df.set_index('property_id').priority.to_dict()\n",
    "property_priority_dict[31]"
   ]
  },
  {
   "cell_type": "code",
   "execution_count": 21,
   "metadata": {},
   "outputs": [
    {
     "name": "stdout",
     "output_type": "stream",
     "text": [
      "CPU times: user 1min 34s, sys: 371 ms, total: 1min 34s\n",
      "Wall time: 1min 34s\n"
     ]
    },
    {
     "data": {
      "text/html": [
       "<div>\n",
       "<style scoped>\n",
       "    .dataframe tbody tr th:only-of-type {\n",
       "        vertical-align: middle;\n",
       "    }\n",
       "\n",
       "    .dataframe tbody tr th {\n",
       "        vertical-align: top;\n",
       "    }\n",
       "\n",
       "    .dataframe thead th {\n",
       "        text-align: right;\n",
       "    }\n",
       "</style>\n",
       "<table border=\"1\" class=\"dataframe\">\n",
       "  <thead>\n",
       "    <tr style=\"text-align: right;\">\n",
       "      <th></th>\n",
       "      <th>source_item_id</th>\n",
       "      <th>edge_property_id</th>\n",
       "      <th>target_item_id</th>\n",
       "      <th>priority</th>\n",
       "    </tr>\n",
       "  </thead>\n",
       "  <tbody>\n",
       "    <tr>\n",
       "      <th>27</th>\n",
       "      <td>1</td>\n",
       "      <td>2184</td>\n",
       "      <td>136407</td>\n",
       "      <td>4</td>\n",
       "    </tr>\n",
       "    <tr>\n",
       "      <th>29</th>\n",
       "      <td>1</td>\n",
       "      <td>2670</td>\n",
       "      <td>6999</td>\n",
       "      <td>4</td>\n",
       "    </tr>\n",
       "    <tr>\n",
       "      <th>31</th>\n",
       "      <td>1</td>\n",
       "      <td>2670</td>\n",
       "      <td>79925</td>\n",
       "      <td>4</td>\n",
       "    </tr>\n",
       "    <tr>\n",
       "      <th>34</th>\n",
       "      <td>1</td>\n",
       "      <td>2670</td>\n",
       "      <td>6005984</td>\n",
       "      <td>4</td>\n",
       "    </tr>\n",
       "    <tr>\n",
       "      <th>32</th>\n",
       "      <td>1</td>\n",
       "      <td>2670</td>\n",
       "      <td>185674</td>\n",
       "      <td>4</td>\n",
       "    </tr>\n",
       "    <tr>\n",
       "      <th>...</th>\n",
       "      <td>...</td>\n",
       "      <td>...</td>\n",
       "      <td>...</td>\n",
       "      <td>...</td>\n",
       "    </tr>\n",
       "    <tr>\n",
       "      <th>141206292</th>\n",
       "      <td>77257096</td>\n",
       "      <td>159</td>\n",
       "      <td>752762</td>\n",
       "      <td>3</td>\n",
       "    </tr>\n",
       "    <tr>\n",
       "      <th>141206432</th>\n",
       "      <td>77257167</td>\n",
       "      <td>175</td>\n",
       "      <td>122003</td>\n",
       "      <td>2</td>\n",
       "    </tr>\n",
       "    <tr>\n",
       "      <th>141206527</th>\n",
       "      <td>77257218</td>\n",
       "      <td>17</td>\n",
       "      <td>664</td>\n",
       "      <td>4</td>\n",
       "    </tr>\n",
       "    <tr>\n",
       "      <th>141206654</th>\n",
       "      <td>77257283</td>\n",
       "      <td>407</td>\n",
       "      <td>9309</td>\n",
       "      <td>4</td>\n",
       "    </tr>\n",
       "    <tr>\n",
       "      <th>141206664</th>\n",
       "      <td>77257288</td>\n",
       "      <td>31</td>\n",
       "      <td>3947</td>\n",
       "      <td>1</td>\n",
       "    </tr>\n",
       "  </tbody>\n",
       "</table>\n",
       "<p>32159876 rows × 4 columns</p>\n",
       "</div>"
      ],
      "text/plain": [
       "           source_item_id  edge_property_id  target_item_id  priority\n",
       "27                      1              2184          136407         4\n",
       "29                      1              2670            6999         4\n",
       "31                      1              2670           79925         4\n",
       "34                      1              2670         6005984         4\n",
       "32                      1              2670          185674         4\n",
       "...                   ...               ...             ...       ...\n",
       "141206292        77257096               159          752762         3\n",
       "141206432        77257167               175          122003         2\n",
       "141206527        77257218                17             664         4\n",
       "141206654        77257283               407            9309         4\n",
       "141206664        77257288                31            3947         1\n",
       "\n",
       "[32159876 rows x 4 columns]"
      ]
     },
     "execution_count": 21,
     "metadata": {},
     "output_type": "execute_result"
    }
   ],
   "source": [
    "%%time\n",
    "statements_df_embed = statements_df_large.copy() # choose which size graph you want to embed\n",
    "statements_df_embed['priority'] = [property_priority_dict[i] for i in statements_df_embed.edge_property_id.values]\n",
    "statements_df_embed"
   ]
  },
  {
   "cell_type": "code",
   "execution_count": 22,
   "metadata": {},
   "outputs": [
    {
     "data": {
      "text/html": [
       "<div>\n",
       "<style scoped>\n",
       "    .dataframe tbody tr th:only-of-type {\n",
       "        vertical-align: middle;\n",
       "    }\n",
       "\n",
       "    .dataframe tbody tr th {\n",
       "        vertical-align: top;\n",
       "    }\n",
       "\n",
       "    .dataframe thead th {\n",
       "        text-align: right;\n",
       "    }\n",
       "</style>\n",
       "<table border=\"1\" class=\"dataframe\">\n",
       "  <thead>\n",
       "    <tr style=\"text-align: right;\">\n",
       "      <th></th>\n",
       "      <th>source_item_id</th>\n",
       "      <th>target_item_id</th>\n",
       "      <th>weight</th>\n",
       "    </tr>\n",
       "  </thead>\n",
       "  <tbody>\n",
       "    <tr>\n",
       "      <th>0</th>\n",
       "      <td>1</td>\n",
       "      <td>6999</td>\n",
       "      <td>1</td>\n",
       "    </tr>\n",
       "    <tr>\n",
       "      <th>1</th>\n",
       "      <td>1</td>\n",
       "      <td>79925</td>\n",
       "      <td>1</td>\n",
       "    </tr>\n",
       "    <tr>\n",
       "      <th>2</th>\n",
       "      <td>1</td>\n",
       "      <td>136407</td>\n",
       "      <td>1</td>\n",
       "    </tr>\n",
       "    <tr>\n",
       "      <th>3</th>\n",
       "      <td>1</td>\n",
       "      <td>185674</td>\n",
       "      <td>1</td>\n",
       "    </tr>\n",
       "    <tr>\n",
       "      <th>4</th>\n",
       "      <td>1</td>\n",
       "      <td>497745</td>\n",
       "      <td>1</td>\n",
       "    </tr>\n",
       "    <tr>\n",
       "      <th>...</th>\n",
       "      <td>...</td>\n",
       "      <td>...</td>\n",
       "      <td>...</td>\n",
       "    </tr>\n",
       "    <tr>\n",
       "      <th>30684210</th>\n",
       "      <td>77257096</td>\n",
       "      <td>752762</td>\n",
       "      <td>3</td>\n",
       "    </tr>\n",
       "    <tr>\n",
       "      <th>30684211</th>\n",
       "      <td>77257167</td>\n",
       "      <td>122003</td>\n",
       "      <td>4</td>\n",
       "    </tr>\n",
       "    <tr>\n",
       "      <th>30684212</th>\n",
       "      <td>77257218</td>\n",
       "      <td>664</td>\n",
       "      <td>1</td>\n",
       "    </tr>\n",
       "    <tr>\n",
       "      <th>30684213</th>\n",
       "      <td>77257283</td>\n",
       "      <td>9309</td>\n",
       "      <td>1</td>\n",
       "    </tr>\n",
       "    <tr>\n",
       "      <th>30684214</th>\n",
       "      <td>77257288</td>\n",
       "      <td>3947</td>\n",
       "      <td>5</td>\n",
       "    </tr>\n",
       "  </tbody>\n",
       "</table>\n",
       "<p>30684215 rows × 3 columns</p>\n",
       "</div>"
      ],
      "text/plain": [
       "          source_item_id  target_item_id  weight\n",
       "0                      1            6999       1\n",
       "1                      1           79925       1\n",
       "2                      1          136407       1\n",
       "3                      1          185674       1\n",
       "4                      1          497745       1\n",
       "...                  ...             ...     ...\n",
       "30684210        77257096          752762       3\n",
       "30684211        77257167          122003       4\n",
       "30684212        77257218             664       1\n",
       "30684213        77257283            9309       1\n",
       "30684214        77257288            3947       5\n",
       "\n",
       "[30684215 rows x 3 columns]"
      ]
     },
     "execution_count": 22,
     "metadata": {},
     "output_type": "execute_result"
    }
   ],
   "source": [
    "weight_mapping = {1:5, 2:4, 3:3, 4:1}\n",
    "statements_df_embed['weight'] = [weight_mapping.get(i, -1) for i in statements_df_embed.priority]\n",
    "statements_df_embed = statements_df_embed.groupby(['source_item_id', 'target_item_id'])['weight'].sum().to_frame().reset_index()\n",
    "statements_df_embed"
   ]
  },
  {
   "cell_type": "code",
   "execution_count": 23,
   "metadata": {},
   "outputs": [
    {
     "name": "stdout",
     "output_type": "stream",
     "text": [
      "CPU times: user 54.1 s, sys: 506 ms, total: 54.6 s\n",
      "Wall time: 54.6 s\n"
     ]
    }
   ],
   "source": [
    "%%time\n",
    "#Exports to the format used by node2vec\n",
    "statements_df_embed.to_csv('data/statements_embed.csv', header=False, index=False, sep=' ')"
   ]
  }
 ],
 "metadata": {
  "kernelspec": {
   "display_name": "Python 3",
   "language": "python",
   "name": "python3"
  },
  "language_info": {
   "codemirror_mode": {
    "name": "ipython",
    "version": 3
   },
   "file_extension": ".py",
   "mimetype": "text/x-python",
   "name": "python",
   "nbconvert_exporter": "python",
   "pygments_lexer": "ipython3",
   "version": "3.6.10"
  }
 },
 "nbformat": 4,
 "nbformat_minor": 4
}
