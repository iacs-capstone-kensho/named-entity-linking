{
 "cells": [
  {
   "cell_type": "code",
   "execution_count": 1,
   "metadata": {},
   "outputs": [],
   "source": [
    "import pandas as pd\n",
    "import numpy as np\n",
    "import pickle"
   ]
  },
  {
   "cell_type": "code",
   "execution_count": 2,
   "metadata": {},
   "outputs": [
    {
     "name": "stdout",
     "output_type": "stream",
     "text": [
      "[    9036   163343   478214  1050485  1428953  1548225  2406220  7705502\n",
      " 16258100 27701406]\n",
      "Wall time: 11.3 s\n"
     ]
    }
   ],
   "source": [
    "%%time\n",
    "item_df = pd.read_csv('item_dict.csv', delimiter = ',')\n",
    "item_dict = dict(zip(item_df.en_label.values, [np.fromstring(i, dtype=int, sep=',') for i in item_df.item_id.values]))\n",
    "del item_df\n",
    "print(item_dict['tesla'])"
   ]
  },
  {
   "cell_type": "code",
   "execution_count": 3,
   "metadata": {},
   "outputs": [
    {
     "name": "stdout",
     "output_type": "stream",
     "text": [
      "6230693\n"
     ]
    }
   ],
   "source": [
    "print(len(item_dict))"
   ]
  },
  {
   "cell_type": "code",
   "execution_count": 4,
   "metadata": {},
   "outputs": [
    {
     "name": "stdout",
     "output_type": "stream",
     "text": [
      "[  367211       60  6581097 16086586 12750167       30    28513   131964\n",
      "        5    31519   689775  1905051    43035   101333     9301   169470\n",
      "   205375  1326886  1906857  2267418   632404  4920135   613201    93728\n",
      "   111734   678263  1332315  1366018  1517792  3332215  5442484 17552952\n",
      " 41799198   127885  1280677   131566  1132636  1132636    12152       60\n",
      "       90     1085     1781     3617    13298    49258   367211 37251206\n",
      " 15501913    93996  6374306  3739104   602358  2041543 12912667 17378135\n",
      " 67311526    38104      150      188      397      652     1860     9056\n",
      "     9067     9301    83364 16098713  5460604  1700481     1860]\n",
      "Wall time: 1min 15s\n"
     ]
    }
   ],
   "source": [
    "%%time\n",
    "#unidirection will take ~2.5 min\n",
    "#bidirectional will take ~5 min\n",
    "graph_df = pd.read_csv('statements_uni.csv', delimiter = ',')\n",
    "graph_dict = dict(zip(graph_df.Source.values, [np.fromstring(i, dtype=int, sep=',') for i in graph_df.Targets.values]))\n",
    "del graph_df\n",
    "print(graph_dict[9036])"
   ]
  },
  {
   "cell_type": "code",
   "execution_count": 5,
   "metadata": {
    "scrolled": true
   },
   "outputs": [],
   "source": [
    "def traverse(root, levels=1):\n",
    "    level = [np.unique(graph_dict.get(root))]\n",
    "    \n",
    "    for i in range(1, levels):\n",
    "        temp = np.unique(np.concatenate([graph_dict.get(j, np.array([], dtype=int)) for j in level[i-1]]))\n",
    "        level.append(np.setdiff1d(temp, np.concatenate(level)))\n",
    "    \n",
    "    return level\n",
    "\n",
    "#for i in range(1, 11): \n",
    "#    print(f'{i} levels')\n",
    "#    %time test = traverse(9036, i)\n",
    "#    print(len(test[-1]), 'nodes')"
   ]
  },
  {
   "cell_type": "code",
   "execution_count": 6,
   "metadata": {},
   "outputs": [],
   "source": [
    "def Traverse(root, levels=1):\n",
    "    \n",
    "    if (type(graph_dict.get(root))==None):\n",
    "        a =[]\n",
    "        return a\n",
    "    level = [np.unique(graph_dict.get(root))]\n",
    "    #print (type(level))\n",
    "    for i in range(1, levels):\n",
    "        try:\n",
    "            temp = np.unique(np.concatenate([graph_dict.get(j, np.array([], dtype=int)) for j in level[i-1]]))\n",
    "        except:\n",
    "            return []\n",
    "        level.append(np.setdiff1d(temp, np.concatenate(level)))\n",
    "    for i in range(len(level)):\n",
    "        level[i]=set(level[i])\n",
    "    return level\n",
    "\n"
   ]
  },
  {
   "cell_type": "code",
   "execution_count": 7,
   "metadata": {},
   "outputs": [],
   "source": [
    "a=Traverse(9036,10)"
   ]
  },
  {
   "cell_type": "code",
   "execution_count": 8,
   "metadata": {},
   "outputs": [
    {
     "data": {
      "text/plain": [
       "10"
      ]
     },
     "execution_count": 8,
     "metadata": {},
     "output_type": "execute_result"
    }
   ],
   "source": [
    "len(a)"
   ]
  },
  {
   "cell_type": "code",
   "execution_count": 9,
   "metadata": {},
   "outputs": [],
   "source": [
    "    \n",
    "def find_shortest_path_length(src,dst,maxlev,Dict):\n",
    "    if dst==-1 or src ==-1:\n",
    "        return 0\n",
    "    if (src,dst) in Dict: return Dict[(src,dst)]\n",
    "    else:\n",
    "    \n",
    "        pathlength=0\n",
    "        found=False\n",
    "        reachend=False\n",
    "        level_sets=Traverse(src,maxlev)\n",
    "        if level_sets==[]:\n",
    "            Dict[(src,dst)]=5\n",
    "            return 5\n",
    "        level=0\n",
    "    \n",
    "        while ((not found) and (not reachend)):\n",
    "            if (level==maxlev):\n",
    "                reachend=True\n",
    "        \n",
    "            elif dst in level_sets[level]:\n",
    "                pathlength=level\n",
    "                found =True\n",
    "            else:\n",
    "                level+=1\n",
    "        if found == True:\n",
    "            Dict[(src,dst)]=level+1\n",
    "            return level+1\n",
    "        else:\n",
    "            Dict[(src,dst)]=5\n",
    "            return 5\n",
    "        "
   ]
  },
  {
   "cell_type": "code",
   "execution_count": 10,
   "metadata": {},
   "outputs": [
    {
     "name": "stdout",
     "output_type": "stream",
     "text": [
      "Wall time: 4.11 s\n"
     ]
    },
    {
     "data": {
      "text/plain": [
       "10"
      ]
     },
     "execution_count": 10,
     "metadata": {},
     "output_type": "execute_result"
    }
   ],
   "source": [
    "%%time\n",
    "find_shortest_path_length(9036,5507494,10, {})"
   ]
  },
  {
   "cell_type": "code",
   "execution_count": 11,
   "metadata": {},
   "outputs": [
    {
     "data": {
      "text/plain": [
       "0"
      ]
     },
     "execution_count": 11,
     "metadata": {},
     "output_type": "execute_result"
    }
   ],
   "source": [
    "find_shortest_path_length(9036,-1,10,{})"
   ]
  },
  {
   "cell_type": "code",
   "execution_count": 12,
   "metadata": {},
   "outputs": [],
   "source": [
    "sentences = pickle.load(open(\"sentences.p\", \"rb\"))"
   ]
  },
  {
   "cell_type": "code",
   "execution_count": 13,
   "metadata": {},
   "outputs": [
    {
     "data": {
      "text/plain": [
       "([[275102],\n",
       "  [1675432, 56538769, 30272204],\n",
       "  [18366588, 217, 209754],\n",
       "  [],\n",
       "  [],\n",
       "  [7913, 2175775, 57477615],\n",
       "  [3627558, 2497107],\n",
       "  [13211, 26245],\n",
       "  [4135847, 4135849, 4135859, 7128194, 16562681, 17536409, 31283669, 11692785],\n",
       "  [809, 385059, 22061936, 36982750, 57477613],\n",
       "  []],\n",
       " array(['voivode', 'iuga', 'moldavia', '1400)(known', 'iurg', 'romanian',\n",
       "        'yury', 'ruthenian', 'jerzy', 'polish', 'ologul'], dtype=object),\n",
       " ('Voivode', 149044, 275102))"
      ]
     },
     "execution_count": 13,
     "metadata": {},
     "output_type": "execute_result"
    }
   ],
   "source": [
    "sentences[0]"
   ]
  },
  {
   "cell_type": "code",
   "execution_count": 1,
   "metadata": {},
   "outputs": [
    {
     "ename": "NameError",
     "evalue": "name 'sentences' is not defined",
     "output_type": "error",
     "traceback": [
      "\u001b[1;31m---------------------------------------------------------------------------\u001b[0m",
      "\u001b[1;31mNameError\u001b[0m                                 Traceback (most recent call last)",
      "\u001b[1;32m<ipython-input-1-317bbbf38984>\u001b[0m in \u001b[0;36m<module>\u001b[1;34m\u001b[0m\n\u001b[1;32m----> 1\u001b[1;33m \u001b[0mlen\u001b[0m\u001b[1;33m(\u001b[0m\u001b[0msentences\u001b[0m\u001b[1;33m)\u001b[0m\u001b[1;33m\u001b[0m\u001b[1;33m\u001b[0m\u001b[0m\n\u001b[0m",
      "\u001b[1;31mNameError\u001b[0m: name 'sentences' is not defined"
     ]
    }
   ],
   "source": [
    "len(sentences)"
   ]
  },
  {
   "cell_type": "code",
   "execution_count": 16,
   "metadata": {},
   "outputs": [
    {
     "data": {
      "text/plain": [
       "[[48797348, 65807361, 35622],\n",
       " [776675, 48798668, 73002, 1343033, 27939009, 27939181, 30293377]]"
      ]
     },
     "execution_count": 16,
     "metadata": {},
     "output_type": "execute_result"
    }
   ],
   "source": [
    "sentences[4][0]"
   ]
  },
  {
   "cell_type": "code",
   "execution_count": 17,
   "metadata": {},
   "outputs": [
    {
     "data": {
      "text/plain": [
       "('SmackDown', 55778545, 48797348)"
      ]
     },
     "execution_count": 17,
     "metadata": {},
     "output_type": "execute_result"
    }
   ],
   "source": [
    "sentences[4][2]"
   ]
  },
  {
   "cell_type": "code",
   "execution_count": 14,
   "metadata": {},
   "outputs": [],
   "source": [
    "#pairwise for all => takes extremely long\n",
    "def disambiguate(candidate_lists):\n",
    "    Dict={}\n",
    "    for i in range(len(candidate_lists)):\n",
    "        if len(candidate_lists[i])==0:\n",
    "            candidate_lists[i].append(-1)\n",
    "    #print (candidate_lists)\n",
    "    combination_list = list(itertools.product(*candidate_lists))\n",
    "    #print(len(combination_list))\n",
    "    disambiguation = combination_list[0]\n",
    "    least = math.inf\n",
    "    for combinations in combination_list:\n",
    "        #print(\"dict is currently:\")\n",
    "        #print(Dict)\n",
    "        distance_sum = 0\n",
    "        #generate a list of pairs of candidates to calculate pairwise distances\n",
    "        #print(\"current combination:\", combinations)\n",
    "        pairs = list(itertools.combinations(combinations,2))\n",
    "        #print(pairs)\n",
    "        #print(len(pairs))\n",
    "        for pair in pairs:\n",
    "            #print(\"current pair:\", pair)\n",
    "            pair_dist = find_shortest_path_length(pair[0],pair[1],3,Dict)\n",
    "            #print(\"pair dist\", pair_dist)\n",
    "            distance_sum += pair_dist\n",
    "        if (distance_sum < least):\n",
    "            least = distance_sum\n",
    "            disambiguation = combinations\n",
    "        #print(least)\n",
    "        #print(\"end of current combination==========\")\n",
    "    return disambiguation"
   ]
  },
  {
   "cell_type": "code",
   "execution_count": 34,
   "metadata": {},
   "outputs": [
    {
     "data": {
      "text/plain": [
       "('SmackDown', 55778545, 48797348)"
      ]
     },
     "execution_count": 34,
     "metadata": {},
     "output_type": "execute_result"
    }
   ],
   "source": [
    "sentences[4][2]"
   ]
  },
  {
   "cell_type": "code",
   "execution_count": 15,
   "metadata": {},
   "outputs": [
    {
     "name": "stdout",
     "output_type": "stream",
     "text": [
      "Wall time: 95.8 ms\n"
     ]
    },
    {
     "data": {
      "text/plain": [
       "(65807361, 73002)"
      ]
     },
     "execution_count": 15,
     "metadata": {},
     "output_type": "execute_result"
    }
   ],
   "source": [
    "%%time\n",
    "import itertools\n",
    "import math\n",
    "disambiguate(sentences[4][0])"
   ]
  },
  {
   "cell_type": "code",
   "execution_count": 19,
   "metadata": {},
   "outputs": [],
   "source": [
    "def total_count(nested_list):\n",
    "    count =0\n",
    "    for lists in nested_list:\n",
    "        count = count + len(lists)\n",
    "    return count\n",
    "\n",
    "def prune_sentences(sentences):\n",
    "    for sentence in sentences[:]:\n",
    "        #print(sentence[0])\n",
    "        sentence_length = len(sentence[0])\n",
    "        total_disamb_count = total_count(sentence[0])\n",
    "        if (len(sentence[0][0])==1 or sentence_length > 10 or total_disamb_count > 50):\n",
    "            sentences.remove(sentence)\n"
   ]
  },
  {
   "cell_type": "code",
   "execution_count": 20,
   "metadata": {},
   "outputs": [],
   "source": [
    "copy = list(sentences)\n",
    "prune_sentences(copy)"
   ]
  },
  {
   "cell_type": "code",
   "execution_count": 21,
   "metadata": {},
   "outputs": [
    {
     "data": {
      "text/plain": [
       "33388"
      ]
     },
     "execution_count": 21,
     "metadata": {},
     "output_type": "execute_result"
    }
   ],
   "source": [
    "len(copy)"
   ]
  },
  {
   "cell_type": "markdown",
   "metadata": {},
   "source": [
    "## Disambiguation"
   ]
  },
  {
   "cell_type": "code",
   "execution_count": 23,
   "metadata": {
    "scrolled": false
   },
   "outputs": [
    {
     "name": "stdout",
     "output_type": "stream",
     "text": [
      "Wall time: 1h 1min 26s\n"
     ]
    },
    {
     "data": {
      "text/plain": [
       "0.7452"
      ]
     },
     "execution_count": 23,
     "metadata": {},
     "output_type": "execute_result"
    }
   ],
   "source": [
    "%%time\n",
    "import itertools\n",
    "import math\n",
    "\n",
    "def disamb_sentences(sentences):\n",
    "    cor_count=0\n",
    "    for sentence in sentences:\n",
    "    \n",
    "        if (disambiguate(sentence[0])[0]==sentence[2][2]):\n",
    "            cor_count = cor_count+1\n",
    "    return cor_count/len(sentences)\n",
    "\n",
    "disamb_sentences(copy[0:10000])"
   ]
  },
  {
   "cell_type": "markdown",
   "metadata": {},
   "source": [
    "https://arxiv.org/abs/1802.01074\n",
    "http://citeseerx.ist.psu.edu/viewdoc/summary?doi=10.1.1.557.136\n",
    "https://www.kaggle.com/gabrielaltay/kdwd-subclass-path-ner\n"
   ]
  },
  {
   "cell_type": "code",
   "execution_count": 29,
   "metadata": {},
   "outputs": [
    {
     "name": "stdout",
     "output_type": "stream",
     "text": [
      "[[275102], [1675432, 56538769, 30272204], [18366588, 217, 209754], [-1], [-1], [7913, 2175775, 57477615], [3627558, 2497107], [13211, 26245], [4135847, 4135849, 4135859, 7128194, 16562681, 17536409, 31283669, 11692785], [809, 385059, 22061936, 36982750, 57477613], [-1]]\n",
      "4320\n",
      "<class 'list'>\n",
      "<class 'list'>\n",
      "<class 'list'>\n",
      "<class 'list'>\n",
      "<class 'list'>\n",
      "<class 'list'>\n",
      "<class 'list'>\n",
      "<class 'list'>\n",
      "<class 'list'>\n",
      "<class 'list'>\n",
      "<class 'list'>\n",
      "<class 'list'>\n",
      "<class 'list'>\n",
      "<class 'list'>\n",
      "<class 'list'>\n",
      "<class 'list'>\n",
      "<class 'list'>\n",
      "<class 'list'>\n",
      "<class 'list'>\n",
      "<class 'list'>\n",
      "<class 'list'>\n",
      "<class 'list'>\n",
      "<class 'list'>\n",
      "<class 'list'>\n",
      "<class 'list'>\n",
      "<class 'list'>\n",
      "<class 'list'>\n",
      "<class 'list'>\n",
      "<class 'list'>\n",
      "<class 'list'>\n",
      "<class 'list'>\n",
      "<class 'list'>\n",
      "<class 'list'>\n",
      "<class 'list'>\n",
      "<class 'list'>\n",
      "<class 'list'>\n",
      "<class 'list'>\n",
      "<class 'list'>\n",
      "<class 'list'>\n",
      "<class 'list'>\n",
      "<class 'list'>\n",
      "<class 'list'>\n",
      "<class 'list'>\n",
      "<class 'list'>\n",
      "<class 'list'>\n",
      "<class 'list'>\n",
      "<class 'list'>\n",
      "<class 'list'>\n",
      "<class 'list'>\n",
      "<class 'list'>\n",
      "<class 'list'>\n",
      "<class 'list'>\n",
      "<class 'list'>\n",
      "<class 'list'>\n",
      "<class 'list'>\n",
      "<class 'list'>\n",
      "<class 'list'>\n",
      "<class 'list'>\n",
      "<class 'list'>\n",
      "<class 'list'>\n",
      "<class 'list'>\n",
      "<class 'list'>\n",
      "<class 'list'>\n",
      "<class 'list'>\n",
      "<class 'list'>\n",
      "<class 'list'>\n",
      "<class 'list'>\n",
      "<class 'list'>\n",
      "<class 'list'>\n",
      "<class 'list'>\n",
      "<class 'list'>\n",
      "<class 'list'>\n",
      "<class 'list'>\n",
      "<class 'list'>\n",
      "<class 'list'>\n",
      "<class 'list'>\n",
      "<class 'list'>\n",
      "<class 'list'>\n",
      "<class 'list'>\n",
      "<class 'list'>\n",
      "<class 'list'>\n",
      "<class 'list'>\n",
      "<class 'list'>\n",
      "<class 'list'>\n",
      "<class 'list'>\n",
      "<class 'list'>\n",
      "<class 'list'>\n",
      "<class 'list'>\n",
      "<class 'list'>\n",
      "<class 'list'>\n",
      "<class 'list'>\n",
      "<class 'list'>\n",
      "<class 'list'>\n",
      "<class 'list'>\n",
      "<class 'list'>\n",
      "<class 'list'>\n",
      "<class 'list'>\n",
      "<class 'list'>\n",
      "<class 'list'>\n",
      "<class 'list'>\n",
      "<class 'list'>\n",
      "<class 'list'>\n",
      "<class 'list'>\n",
      "<class 'list'>\n",
      "<class 'list'>\n",
      "<class 'list'>\n",
      "<class 'list'>\n",
      "<class 'list'>\n",
      "<class 'list'>\n",
      "<class 'list'>\n",
      "<class 'list'>\n",
      "<class 'list'>\n",
      "<class 'list'>\n",
      "<class 'list'>\n",
      "<class 'list'>\n",
      "<class 'list'>\n",
      "<class 'list'>\n",
      "<class 'list'>\n",
      "<class 'list'>\n",
      "<class 'list'>\n",
      "<class 'list'>\n",
      "<class 'list'>\n",
      "<class 'list'>\n",
      "<class 'list'>\n",
      "<class 'list'>\n",
      "<class 'list'>\n",
      "<class 'list'>\n",
      "<class 'list'>\n",
      "<class 'list'>\n",
      "<class 'list'>\n",
      "<class 'list'>\n",
      "<class 'list'>\n",
      "<class 'list'>\n",
      "<class 'list'>\n",
      "<class 'list'>\n",
      "<class 'list'>\n",
      "<class 'list'>\n",
      "<class 'list'>\n",
      "<class 'list'>\n",
      "<class 'list'>\n",
      "<class 'list'>\n",
      "<class 'list'>\n",
      "<class 'list'>\n",
      "<class 'list'>\n",
      "<class 'list'>\n",
      "<class 'list'>\n",
      "<class 'list'>\n",
      "<class 'list'>\n",
      "<class 'list'>\n",
      "<class 'list'>\n",
      "<class 'list'>\n",
      "<class 'list'>\n",
      "<class 'list'>\n",
      "<class 'list'>\n",
      "<class 'list'>\n",
      "<class 'list'>\n",
      "<class 'list'>\n",
      "<class 'list'>\n",
      "<class 'list'>\n",
      "<class 'list'>\n",
      "<class 'list'>\n",
      "<class 'list'>\n",
      "<class 'list'>\n",
      "<class 'list'>\n",
      "<class 'list'>\n",
      "<class 'list'>\n",
      "<class 'list'>\n",
      "<class 'list'>\n",
      "<class 'list'>\n",
      "<class 'list'>\n",
      "<class 'list'>\n",
      "<class 'list'>\n",
      "<class 'list'>\n",
      "<class 'list'>\n",
      "<class 'list'>\n",
      "<class 'list'>\n",
      "<class 'list'>\n",
      "<class 'list'>\n",
      "<class 'list'>\n",
      "<class 'list'>\n",
      "<class 'list'>\n",
      "<class 'list'>\n",
      "<class 'list'>\n",
      "<class 'list'>\n",
      "<class 'list'>\n",
      "<class 'list'>\n",
      "<class 'list'>\n",
      "<class 'list'>\n",
      "<class 'list'>\n",
      "<class 'list'>\n",
      "<class 'list'>\n",
      "<class 'list'>\n",
      "<class 'list'>\n",
      "<class 'list'>\n",
      "<class 'list'>\n",
      "<class 'list'>\n",
      "<class 'list'>\n",
      "<class 'list'>\n",
      "<class 'list'>\n",
      "<class 'list'>\n",
      "<class 'list'>\n",
      "<class 'list'>\n",
      "<class 'list'>\n",
      "<class 'list'>\n",
      "<class 'list'>\n",
      "<class 'list'>\n",
      "<class 'list'>\n",
      "<class 'list'>\n",
      "<class 'list'>\n",
      "<class 'list'>\n",
      "<class 'list'>\n",
      "<class 'list'>\n",
      "<class 'list'>\n",
      "<class 'list'>\n",
      "<class 'list'>\n",
      "<class 'list'>\n",
      "<class 'list'>\n",
      "<class 'list'>\n",
      "<class 'list'>\n",
      "<class 'list'>\n",
      "<class 'list'>\n",
      "<class 'list'>\n",
      "<class 'list'>\n",
      "<class 'list'>\n",
      "<class 'list'>\n",
      "<class 'list'>\n",
      "<class 'list'>\n",
      "<class 'list'>\n",
      "<class 'list'>\n",
      "<class 'list'>\n",
      "<class 'list'>\n",
      "<class 'list'>\n",
      "<class 'list'>\n",
      "<class 'list'>\n",
      "<class 'list'>\n",
      "<class 'list'>\n",
      "<class 'list'>\n",
      "<class 'list'>\n",
      "<class 'list'>\n",
      "<class 'list'>\n",
      "<class 'list'>\n",
      "<class 'list'>\n",
      "<class 'list'>\n",
      "<class 'list'>\n",
      "<class 'list'>\n",
      "<class 'list'>\n",
      "<class 'list'>\n",
      "<class 'list'>\n",
      "<class 'list'>\n",
      "<class 'list'>\n",
      "<class 'list'>\n",
      "<class 'list'>\n",
      "<class 'list'>\n",
      "<class 'list'>\n",
      "<class 'list'>\n",
      "<class 'list'>\n",
      "<class 'list'>\n",
      "<class 'list'>\n",
      "<class 'list'>\n",
      "<class 'list'>\n",
      "<class 'list'>\n",
      "<class 'list'>\n",
      "<class 'list'>\n",
      "<class 'list'>\n",
      "<class 'list'>\n",
      "<class 'list'>\n",
      "<class 'list'>\n",
      "<class 'list'>\n",
      "<class 'list'>\n",
      "<class 'list'>\n",
      "<class 'list'>\n",
      "<class 'list'>\n",
      "<class 'list'>\n",
      "<class 'list'>\n",
      "<class 'list'>\n",
      "<class 'list'>\n",
      "<class 'list'>\n",
      "<class 'list'>\n",
      "<class 'list'>\n",
      "<class 'list'>\n",
      "<class 'list'>\n",
      "<class 'list'>\n",
      "<class 'list'>\n",
      "<class 'list'>\n",
      "<class 'list'>\n",
      "<class 'list'>\n",
      "<class 'list'>\n",
      "<class 'list'>\n",
      "<class 'list'>\n",
      "<class 'list'>\n",
      "<class 'list'>\n",
      "<class 'list'>\n",
      "<class 'list'>\n",
      "<class 'list'>\n",
      "<class 'list'>\n",
      "<class 'list'>\n",
      "<class 'list'>\n",
      "<class 'list'>\n",
      "<class 'list'>\n",
      "<class 'list'>\n",
      "<class 'list'>\n",
      "<class 'list'>\n",
      "Wall time: 942 ms\n"
     ]
    },
    {
     "data": {
      "text/plain": [
       "(275102, 30272204, 217, -1, -1, 7913, 3627558, 13211, 17536409, 809, -1)"
      ]
     },
     "execution_count": 29,
     "metadata": {},
     "output_type": "execute_result"
    }
   ],
   "source": [
    "%%time\n",
    "import itertools\n",
    "import math\n",
    "from multiprocessing import Pool\n",
    "\n",
    "\n",
    "def process_image(sentence):\n",
    "    cor_count=0\n",
    "    if (disambiguate(sentence[0])[0]==sentence[2][2]):\n",
    "        cor_count = cor_count+1\n",
    "    return cor_count\n",
    "\n",
    "if __name__ == '__main__':\n",
    "    pool = Pool(os.cpu_count()-1)\n",
    "    pool.map(process_image, sentences)  \n",
    "    \n",
    "disambiguate(sentences[0][0])"
   ]
  }
 ],
 "metadata": {
  "kernelspec": {
   "display_name": "Python 3",
   "language": "python",
   "name": "python3"
  },
  "language_info": {
   "codemirror_mode": {
    "name": "ipython",
    "version": 3
   },
   "file_extension": ".py",
   "mimetype": "text/x-python",
   "name": "python",
   "nbconvert_exporter": "python",
   "pygments_lexer": "ipython3",
   "version": "3.7.3"
  }
 },
 "nbformat": 4,
 "nbformat_minor": 4
}
